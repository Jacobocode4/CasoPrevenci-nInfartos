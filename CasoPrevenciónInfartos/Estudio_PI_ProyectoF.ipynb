{
 "cells": [
  {
   "cell_type": "markdown",
   "metadata": {},
   "source": [
    "### 1. Elegimos el Caso de prevención de Infartos"
   ]
  },
  {
   "cell_type": "code",
   "execution_count": 1,
   "metadata": {},
   "outputs": [],
   "source": [
    "#Librerías para manipulación de datos\n",
    "import numpy as np\n",
    "import pandas as pd\n",
    "import xgboost as xgb\n",
    "\n",
    "\n",
    "#Librerías para visualización de datos\n",
    "import seaborn as sns\n",
    "import matplotlib.pyplot as plt\n",
    "\n",
    "%matplotlib inline\n",
    "plt.rcParams['figure.figsize'] = (16, 9)\n",
    "plt.style.use('ggplot')\n",
    "\n",
    "#Librerías para tratamiento, modelado y evaluación de datos\n",
    "import catboost\n",
    "import sklearn\n",
    "from sklearn.feature_selection import SelectKBest\n",
    "from sklearn.metrics import confusion_matrix\n",
    "from sklearn.tree import DecisionTreeClassifier\n",
    "from sklearn.metrics import accuracy_score, log_loss\n",
    "from sklearn import tree\n",
    "from sklearn.metrics import classification_report\n",
    "from sklearn.metrics import accuracy_score\n",
    "from sklearn.model_selection import KFold,cross_val_score\n",
    "from sklearn.ensemble import RandomForestClassifier\n",
    "from catboost import CatBoostClassifier"
   ]
  },
  {
   "cell_type": "code",
   "execution_count": 2,
   "metadata": {},
   "outputs": [],
   "source": [
    "# Carga de Datos \n",
    "infartos = pd.read_csv('2_DS_train_enf_corazon.csv',sep = \";\",encoding = 'latin1') "
   ]
  },
  {
   "cell_type": "markdown",
   "metadata": {},
   "source": [
    "### 2. Descripcción general de las Variables"
   ]
  },
  {
   "cell_type": "code",
   "execution_count": 3,
   "metadata": {},
   "outputs": [
    {
     "data": {
      "text/plain": [
       "(43400, 12)"
      ]
     },
     "execution_count": 3,
     "metadata": {},
     "output_type": "execute_result"
    }
   ],
   "source": [
    "# Visualizamos la dimensionalidad\n",
    "infartos.shape"
   ]
  },
  {
   "cell_type": "code",
   "execution_count": 4,
   "metadata": {},
   "outputs": [
    {
     "data": {
      "text/html": [
       "<div>\n",
       "<style scoped>\n",
       "    .dataframe tbody tr th:only-of-type {\n",
       "        vertical-align: middle;\n",
       "    }\n",
       "\n",
       "    .dataframe tbody tr th {\n",
       "        vertical-align: top;\n",
       "    }\n",
       "\n",
       "    .dataframe thead th {\n",
       "        text-align: right;\n",
       "    }\n",
       "</style>\n",
       "<table border=\"1\" class=\"dataframe\">\n",
       "  <thead>\n",
       "    <tr style=\"text-align: right;\">\n",
       "      <th></th>\n",
       "      <th>ID</th>\n",
       "      <th>Genero</th>\n",
       "      <th>Edad</th>\n",
       "      <th>Flag_hipertension</th>\n",
       "      <th>Flag_problem_cardiaco</th>\n",
       "      <th>Estados_civil</th>\n",
       "      <th>Tipo_trabajo</th>\n",
       "      <th>Zona_residencia</th>\n",
       "      <th>Promedio_nivel_glucosa</th>\n",
       "      <th>IMC</th>\n",
       "      <th>Flag_fumador</th>\n",
       "      <th>Ataque_cardiaco</th>\n",
       "    </tr>\n",
       "  </thead>\n",
       "  <tbody>\n",
       "    <tr>\n",
       "      <th>0</th>\n",
       "      <td>30669</td>\n",
       "      <td>Hombre</td>\n",
       "      <td>3.0</td>\n",
       "      <td>0</td>\n",
       "      <td>0</td>\n",
       "      <td>No</td>\n",
       "      <td>cuidar_ninos</td>\n",
       "      <td>Rural</td>\n",
       "      <td>95.12</td>\n",
       "      <td>18.0</td>\n",
       "      <td>NaN</td>\n",
       "      <td>0</td>\n",
       "    </tr>\n",
       "    <tr>\n",
       "      <th>1</th>\n",
       "      <td>30468</td>\n",
       "      <td>Hombre</td>\n",
       "      <td>58.0</td>\n",
       "      <td>1</td>\n",
       "      <td>0</td>\n",
       "      <td>Si</td>\n",
       "      <td>Empresa_privada</td>\n",
       "      <td>Urbano</td>\n",
       "      <td>87.96</td>\n",
       "      <td>39.2</td>\n",
       "      <td>Nunca_fuma</td>\n",
       "      <td>0</td>\n",
       "    </tr>\n",
       "    <tr>\n",
       "      <th>2</th>\n",
       "      <td>16523</td>\n",
       "      <td>Mujer</td>\n",
       "      <td>8.0</td>\n",
       "      <td>0</td>\n",
       "      <td>0</td>\n",
       "      <td>No</td>\n",
       "      <td>Empresa_privada</td>\n",
       "      <td>Urbano</td>\n",
       "      <td>110.89</td>\n",
       "      <td>17.6</td>\n",
       "      <td>NaN</td>\n",
       "      <td>0</td>\n",
       "    </tr>\n",
       "    <tr>\n",
       "      <th>3</th>\n",
       "      <td>56543</td>\n",
       "      <td>Mujer</td>\n",
       "      <td>70.0</td>\n",
       "      <td>0</td>\n",
       "      <td>0</td>\n",
       "      <td>Si</td>\n",
       "      <td>Empresa_privada</td>\n",
       "      <td>Rural</td>\n",
       "      <td>69.04</td>\n",
       "      <td>35.9</td>\n",
       "      <td>antes_fumaba</td>\n",
       "      <td>0</td>\n",
       "    </tr>\n",
       "    <tr>\n",
       "      <th>4</th>\n",
       "      <td>46136</td>\n",
       "      <td>Hombre</td>\n",
       "      <td>14.0</td>\n",
       "      <td>0</td>\n",
       "      <td>0</td>\n",
       "      <td>No</td>\n",
       "      <td>Nunca_trabajo</td>\n",
       "      <td>Rural</td>\n",
       "      <td>161.28</td>\n",
       "      <td>19.1</td>\n",
       "      <td>NaN</td>\n",
       "      <td>0</td>\n",
       "    </tr>\n",
       "  </tbody>\n",
       "</table>\n",
       "</div>"
      ],
      "text/plain": [
       "      ID  Genero  Edad  Flag_hipertension  Flag_problem_cardiaco  \\\n",
       "0  30669  Hombre   3.0                  0                      0   \n",
       "1  30468  Hombre  58.0                  1                      0   \n",
       "2  16523   Mujer   8.0                  0                      0   \n",
       "3  56543   Mujer  70.0                  0                      0   \n",
       "4  46136  Hombre  14.0                  0                      0   \n",
       "\n",
       "  Estados_civil     Tipo_trabajo Zona_residencia  Promedio_nivel_glucosa  \\\n",
       "0            No     cuidar_ninos           Rural                   95.12   \n",
       "1            Si  Empresa_privada          Urbano                   87.96   \n",
       "2            No  Empresa_privada          Urbano                  110.89   \n",
       "3            Si  Empresa_privada           Rural                   69.04   \n",
       "4            No    Nunca_trabajo           Rural                  161.28   \n",
       "\n",
       "    IMC  Flag_fumador  Ataque_cardiaco  \n",
       "0  18.0           NaN                0  \n",
       "1  39.2    Nunca_fuma                0  \n",
       "2  17.6           NaN                0  \n",
       "3  35.9  antes_fumaba                0  \n",
       "4  19.1           NaN                0  "
      ]
     },
     "execution_count": 4,
     "metadata": {},
     "output_type": "execute_result"
    }
   ],
   "source": [
    "# Visualizamos el archivo\n",
    "infartos.head()"
   ]
  },
  {
   "cell_type": "code",
   "execution_count": 5,
   "metadata": {},
   "outputs": [
    {
     "name": "stdout",
     "output_type": "stream",
     "text": [
      "<class 'pandas.core.frame.DataFrame'>\n",
      "RangeIndex: 43400 entries, 0 to 43399\n",
      "Data columns (total 12 columns):\n",
      " #   Column                  Non-Null Count  Dtype  \n",
      "---  ------                  --------------  -----  \n",
      " 0   ID                      43400 non-null  int64  \n",
      " 1   Genero                  43400 non-null  object \n",
      " 2   Edad                    43400 non-null  float64\n",
      " 3   Flag_hipertension       43400 non-null  int64  \n",
      " 4   Flag_problem_cardiaco   43400 non-null  int64  \n",
      " 5   Estados_civil           43400 non-null  object \n",
      " 6   Tipo_trabajo            43400 non-null  object \n",
      " 7   Zona_residencia         43400 non-null  object \n",
      " 8   Promedio_nivel_glucosa  43400 non-null  float64\n",
      " 9   IMC                     41938 non-null  float64\n",
      " 10  Flag_fumador            30108 non-null  object \n",
      " 11  Ataque_cardiaco         43400 non-null  int64  \n",
      "dtypes: float64(3), int64(4), object(5)\n",
      "memory usage: 4.0+ MB\n"
     ]
    }
   ],
   "source": [
    "# Descripción de las variables \n",
    "infartos.info()"
   ]
  },
  {
   "cell_type": "markdown",
   "metadata": {},
   "source": [
    "### 3. Entendimiento de los datos\n",
    "### 4. Tratamiento de datos"
   ]
  },
  {
   "cell_type": "code",
   "execution_count": 6,
   "metadata": {},
   "outputs": [
    {
     "name": "stdout",
     "output_type": "stream",
     "text": [
      "Valores faltantes por columna:\n",
      "ID                            0\n",
      "Genero                        0\n",
      "Edad                          0\n",
      "Flag_hipertension             0\n",
      "Flag_problem_cardiaco         0\n",
      "Estados_civil                 0\n",
      "Tipo_trabajo                  0\n",
      "Zona_residencia               0\n",
      "Promedio_nivel_glucosa        0\n",
      "IMC                        1462\n",
      "Flag_fumador              13292\n",
      "Ataque_cardiaco               0\n",
      "dtype: int64\n"
     ]
    }
   ],
   "source": [
    "print('Valores faltantes por columna:')\n",
    "print(infartos.isnull().sum())\n",
    "# Análisis:\n",
    "# Poodemos observar las que dos de nuestras variables contienen NaN, \n",
    "# 'Flag_fumador' y 'IMC'"
   ]
  },
  {
   "cell_type": "code",
   "execution_count": 7,
   "metadata": {},
   "outputs": [
    {
     "data": {
      "text/plain": [
       "array([nan, 'Nunca_fuma', 'antes_fumaba', 'fumador'], dtype=object)"
      ]
     },
     "execution_count": 7,
     "metadata": {},
     "output_type": "execute_result"
    }
   ],
   "source": [
    "infartos['Flag_fumador'].unique()\n",
    "# Observamos que la variable tiene 4 tipos de valores:"
   ]
  },
  {
   "cell_type": "code",
   "execution_count": 8,
   "metadata": {},
   "outputs": [
    {
     "data": {
      "text/plain": [
       "<bound method Series.sort_index of Flag_fumador\n",
       "Nunca_fuma      16053\n",
       "antes_fumaba     7493\n",
       "fumador          6562\n",
       "Name: count, dtype: int64>"
      ]
     },
     "execution_count": 8,
     "metadata": {},
     "output_type": "execute_result"
    }
   ],
   "source": [
    "infartos['Flag_fumador'].value_counts().sort_index"
   ]
  },
  {
   "cell_type": "code",
   "execution_count": 9,
   "metadata": {},
   "outputs": [
    {
     "data": {
      "text/html": [
       "<div>\n",
       "<style scoped>\n",
       "    .dataframe tbody tr th:only-of-type {\n",
       "        vertical-align: middle;\n",
       "    }\n",
       "\n",
       "    .dataframe tbody tr th {\n",
       "        vertical-align: top;\n",
       "    }\n",
       "\n",
       "    .dataframe thead th {\n",
       "        text-align: right;\n",
       "    }\n",
       "</style>\n",
       "<table border=\"1\" class=\"dataframe\">\n",
       "  <thead>\n",
       "    <tr style=\"text-align: right;\">\n",
       "      <th></th>\n",
       "      <th>ID</th>\n",
       "      <th>Edad</th>\n",
       "      <th>Flag_hipertension</th>\n",
       "      <th>Flag_problem_cardiaco</th>\n",
       "      <th>Promedio_nivel_glucosa</th>\n",
       "      <th>IMC</th>\n",
       "      <th>Ataque_cardiaco</th>\n",
       "    </tr>\n",
       "  </thead>\n",
       "  <tbody>\n",
       "    <tr>\n",
       "      <th>count</th>\n",
       "      <td>43400.000000</td>\n",
       "      <td>43400.000000</td>\n",
       "      <td>43400.000000</td>\n",
       "      <td>43400.000000</td>\n",
       "      <td>43400.000000</td>\n",
       "      <td>41938.000000</td>\n",
       "      <td>43400.000000</td>\n",
       "    </tr>\n",
       "    <tr>\n",
       "      <th>mean</th>\n",
       "      <td>36326.142350</td>\n",
       "      <td>42.217894</td>\n",
       "      <td>0.093571</td>\n",
       "      <td>0.047512</td>\n",
       "      <td>104.482750</td>\n",
       "      <td>28.605038</td>\n",
       "      <td>0.018041</td>\n",
       "    </tr>\n",
       "    <tr>\n",
       "      <th>std</th>\n",
       "      <td>21072.134879</td>\n",
       "      <td>22.519649</td>\n",
       "      <td>0.291235</td>\n",
       "      <td>0.212733</td>\n",
       "      <td>43.111751</td>\n",
       "      <td>7.770020</td>\n",
       "      <td>0.133103</td>\n",
       "    </tr>\n",
       "    <tr>\n",
       "      <th>min</th>\n",
       "      <td>1.000000</td>\n",
       "      <td>0.080000</td>\n",
       "      <td>0.000000</td>\n",
       "      <td>0.000000</td>\n",
       "      <td>55.000000</td>\n",
       "      <td>10.100000</td>\n",
       "      <td>0.000000</td>\n",
       "    </tr>\n",
       "    <tr>\n",
       "      <th>25%</th>\n",
       "      <td>18038.500000</td>\n",
       "      <td>24.000000</td>\n",
       "      <td>0.000000</td>\n",
       "      <td>0.000000</td>\n",
       "      <td>77.540000</td>\n",
       "      <td>23.200000</td>\n",
       "      <td>0.000000</td>\n",
       "    </tr>\n",
       "    <tr>\n",
       "      <th>50%</th>\n",
       "      <td>36351.500000</td>\n",
       "      <td>44.000000</td>\n",
       "      <td>0.000000</td>\n",
       "      <td>0.000000</td>\n",
       "      <td>91.580000</td>\n",
       "      <td>27.700000</td>\n",
       "      <td>0.000000</td>\n",
       "    </tr>\n",
       "    <tr>\n",
       "      <th>75%</th>\n",
       "      <td>54514.250000</td>\n",
       "      <td>60.000000</td>\n",
       "      <td>0.000000</td>\n",
       "      <td>0.000000</td>\n",
       "      <td>112.070000</td>\n",
       "      <td>32.900000</td>\n",
       "      <td>0.000000</td>\n",
       "    </tr>\n",
       "    <tr>\n",
       "      <th>max</th>\n",
       "      <td>72943.000000</td>\n",
       "      <td>82.000000</td>\n",
       "      <td>1.000000</td>\n",
       "      <td>1.000000</td>\n",
       "      <td>291.050000</td>\n",
       "      <td>97.600000</td>\n",
       "      <td>1.000000</td>\n",
       "    </tr>\n",
       "  </tbody>\n",
       "</table>\n",
       "</div>"
      ],
      "text/plain": [
       "                 ID          Edad  Flag_hipertension  Flag_problem_cardiaco  \\\n",
       "count  43400.000000  43400.000000       43400.000000           43400.000000   \n",
       "mean   36326.142350     42.217894           0.093571               0.047512   \n",
       "std    21072.134879     22.519649           0.291235               0.212733   \n",
       "min        1.000000      0.080000           0.000000               0.000000   \n",
       "25%    18038.500000     24.000000           0.000000               0.000000   \n",
       "50%    36351.500000     44.000000           0.000000               0.000000   \n",
       "75%    54514.250000     60.000000           0.000000               0.000000   \n",
       "max    72943.000000     82.000000           1.000000               1.000000   \n",
       "\n",
       "       Promedio_nivel_glucosa           IMC  Ataque_cardiaco  \n",
       "count            43400.000000  41938.000000     43400.000000  \n",
       "mean               104.482750     28.605038         0.018041  \n",
       "std                 43.111751      7.770020         0.133103  \n",
       "min                 55.000000     10.100000         0.000000  \n",
       "25%                 77.540000     23.200000         0.000000  \n",
       "50%                 91.580000     27.700000         0.000000  \n",
       "75%                112.070000     32.900000         0.000000  \n",
       "max                291.050000     97.600000         1.000000  "
      ]
     },
     "execution_count": 9,
     "metadata": {},
     "output_type": "execute_result"
    }
   ],
   "source": [
    "infartos.describe()"
   ]
  },
  {
   "cell_type": "code",
   "execution_count": 10,
   "metadata": {},
   "outputs": [
    {
     "name": "stdout",
     "output_type": "stream",
     "text": [
      "El coeficiente de variación de la edad en el estudio es es:  53.34147808412026\n"
     ]
    }
   ],
   "source": [
    "# Calculamos el coeficiente de variación de la edad \n",
    "std_edad = infartos['Edad'].std()\n",
    "mean_edad = infartos['Edad'].mean()\n",
    "\n",
    "cv_Edad = (std_edad / mean_edad) * 100\n",
    "print('El coeficiente de variación de la edad en el estudio es es: ', cv_Edad)"
   ]
  },
  {
   "cell_type": "code",
   "execution_count": 11,
   "metadata": {},
   "outputs": [
    {
     "data": {
      "text/plain": [
       "<Axes: xlabel='Genero', ylabel='Edad'>"
      ]
     },
     "execution_count": 11,
     "metadata": {},
     "output_type": "execute_result"
    },
    {
     "data": {
      "image/png": "[encoded data removed]",
      "text/plain": [
       "<Figure size 1200x600 with 1 Axes>"
      ]
     },
     "metadata": {},
     "output_type": "display_data"
    }
   ],
   "source": [
    "# Diagrama de Cajas para validar si existen outliers\n",
    "plt.figure(figsize=(12,6))\n",
    "sns.boxplot(x=\"Genero\",y=\"Edad\", hue=\"Ataque_cardiaco\", data=infartos)\n",
    "\n",
    "# Análisis: \n",
    "# Podemos determinar que hay más infartos en las personas de \n",
    "# mayor edad. \n",
    "# Los outliers no son significativos."
   ]
  },
  {
   "cell_type": "code",
   "execution_count": 12,
   "metadata": {},
   "outputs": [
    {
     "data": {
      "text/plain": [
       "<Axes: xlabel='Edad', ylabel='count'>"
      ]
     },
     "execution_count": 12,
     "metadata": {},
     "output_type": "execute_result"
    },
    {
     "data": {
      "image/png": "[encoded data removed]",
      "text/plain": [
       "<Figure size 1600x900 with 1 Axes>"
      ]
     },
     "metadata": {},
     "output_type": "display_data"
    }
   ],
   "source": [
    "sns.countplot(data = infartos, x = \"Edad\")\n",
    "# Distribución de cantidad por edad"
   ]
  },
  {
   "cell_type": "code",
   "execution_count": 13,
   "metadata": {},
   "outputs": [
    {
     "data": {
      "text/plain": [
       "<Axes: xlabel='Genero', ylabel='Promedio_nivel_glucosa'>"
      ]
     },
     "execution_count": 13,
     "metadata": {},
     "output_type": "execute_result"
    },
    {
     "data": {
      "image/png": "[encoded data removed]",
      "text/plain": [
       "<Figure size 1200x600 with 1 Axes>"
      ]
     },
     "metadata": {},
     "output_type": "display_data"
    }
   ],
   "source": [
    "# Diagrama de Cajas para validar si existen outliers\n",
    "plt.figure(figsize=(12,6))\n",
    "sns.boxplot(x=\"Genero\",y=\"Promedio_nivel_glucosa\", hue=\"Ataque_cardiaco\", data=infartos)\n",
    "\n",
    "# Análisis: Podemos determinar que hay Outliers en esta variable"
   ]
  },
  {
   "cell_type": "code",
   "execution_count": 14,
   "metadata": {},
   "outputs": [
    {
     "data": {
      "text/plain": [
       "0.0     55.000\n",
       "0.1     66.180\n",
       "0.2     74.350\n",
       "0.3     80.370\n",
       "0.4     85.626\n",
       "0.5     91.580\n",
       "0.6     98.240\n",
       "0.7    106.370\n",
       "0.8    120.290\n",
       "0.9    180.952\n",
       "Name: Promedio_nivel_glucosa, dtype: float64"
      ]
     },
     "execution_count": 14,
     "metadata": {},
     "output_type": "execute_result"
    }
   ],
   "source": [
    "infartos['Promedio_nivel_glucosa'].quantile(np.arange(0,1,0.1))"
   ]
  },
  {
   "cell_type": "code",
   "execution_count": 15,
   "metadata": {},
   "outputs": [
    {
     "data": {
      "text/plain": [
       "0.80    120.2900\n",
       "0.81    122.7419\n",
       "0.82    125.3118\n",
       "0.83    128.3117\n",
       "0.84    132.1916\n",
       "0.85    136.8115\n",
       "0.86    142.1000\n",
       "0.87    149.2678\n",
       "0.88    158.4112\n",
       "0.89    170.0655\n",
       "0.90    180.9520\n",
       "0.91    189.0600\n",
       "0.92    196.0824\n",
       "0.93    201.5800\n",
       "0.94    207.1200\n",
       "0.95    212.0415\n",
       "0.96    216.8800\n",
       "0.97    222.6903\n",
       "0.98    229.3810\n",
       "0.99    239.1902\n",
       "Name: Promedio_nivel_glucosa, dtype: float64"
      ]
     },
     "execution_count": 15,
     "metadata": {},
     "output_type": "execute_result"
    }
   ],
   "source": [
    "infartos['Promedio_nivel_glucosa'].quantile(np.arange(0.8,1,0.01))"
   ]
  },
  {
   "cell_type": "code",
   "execution_count": 16,
   "metadata": {},
   "outputs": [],
   "source": [
    "# Defno la función para filtrar los outliers\n",
    "# clip() es el comando para recorte o limitación de valores\n",
    "def outlier_capping(x):\n",
    "    x = x.clip(upper=x.quantile(0.85))\n",
    "\n",
    "    return(x)\n",
    "\n",
    "# Aplico la función para hacer el tratamiento a la variable target\n",
    "# función lambda sirve para que recorra todas las filas posibles\n",
    "# Se esta reemplazando los outliers con los valores maximos del cuartil 0.95\n",
    "infartos_tratamiento = infartos[['Promedio_nivel_glucosa']].apply(lambda x: outlier_capping(x))"
   ]
  },
  {
   "cell_type": "code",
   "execution_count": 17,
   "metadata": {},
   "outputs": [],
   "source": [
    "# Unificar la nueva variable con el DF original\n",
    "infartos = pd.concat([infartos.drop(columns=['Promedio_nivel_glucosa']), infartos_tratamiento], axis=1,)"
   ]
  },
  {
   "cell_type": "code",
   "execution_count": 18,
   "metadata": {},
   "outputs": [
    {
     "data": {
      "text/html": [
       "<div>\n",
       "<style scoped>\n",
       "    .dataframe tbody tr th:only-of-type {\n",
       "        vertical-align: middle;\n",
       "    }\n",
       "\n",
       "    .dataframe tbody tr th {\n",
       "        vertical-align: top;\n",
       "    }\n",
       "\n",
       "    .dataframe thead th {\n",
       "        text-align: right;\n",
       "    }\n",
       "</style>\n",
       "<table border=\"1\" class=\"dataframe\">\n",
       "  <thead>\n",
       "    <tr style=\"text-align: right;\">\n",
       "      <th></th>\n",
       "      <th>ID</th>\n",
       "      <th>Genero</th>\n",
       "      <th>Edad</th>\n",
       "      <th>Flag_hipertension</th>\n",
       "      <th>Flag_problem_cardiaco</th>\n",
       "      <th>Estados_civil</th>\n",
       "      <th>Tipo_trabajo</th>\n",
       "      <th>Zona_residencia</th>\n",
       "      <th>IMC</th>\n",
       "      <th>Flag_fumador</th>\n",
       "      <th>Ataque_cardiaco</th>\n",
       "      <th>Promedio_nivel_glucosa</th>\n",
       "    </tr>\n",
       "  </thead>\n",
       "  <tbody>\n",
       "    <tr>\n",
       "      <th>0</th>\n",
       "      <td>30669</td>\n",
       "      <td>Hombre</td>\n",
       "      <td>3.0</td>\n",
       "      <td>0</td>\n",
       "      <td>0</td>\n",
       "      <td>No</td>\n",
       "      <td>cuidar_ninos</td>\n",
       "      <td>Rural</td>\n",
       "      <td>18.0</td>\n",
       "      <td>NaN</td>\n",
       "      <td>0</td>\n",
       "      <td>95.1200</td>\n",
       "    </tr>\n",
       "    <tr>\n",
       "      <th>1</th>\n",
       "      <td>30468</td>\n",
       "      <td>Hombre</td>\n",
       "      <td>58.0</td>\n",
       "      <td>1</td>\n",
       "      <td>0</td>\n",
       "      <td>Si</td>\n",
       "      <td>Empresa_privada</td>\n",
       "      <td>Urbano</td>\n",
       "      <td>39.2</td>\n",
       "      <td>Nunca_fuma</td>\n",
       "      <td>0</td>\n",
       "      <td>87.9600</td>\n",
       "    </tr>\n",
       "    <tr>\n",
       "      <th>2</th>\n",
       "      <td>16523</td>\n",
       "      <td>Mujer</td>\n",
       "      <td>8.0</td>\n",
       "      <td>0</td>\n",
       "      <td>0</td>\n",
       "      <td>No</td>\n",
       "      <td>Empresa_privada</td>\n",
       "      <td>Urbano</td>\n",
       "      <td>17.6</td>\n",
       "      <td>NaN</td>\n",
       "      <td>0</td>\n",
       "      <td>110.8900</td>\n",
       "    </tr>\n",
       "    <tr>\n",
       "      <th>3</th>\n",
       "      <td>56543</td>\n",
       "      <td>Mujer</td>\n",
       "      <td>70.0</td>\n",
       "      <td>0</td>\n",
       "      <td>0</td>\n",
       "      <td>Si</td>\n",
       "      <td>Empresa_privada</td>\n",
       "      <td>Rural</td>\n",
       "      <td>35.9</td>\n",
       "      <td>antes_fumaba</td>\n",
       "      <td>0</td>\n",
       "      <td>69.0400</td>\n",
       "    </tr>\n",
       "    <tr>\n",
       "      <th>4</th>\n",
       "      <td>46136</td>\n",
       "      <td>Hombre</td>\n",
       "      <td>14.0</td>\n",
       "      <td>0</td>\n",
       "      <td>0</td>\n",
       "      <td>No</td>\n",
       "      <td>Nunca_trabajo</td>\n",
       "      <td>Rural</td>\n",
       "      <td>19.1</td>\n",
       "      <td>NaN</td>\n",
       "      <td>0</td>\n",
       "      <td>136.8115</td>\n",
       "    </tr>\n",
       "  </tbody>\n",
       "</table>\n",
       "</div>"
      ],
      "text/plain": [
       "      ID  Genero  Edad  Flag_hipertension  Flag_problem_cardiaco  \\\n",
       "0  30669  Hombre   3.0                  0                      0   \n",
       "1  30468  Hombre  58.0                  1                      0   \n",
       "2  16523   Mujer   8.0                  0                      0   \n",
       "3  56543   Mujer  70.0                  0                      0   \n",
       "4  46136  Hombre  14.0                  0                      0   \n",
       "\n",
       "  Estados_civil     Tipo_trabajo Zona_residencia   IMC  Flag_fumador  \\\n",
       "0            No     cuidar_ninos           Rural  18.0           NaN   \n",
       "1            Si  Empresa_privada          Urbano  39.2    Nunca_fuma   \n",
       "2            No  Empresa_privada          Urbano  17.6           NaN   \n",
       "3            Si  Empresa_privada           Rural  35.9  antes_fumaba   \n",
       "4            No    Nunca_trabajo           Rural  19.1           NaN   \n",
       "\n",
       "   Ataque_cardiaco  Promedio_nivel_glucosa  \n",
       "0                0                 95.1200  \n",
       "1                0                 87.9600  \n",
       "2                0                110.8900  \n",
       "3                0                 69.0400  \n",
       "4                0                136.8115  "
      ]
     },
     "execution_count": 18,
     "metadata": {},
     "output_type": "execute_result"
    }
   ],
   "source": [
    "infartos.head()"
   ]
  },
  {
   "cell_type": "code",
   "execution_count": 19,
   "metadata": {},
   "outputs": [
    {
     "data": {
      "text/plain": [
       "<Axes: xlabel='Genero', ylabel='Promedio_nivel_glucosa'>"
      ]
     },
     "execution_count": 19,
     "metadata": {},
     "output_type": "execute_result"
    },
    {
     "data": {
      "image/png": "[encoded data removed]",
      "text/plain": [
       "<Figure size 1200x600 with 1 Axes>"
      ]
     },
     "metadata": {},
     "output_type": "display_data"
    }
   ],
   "source": [
    "# Diagrama de Cajas para validar si existen outliers\n",
    "plt.figure(figsize=(12,6))\n",
    "sns.boxplot(x=\"Genero\",y=\"Promedio_nivel_glucosa\", hue=\"Ataque_cardiaco\", data=infartos)\n",
    "\n",
    "# Grafico con tratamiento de Outliers para \"Promedio_nivel_glucosa\"."
   ]
  },
  {
   "cell_type": "code",
   "execution_count": 20,
   "metadata": {},
   "outputs": [
    {
     "data": {
      "text/plain": [
       "<Axes: xlabel='Genero', ylabel='IMC'>"
      ]
     },
     "execution_count": 20,
     "metadata": {},
     "output_type": "execute_result"
    },
    {
     "data": {
      "image/png": "[encoded data removed]",
      "text/plain": [
       "<Figure size 1200x600 with 1 Axes>"
      ]
     },
     "metadata": {},
     "output_type": "display_data"
    }
   ],
   "source": [
    "# Diagrama de Cajas para validar si existen outliers\n",
    "plt.figure(figsize=(12,6))\n",
    "sns.boxplot(x=\"Genero\",y=\"IMC\", hue=\"Ataque_cardiaco\", data=infartos)"
   ]
  },
  {
   "cell_type": "code",
   "execution_count": 21,
   "metadata": {},
   "outputs": [
    {
     "data": {
      "text/plain": [
       "0.0    10.1\n",
       "0.1    19.4\n",
       "0.2    22.2\n",
       "0.3    24.2\n",
       "0.4    26.0\n",
       "0.5    27.7\n",
       "0.6    29.6\n",
       "0.7    31.6\n",
       "0.8    34.3\n",
       "0.9    38.6\n",
       "Name: IMC, dtype: float64"
      ]
     },
     "execution_count": 21,
     "metadata": {},
     "output_type": "execute_result"
    }
   ],
   "source": [
    "infartos['IMC'].quantile(np.arange(0,1,0.1))"
   ]
  },
  {
   "cell_type": "code",
   "execution_count": 22,
   "metadata": {},
   "outputs": [
    {
     "data": {
      "text/plain": [
       "0.950    42.6000\n",
       "0.951    42.7000\n",
       "0.952    42.8000\n",
       "0.953    42.9000\n",
       "0.954    43.1000\n",
       "0.955    43.2000\n",
       "0.956    43.3000\n",
       "0.957    43.4000\n",
       "0.958    43.6000\n",
       "0.959    43.7000\n",
       "0.960    43.8000\n",
       "0.961    44.0000\n",
       "0.962    44.1000\n",
       "0.963    44.3000\n",
       "0.964    44.5000\n",
       "0.965    44.6000\n",
       "0.966    44.8000\n",
       "0.967    45.0000\n",
       "0.968    45.1016\n",
       "0.969    45.3000\n",
       "0.970    45.5000\n",
       "0.971    45.7000\n",
       "0.972    45.9000\n",
       "0.973    46.1000\n",
       "0.974    46.4000\n",
       "0.975    46.6000\n",
       "0.976    46.8000\n",
       "0.977    47.0000\n",
       "0.978    47.2000\n",
       "0.979    47.5000\n",
       "0.980    47.8000\n",
       "0.981    48.1000\n",
       "0.982    48.5000\n",
       "0.983    48.9000\n",
       "0.984    49.1000\n",
       "0.985    49.5000\n",
       "0.986    49.9000\n",
       "0.987    50.3000\n",
       "0.988    50.8000\n",
       "0.989    51.2000\n",
       "0.990    51.8000\n",
       "0.991    52.5000\n",
       "0.992    53.2000\n",
       "0.993    53.9000\n",
       "0.994    54.8000\n",
       "0.995    55.6000\n",
       "0.996    56.6000\n",
       "0.997    58.2000\n",
       "0.998    60.2000\n",
       "0.999    64.2000\n",
       "1.000    97.6000\n",
       "Name: IMC, dtype: float64"
      ]
     },
     "execution_count": 22,
     "metadata": {},
     "output_type": "execute_result"
    }
   ],
   "source": [
    "infartos['IMC'].quantile(np.arange(0.95,1,0.001))"
   ]
  },
  {
   "cell_type": "code",
   "execution_count": 23,
   "metadata": {},
   "outputs": [],
   "source": [
    "# Defno la función para filtrar los outliers\n",
    "# clip() es el comando para recorte o limitación de valores\n",
    "def outlier_capping(x):\n",
    "    x = x.clip(upper=x.quantile(0.95))\n",
    "\n",
    "    return(x)\n",
    "\n",
    "# Aplico la función para hacer el tratamiento a la variable target\n",
    "# función lambda sirve para que recorra todas las filas posibles\n",
    "# Se esta reemplazando los outliers con los valores maximos del cuartil 0.95\n",
    "infartos_tratamiento = infartos[['IMC']].apply(lambda x: outlier_capping(x))"
   ]
  },
  {
   "cell_type": "code",
   "execution_count": 24,
   "metadata": {},
   "outputs": [],
   "source": [
    "# Unificar la nueva variable con el DF original\n",
    "infartos = pd.concat([infartos.drop(columns=['IMC']), infartos_tratamiento], axis=1,)"
   ]
  },
  {
   "cell_type": "code",
   "execution_count": 25,
   "metadata": {},
   "outputs": [
    {
     "data": {
      "text/html": [
       "<div>\n",
       "<style scoped>\n",
       "    .dataframe tbody tr th:only-of-type {\n",
       "        vertical-align: middle;\n",
       "    }\n",
       "\n",
       "    .dataframe tbody tr th {\n",
       "        vertical-align: top;\n",
       "    }\n",
       "\n",
       "    .dataframe thead th {\n",
       "        text-align: right;\n",
       "    }\n",
       "</style>\n",
       "<table border=\"1\" class=\"dataframe\">\n",
       "  <thead>\n",
       "    <tr style=\"text-align: right;\">\n",
       "      <th></th>\n",
       "      <th>ID</th>\n",
       "      <th>Genero</th>\n",
       "      <th>Edad</th>\n",
       "      <th>Flag_hipertension</th>\n",
       "      <th>Flag_problem_cardiaco</th>\n",
       "      <th>Estados_civil</th>\n",
       "      <th>Tipo_trabajo</th>\n",
       "      <th>Zona_residencia</th>\n",
       "      <th>Flag_fumador</th>\n",
       "      <th>Ataque_cardiaco</th>\n",
       "      <th>Promedio_nivel_glucosa</th>\n",
       "      <th>IMC</th>\n",
       "    </tr>\n",
       "  </thead>\n",
       "  <tbody>\n",
       "    <tr>\n",
       "      <th>0</th>\n",
       "      <td>30669</td>\n",
       "      <td>Hombre</td>\n",
       "      <td>3.0</td>\n",
       "      <td>0</td>\n",
       "      <td>0</td>\n",
       "      <td>No</td>\n",
       "      <td>cuidar_ninos</td>\n",
       "      <td>Rural</td>\n",
       "      <td>NaN</td>\n",
       "      <td>0</td>\n",
       "      <td>95.1200</td>\n",
       "      <td>18.0</td>\n",
       "    </tr>\n",
       "    <tr>\n",
       "      <th>1</th>\n",
       "      <td>30468</td>\n",
       "      <td>Hombre</td>\n",
       "      <td>58.0</td>\n",
       "      <td>1</td>\n",
       "      <td>0</td>\n",
       "      <td>Si</td>\n",
       "      <td>Empresa_privada</td>\n",
       "      <td>Urbano</td>\n",
       "      <td>Nunca_fuma</td>\n",
       "      <td>0</td>\n",
       "      <td>87.9600</td>\n",
       "      <td>39.2</td>\n",
       "    </tr>\n",
       "    <tr>\n",
       "      <th>2</th>\n",
       "      <td>16523</td>\n",
       "      <td>Mujer</td>\n",
       "      <td>8.0</td>\n",
       "      <td>0</td>\n",
       "      <td>0</td>\n",
       "      <td>No</td>\n",
       "      <td>Empresa_privada</td>\n",
       "      <td>Urbano</td>\n",
       "      <td>NaN</td>\n",
       "      <td>0</td>\n",
       "      <td>110.8900</td>\n",
       "      <td>17.6</td>\n",
       "    </tr>\n",
       "    <tr>\n",
       "      <th>3</th>\n",
       "      <td>56543</td>\n",
       "      <td>Mujer</td>\n",
       "      <td>70.0</td>\n",
       "      <td>0</td>\n",
       "      <td>0</td>\n",
       "      <td>Si</td>\n",
       "      <td>Empresa_privada</td>\n",
       "      <td>Rural</td>\n",
       "      <td>antes_fumaba</td>\n",
       "      <td>0</td>\n",
       "      <td>69.0400</td>\n",
       "      <td>35.9</td>\n",
       "    </tr>\n",
       "    <tr>\n",
       "      <th>4</th>\n",
       "      <td>46136</td>\n",
       "      <td>Hombre</td>\n",
       "      <td>14.0</td>\n",
       "      <td>0</td>\n",
       "      <td>0</td>\n",
       "      <td>No</td>\n",
       "      <td>Nunca_trabajo</td>\n",
       "      <td>Rural</td>\n",
       "      <td>NaN</td>\n",
       "      <td>0</td>\n",
       "      <td>136.8115</td>\n",
       "      <td>19.1</td>\n",
       "    </tr>\n",
       "  </tbody>\n",
       "</table>\n",
       "</div>"
      ],
      "text/plain": [
       "      ID  Genero  Edad  Flag_hipertension  Flag_problem_cardiaco  \\\n",
       "0  30669  Hombre   3.0                  0                      0   \n",
       "1  30468  Hombre  58.0                  1                      0   \n",
       "2  16523   Mujer   8.0                  0                      0   \n",
       "3  56543   Mujer  70.0                  0                      0   \n",
       "4  46136  Hombre  14.0                  0                      0   \n",
       "\n",
       "  Estados_civil     Tipo_trabajo Zona_residencia  Flag_fumador  \\\n",
       "0            No     cuidar_ninos           Rural           NaN   \n",
       "1            Si  Empresa_privada          Urbano    Nunca_fuma   \n",
       "2            No  Empresa_privada          Urbano           NaN   \n",
       "3            Si  Empresa_privada           Rural  antes_fumaba   \n",
       "4            No    Nunca_trabajo           Rural           NaN   \n",
       "\n",
       "   Ataque_cardiaco  Promedio_nivel_glucosa   IMC  \n",
       "0                0                 95.1200  18.0  \n",
       "1                0                 87.9600  39.2  \n",
       "2                0                110.8900  17.6  \n",
       "3                0                 69.0400  35.9  \n",
       "4                0                136.8115  19.1  "
      ]
     },
     "execution_count": 25,
     "metadata": {},
     "output_type": "execute_result"
    }
   ],
   "source": [
    "infartos.head()"
   ]
  },
  {
   "cell_type": "code",
   "execution_count": 26,
   "metadata": {},
   "outputs": [
    {
     "data": {
      "text/plain": [
       "<Axes: xlabel='Genero', ylabel='IMC'>"
      ]
     },
     "execution_count": 26,
     "metadata": {},
     "output_type": "execute_result"
    },
    {
     "data": {
      "image/png": "[encoded data removed]",
      "text/plain": [
       "<Figure size 1200x600 with 1 Axes>"
      ]
     },
     "metadata": {},
     "output_type": "display_data"
    }
   ],
   "source": [
    "# Diagrama de Cajas para validar si existen outliers\n",
    "plt.figure(figsize=(12,6))\n",
    "sns.boxplot(x=\"Genero\",y=\"IMC\", hue=\"Ataque_cardiaco\", data=infartos)\n",
    "\n",
    "# Grafico con tratamiento de Outliers para \"IMC\"."
   ]
  },
  {
   "cell_type": "code",
   "execution_count": 27,
   "metadata": {},
   "outputs": [
    {
     "name": "stdout",
     "output_type": "stream",
     "text": [
      "<class 'pandas.core.frame.DataFrame'>\n",
      "RangeIndex: 43400 entries, 0 to 43399\n",
      "Data columns (total 12 columns):\n",
      " #   Column                  Non-Null Count  Dtype  \n",
      "---  ------                  --------------  -----  \n",
      " 0   ID                      43400 non-null  int64  \n",
      " 1   Genero                  43400 non-null  object \n",
      " 2   Edad                    43400 non-null  float64\n",
      " 3   Flag_hipertension       43400 non-null  int64  \n",
      " 4   Flag_problem_cardiaco   43400 non-null  int64  \n",
      " 5   Estados_civil           43400 non-null  object \n",
      " 6   Tipo_trabajo            43400 non-null  object \n",
      " 7   Zona_residencia         43400 non-null  object \n",
      " 8   Flag_fumador            30108 non-null  object \n",
      " 9   Ataque_cardiaco         43400 non-null  int64  \n",
      " 10  Promedio_nivel_glucosa  43400 non-null  float64\n",
      " 11  IMC                     41938 non-null  float64\n",
      "dtypes: float64(3), int64(4), object(5)\n",
      "memory usage: 4.0+ MB\n"
     ]
    }
   ],
   "source": [
    "infartos.info()"
   ]
  },
  {
   "cell_type": "code",
   "execution_count": 28,
   "metadata": {},
   "outputs": [
    {
     "data": {
      "text/plain": [
       "Ataque_cardiaco\n",
       "0    42617\n",
       "1      783\n",
       "dtype: int64"
      ]
     },
     "execution_count": 28,
     "metadata": {},
     "output_type": "execute_result"
    }
   ],
   "source": [
    "# Agrupar por los que ganaron y ver la caantidad\n",
    "# Calcular la distribución de la variable target\n",
    "infartos.groupby('Ataque_cardiaco').size()"
   ]
  },
  {
   "cell_type": "code",
   "execution_count": 29,
   "metadata": {},
   "outputs": [
    {
     "name": "stdout",
     "output_type": "stream",
     "text": [
      "Class 0 Sin paro cardiaco: 42617 - 98.2 %\n",
      "Class 1 Presento paro cardiaco: 783 - 1.8 %\n",
      "Proporción: 54.43 : 1\n"
     ]
    },
    {
     "data": {
      "image/png": "[encoded data removed]",
      "text/plain": [
       "<Figure size 1600x900 with 1 Axes>"
      ]
     },
     "metadata": {},
     "output_type": "display_data"
    }
   ],
   "source": [
    "# Detección del desbalance de la muestras\n",
    "target_count = infartos.Ataque_cardiaco.value_counts()\n",
    "print('Class 0 Sin paro cardiaco:', target_count[0], '-', round((target_count[0] / len(infartos)*100), 2), '%')\n",
    "print('Class 1 Presento paro cardiaco:', target_count[1], '-', round((target_count[1] / len(infartos)*100), 2), '%')\n",
    "print('Proporción:', round(target_count[0] / target_count[1], 2), ': 1')\n",
    "target_count.plot(kind='bar', title='Count (target)');\n",
    "\n",
    "#Análisis: observamos que solo el 1.8% han sufrido infartos de las personas registradas"
   ]
  },
  {
   "cell_type": "code",
   "execution_count": 30,
   "metadata": {},
   "outputs": [
    {
     "data": {
      "text/html": [
       "<div>\n",
       "<style scoped>\n",
       "    .dataframe tbody tr th:only-of-type {\n",
       "        vertical-align: middle;\n",
       "    }\n",
       "\n",
       "    .dataframe tbody tr th {\n",
       "        vertical-align: top;\n",
       "    }\n",
       "\n",
       "    .dataframe thead tr th {\n",
       "        text-align: left;\n",
       "    }\n",
       "</style>\n",
       "<table border=\"1\" class=\"dataframe\">\n",
       "  <thead>\n",
       "    <tr>\n",
       "      <th></th>\n",
       "      <th>Genero</th>\n",
       "      <th colspan=\"3\" halign=\"left\">Ataque_cardiaco</th>\n",
       "    </tr>\n",
       "    <tr>\n",
       "      <th></th>\n",
       "      <th></th>\n",
       "      <th>count</th>\n",
       "      <th>sum</th>\n",
       "      <th>mean</th>\n",
       "    </tr>\n",
       "  </thead>\n",
       "  <tbody>\n",
       "    <tr>\n",
       "      <th>0</th>\n",
       "      <td>Hombre</td>\n",
       "      <td>17724</td>\n",
       "      <td>352</td>\n",
       "      <td>0.019860</td>\n",
       "    </tr>\n",
       "    <tr>\n",
       "      <th>1</th>\n",
       "      <td>Mujer</td>\n",
       "      <td>25665</td>\n",
       "      <td>431</td>\n",
       "      <td>0.016793</td>\n",
       "    </tr>\n",
       "    <tr>\n",
       "      <th>2</th>\n",
       "      <td>Other</td>\n",
       "      <td>11</td>\n",
       "      <td>0</td>\n",
       "      <td>0.000000</td>\n",
       "    </tr>\n",
       "  </tbody>\n",
       "</table>\n",
       "</div>"
      ],
      "text/plain": [
       "   Genero Ataque_cardiaco               \n",
       "                    count  sum      mean\n",
       "0  Hombre           17724  352  0.019860\n",
       "1   Mujer           25665  431  0.016793\n",
       "2   Other              11    0  0.000000"
      ]
     },
     "execution_count": 30,
     "metadata": {},
     "output_type": "execute_result"
    }
   ],
   "source": [
    "# Determinar si la variable es significativa\n",
    "# Para que una variable sea significativa tiene que haber una disperción en los % del promedio\n",
    "infartos[['Genero','Ataque_cardiaco']].groupby(['Genero'], as_index=False).agg(['count','sum','mean'])"
   ]
  },
  {
   "cell_type": "code",
   "execution_count": 31,
   "metadata": {},
   "outputs": [
    {
     "data": {
      "text/html": [
       "<div>\n",
       "<style scoped>\n",
       "    .dataframe tbody tr th:only-of-type {\n",
       "        vertical-align: middle;\n",
       "    }\n",
       "\n",
       "    .dataframe tbody tr th {\n",
       "        vertical-align: top;\n",
       "    }\n",
       "\n",
       "    .dataframe thead tr th {\n",
       "        text-align: left;\n",
       "    }\n",
       "</style>\n",
       "<table border=\"1\" class=\"dataframe\">\n",
       "  <thead>\n",
       "    <tr>\n",
       "      <th></th>\n",
       "      <th>Flag_hipertension</th>\n",
       "      <th colspan=\"3\" halign=\"left\">Ataque_cardiaco</th>\n",
       "    </tr>\n",
       "    <tr>\n",
       "      <th></th>\n",
       "      <th></th>\n",
       "      <th>count</th>\n",
       "      <th>sum</th>\n",
       "      <th>mean</th>\n",
       "    </tr>\n",
       "  </thead>\n",
       "  <tbody>\n",
       "    <tr>\n",
       "      <th>0</th>\n",
       "      <td>0</td>\n",
       "      <td>39339</td>\n",
       "      <td>583</td>\n",
       "      <td>0.014820</td>\n",
       "    </tr>\n",
       "    <tr>\n",
       "      <th>1</th>\n",
       "      <td>1</td>\n",
       "      <td>4061</td>\n",
       "      <td>200</td>\n",
       "      <td>0.049249</td>\n",
       "    </tr>\n",
       "  </tbody>\n",
       "</table>\n",
       "</div>"
      ],
      "text/plain": [
       "  Flag_hipertension Ataque_cardiaco               \n",
       "                              count  sum      mean\n",
       "0                 0           39339  583  0.014820\n",
       "1                 1            4061  200  0.049249"
      ]
     },
     "execution_count": 31,
     "metadata": {},
     "output_type": "execute_result"
    }
   ],
   "source": [
    "# Para que una variable sea significativa tiene que haber una disperción en los % del promedio\n",
    "infartos[['Flag_hipertension','Ataque_cardiaco']].groupby(['Flag_hipertension'], as_index=False).agg(['count','sum','mean'])"
   ]
  },
  {
   "cell_type": "code",
   "execution_count": 32,
   "metadata": {},
   "outputs": [
    {
     "data": {
      "text/html": [
       "<div>\n",
       "<style scoped>\n",
       "    .dataframe tbody tr th:only-of-type {\n",
       "        vertical-align: middle;\n",
       "    }\n",
       "\n",
       "    .dataframe tbody tr th {\n",
       "        vertical-align: top;\n",
       "    }\n",
       "\n",
       "    .dataframe thead tr th {\n",
       "        text-align: left;\n",
       "    }\n",
       "</style>\n",
       "<table border=\"1\" class=\"dataframe\">\n",
       "  <thead>\n",
       "    <tr>\n",
       "      <th></th>\n",
       "      <th>Flag_problem_cardiaco</th>\n",
       "      <th colspan=\"3\" halign=\"left\">Ataque_cardiaco</th>\n",
       "    </tr>\n",
       "    <tr>\n",
       "      <th></th>\n",
       "      <th></th>\n",
       "      <th>count</th>\n",
       "      <th>sum</th>\n",
       "      <th>mean</th>\n",
       "    </tr>\n",
       "  </thead>\n",
       "  <tbody>\n",
       "    <tr>\n",
       "      <th>0</th>\n",
       "      <td>0</td>\n",
       "      <td>41338</td>\n",
       "      <td>606</td>\n",
       "      <td>0.014660</td>\n",
       "    </tr>\n",
       "    <tr>\n",
       "      <th>1</th>\n",
       "      <td>1</td>\n",
       "      <td>2062</td>\n",
       "      <td>177</td>\n",
       "      <td>0.085839</td>\n",
       "    </tr>\n",
       "  </tbody>\n",
       "</table>\n",
       "</div>"
      ],
      "text/plain": [
       "  Flag_problem_cardiaco Ataque_cardiaco               \n",
       "                                  count  sum      mean\n",
       "0                     0           41338  606  0.014660\n",
       "1                     1            2062  177  0.085839"
      ]
     },
     "execution_count": 32,
     "metadata": {},
     "output_type": "execute_result"
    }
   ],
   "source": [
    "# Para que una variable sea significativa tiene que haber una disperción en los % del promedio\n",
    "infartos[['Flag_problem_cardiaco','Ataque_cardiaco']].groupby(['Flag_problem_cardiaco'], as_index=False).agg(['count','sum','mean'])"
   ]
  },
  {
   "cell_type": "code",
   "execution_count": 33,
   "metadata": {},
   "outputs": [
    {
     "data": {
      "text/html": [
       "<div>\n",
       "<style scoped>\n",
       "    .dataframe tbody tr th:only-of-type {\n",
       "        vertical-align: middle;\n",
       "    }\n",
       "\n",
       "    .dataframe tbody tr th {\n",
       "        vertical-align: top;\n",
       "    }\n",
       "\n",
       "    .dataframe thead tr th {\n",
       "        text-align: left;\n",
       "    }\n",
       "</style>\n",
       "<table border=\"1\" class=\"dataframe\">\n",
       "  <thead>\n",
       "    <tr>\n",
       "      <th></th>\n",
       "      <th>Estados_civil</th>\n",
       "      <th colspan=\"3\" halign=\"left\">Ataque_cardiaco</th>\n",
       "    </tr>\n",
       "    <tr>\n",
       "      <th></th>\n",
       "      <th></th>\n",
       "      <th>count</th>\n",
       "      <th>sum</th>\n",
       "      <th>mean</th>\n",
       "    </tr>\n",
       "  </thead>\n",
       "  <tbody>\n",
       "    <tr>\n",
       "      <th>0</th>\n",
       "      <td>No</td>\n",
       "      <td>15462</td>\n",
       "      <td>80</td>\n",
       "      <td>0.005174</td>\n",
       "    </tr>\n",
       "    <tr>\n",
       "      <th>1</th>\n",
       "      <td>Si</td>\n",
       "      <td>27938</td>\n",
       "      <td>703</td>\n",
       "      <td>0.025163</td>\n",
       "    </tr>\n",
       "  </tbody>\n",
       "</table>\n",
       "</div>"
      ],
      "text/plain": [
       "  Estados_civil Ataque_cardiaco               \n",
       "                          count  sum      mean\n",
       "0            No           15462   80  0.005174\n",
       "1            Si           27938  703  0.025163"
      ]
     },
     "execution_count": 33,
     "metadata": {},
     "output_type": "execute_result"
    }
   ],
   "source": [
    "# Para que una variable sea significativa tiene que haber una disperción en los % del promedio\n",
    "infartos[['Estados_civil','Ataque_cardiaco']].groupby(['Estados_civil'], as_index=False).agg(['count','sum','mean'])\n",
    "\n",
    "# tiene impacto pero no lo codideramos relevante para el estudio"
   ]
  },
  {
   "cell_type": "code",
   "execution_count": 34,
   "metadata": {},
   "outputs": [
    {
     "data": {
      "text/html": [
       "<div>\n",
       "<style scoped>\n",
       "    .dataframe tbody tr th:only-of-type {\n",
       "        vertical-align: middle;\n",
       "    }\n",
       "\n",
       "    .dataframe tbody tr th {\n",
       "        vertical-align: top;\n",
       "    }\n",
       "\n",
       "    .dataframe thead tr th {\n",
       "        text-align: left;\n",
       "    }\n",
       "</style>\n",
       "<table border=\"1\" class=\"dataframe\">\n",
       "  <thead>\n",
       "    <tr>\n",
       "      <th></th>\n",
       "      <th>Zona_residencia</th>\n",
       "      <th colspan=\"3\" halign=\"left\">Ataque_cardiaco</th>\n",
       "    </tr>\n",
       "    <tr>\n",
       "      <th></th>\n",
       "      <th></th>\n",
       "      <th>count</th>\n",
       "      <th>sum</th>\n",
       "      <th>mean</th>\n",
       "    </tr>\n",
       "  </thead>\n",
       "  <tbody>\n",
       "    <tr>\n",
       "      <th>0</th>\n",
       "      <td>Rural</td>\n",
       "      <td>21644</td>\n",
       "      <td>384</td>\n",
       "      <td>0.017742</td>\n",
       "    </tr>\n",
       "    <tr>\n",
       "      <th>1</th>\n",
       "      <td>Urbano</td>\n",
       "      <td>21756</td>\n",
       "      <td>399</td>\n",
       "      <td>0.018340</td>\n",
       "    </tr>\n",
       "  </tbody>\n",
       "</table>\n",
       "</div>"
      ],
      "text/plain": [
       "  Zona_residencia Ataque_cardiaco               \n",
       "                            count  sum      mean\n",
       "0           Rural           21644  384  0.017742\n",
       "1          Urbano           21756  399  0.018340"
      ]
     },
     "execution_count": 34,
     "metadata": {},
     "output_type": "execute_result"
    }
   ],
   "source": [
    "# Para que una variable sea significativa tiene que haber una disperción en los % del promedio\n",
    "infartos[['Zona_residencia','Ataque_cardiaco']].groupby(['Zona_residencia'], as_index=False).agg(['count','sum','mean'])\n",
    "\n",
    "# No tiene significancia para el análisis"
   ]
  },
  {
   "cell_type": "code",
   "execution_count": 35,
   "metadata": {},
   "outputs": [
    {
     "data": {
      "text/html": [
       "<div>\n",
       "<style scoped>\n",
       "    .dataframe tbody tr th:only-of-type {\n",
       "        vertical-align: middle;\n",
       "    }\n",
       "\n",
       "    .dataframe tbody tr th {\n",
       "        vertical-align: top;\n",
       "    }\n",
       "\n",
       "    .dataframe thead th {\n",
       "        text-align: right;\n",
       "    }\n",
       "</style>\n",
       "<table border=\"1\" class=\"dataframe\">\n",
       "  <thead>\n",
       "    <tr style=\"text-align: right;\">\n",
       "      <th></th>\n",
       "      <th>ID</th>\n",
       "      <th>Genero</th>\n",
       "      <th>Edad</th>\n",
       "      <th>Flag_hipertension</th>\n",
       "      <th>Flag_problem_cardiaco</th>\n",
       "      <th>Estados_civil</th>\n",
       "      <th>Tipo_trabajo</th>\n",
       "      <th>Zona_residencia</th>\n",
       "      <th>Flag_fumador</th>\n",
       "      <th>Ataque_cardiaco</th>\n",
       "      <th>Promedio_nivel_glucosa</th>\n",
       "      <th>IMC</th>\n",
       "    </tr>\n",
       "  </thead>\n",
       "  <tbody>\n",
       "    <tr>\n",
       "      <th>0</th>\n",
       "      <td>30669</td>\n",
       "      <td>Hombre</td>\n",
       "      <td>3.0</td>\n",
       "      <td>0</td>\n",
       "      <td>0</td>\n",
       "      <td>No</td>\n",
       "      <td>cuidar_ninos</td>\n",
       "      <td>Rural</td>\n",
       "      <td>NaN</td>\n",
       "      <td>0</td>\n",
       "      <td>95.1200</td>\n",
       "      <td>18.0</td>\n",
       "    </tr>\n",
       "    <tr>\n",
       "      <th>1</th>\n",
       "      <td>30468</td>\n",
       "      <td>Hombre</td>\n",
       "      <td>58.0</td>\n",
       "      <td>1</td>\n",
       "      <td>0</td>\n",
       "      <td>Si</td>\n",
       "      <td>Empresa_privada</td>\n",
       "      <td>Urbano</td>\n",
       "      <td>Nunca_fuma</td>\n",
       "      <td>0</td>\n",
       "      <td>87.9600</td>\n",
       "      <td>39.2</td>\n",
       "    </tr>\n",
       "    <tr>\n",
       "      <th>2</th>\n",
       "      <td>16523</td>\n",
       "      <td>Mujer</td>\n",
       "      <td>8.0</td>\n",
       "      <td>0</td>\n",
       "      <td>0</td>\n",
       "      <td>No</td>\n",
       "      <td>Empresa_privada</td>\n",
       "      <td>Urbano</td>\n",
       "      <td>NaN</td>\n",
       "      <td>0</td>\n",
       "      <td>110.8900</td>\n",
       "      <td>17.6</td>\n",
       "    </tr>\n",
       "    <tr>\n",
       "      <th>3</th>\n",
       "      <td>56543</td>\n",
       "      <td>Mujer</td>\n",
       "      <td>70.0</td>\n",
       "      <td>0</td>\n",
       "      <td>0</td>\n",
       "      <td>Si</td>\n",
       "      <td>Empresa_privada</td>\n",
       "      <td>Rural</td>\n",
       "      <td>antes_fumaba</td>\n",
       "      <td>0</td>\n",
       "      <td>69.0400</td>\n",
       "      <td>35.9</td>\n",
       "    </tr>\n",
       "    <tr>\n",
       "      <th>4</th>\n",
       "      <td>46136</td>\n",
       "      <td>Hombre</td>\n",
       "      <td>14.0</td>\n",
       "      <td>0</td>\n",
       "      <td>0</td>\n",
       "      <td>No</td>\n",
       "      <td>Nunca_trabajo</td>\n",
       "      <td>Rural</td>\n",
       "      <td>NaN</td>\n",
       "      <td>0</td>\n",
       "      <td>136.8115</td>\n",
       "      <td>19.1</td>\n",
       "    </tr>\n",
       "  </tbody>\n",
       "</table>\n",
       "</div>"
      ],
      "text/plain": [
       "      ID  Genero  Edad  Flag_hipertension  Flag_problem_cardiaco  \\\n",
       "0  30669  Hombre   3.0                  0                      0   \n",
       "1  30468  Hombre  58.0                  1                      0   \n",
       "2  16523   Mujer   8.0                  0                      0   \n",
       "3  56543   Mujer  70.0                  0                      0   \n",
       "4  46136  Hombre  14.0                  0                      0   \n",
       "\n",
       "  Estados_civil     Tipo_trabajo Zona_residencia  Flag_fumador  \\\n",
       "0            No     cuidar_ninos           Rural           NaN   \n",
       "1            Si  Empresa_privada          Urbano    Nunca_fuma   \n",
       "2            No  Empresa_privada          Urbano           NaN   \n",
       "3            Si  Empresa_privada           Rural  antes_fumaba   \n",
       "4            No    Nunca_trabajo           Rural           NaN   \n",
       "\n",
       "   Ataque_cardiaco  Promedio_nivel_glucosa   IMC  \n",
       "0                0                 95.1200  18.0  \n",
       "1                0                 87.9600  39.2  \n",
       "2                0                110.8900  17.6  \n",
       "3                0                 69.0400  35.9  \n",
       "4                0                136.8115  19.1  "
      ]
     },
     "execution_count": 35,
     "metadata": {},
     "output_type": "execute_result"
    }
   ],
   "source": [
    "infartos.head()"
   ]
  },
  {
   "cell_type": "code",
   "execution_count": 36,
   "metadata": {},
   "outputs": [
    {
     "name": "stdout",
     "output_type": "stream",
     "text": [
      "Valores faltantes por columna:\n",
      "ID                            0\n",
      "Genero                        0\n",
      "Edad                          0\n",
      "Flag_hipertension             0\n",
      "Flag_problem_cardiaco         0\n",
      "Estados_civil                 0\n",
      "Tipo_trabajo                  0\n",
      "Zona_residencia               0\n",
      "Flag_fumador              13292\n",
      "Ataque_cardiaco               0\n",
      "Promedio_nivel_glucosa        0\n",
      "IMC                        1462\n",
      "dtype: int64\n"
     ]
    }
   ],
   "source": [
    "print('Valores faltantes por columna:')\n",
    "print(infartos.isnull().sum())"
   ]
  },
  {
   "cell_type": "code",
   "execution_count": 37,
   "metadata": {},
   "outputs": [
    {
     "name": "stdout",
     "output_type": "stream",
     "text": [
      "IMC Promedio: 28.3200701034861\n",
      "Desvió Std IMC: 6.9988238122106745\n",
      "Intervalo para asignar el IMC aleatoria: 21 a 35\n"
     ]
    }
   ],
   "source": [
    "#Vamos a generar un intervalo de confianza para imputar los valores nulos del IMC\n",
    "imc_avg = infartos['IMC'].mean()\n",
    "imc_std = infartos['IMC'].std()\n",
    "# Cuenta la cantidad de los nulos\n",
    "imc_null_count = infartos['IMC'].isnull().sum()\n",
    "# hacemos lista de variación / random(limt min, limit max, tamaño)\n",
    "age_null_random_list = np.random.randint(imc_avg - imc_std, imc_avg + imc_std, size=imc_null_count)\n",
    "\n",
    "conValoresNulos = np.isnan(infartos['IMC'])\n",
    "\n",
    "infartos.loc[np.isnan(infartos['IMC']), 'IMC'] = age_null_random_list\n",
    "infartos['IMC'] = infartos['IMC'].astype(int)\n",
    "\n",
    "print(\"IMC Promedio: \" + str(imc_avg))\n",
    "print(\"Desvió Std IMC: \" + str(imc_std))\n",
    "print(\"Intervalo para asignar el IMC aleatoria: \" + str(int(imc_avg - imc_std)) + \" a \" + str(int(imc_avg + imc_std)))"
   ]
  },
  {
   "cell_type": "code",
   "execution_count": 38,
   "metadata": {},
   "outputs": [],
   "source": [
    "def imc_fix(imc):\n",
    "    if imc==0:\n",
    "        return None\n",
    "    return imc\n",
    "\n",
    "infartos['IMC']=infartos.apply(lambda x: imc_fix(x['IMC']), axis=1);"
   ]
  },
  {
   "cell_type": "code",
   "execution_count": 39,
   "metadata": {},
   "outputs": [
    {
     "name": "stdout",
     "output_type": "stream",
     "text": [
      "ID                            0\n",
      "Genero                        0\n",
      "Edad                          0\n",
      "Flag_hipertension             0\n",
      "Flag_problem_cardiaco         0\n",
      "Estados_civil                 0\n",
      "Tipo_trabajo                  0\n",
      "Zona_residencia               0\n",
      "Flag_fumador              13292\n",
      "Ataque_cardiaco               0\n",
      "Promedio_nivel_glucosa        0\n",
      "IMC                           0\n",
      "dtype: int64\n"
     ]
    }
   ],
   "source": [
    "print(infartos.isnull().sum())"
   ]
  },
  {
   "cell_type": "code",
   "execution_count": 40,
   "metadata": {},
   "outputs": [
    {
     "data": {
      "text/plain": [
       "<bound method Series.sort_index of Flag_fumador\n",
       "Nunca_fuma      16053\n",
       "antes_fumaba     7493\n",
       "fumador          6562\n",
       "Name: count, dtype: int64>"
      ]
     },
     "execution_count": 40,
     "metadata": {},
     "output_type": "execute_result"
    }
   ],
   "source": [
    "infartos['Flag_fumador'].value_counts().sort_index"
   ]
  },
  {
   "cell_type": "code",
   "execution_count": 41,
   "metadata": {},
   "outputs": [
    {
     "data": {
      "text/plain": [
       "array([nan, 'Nunca_fuma', 'antes_fumaba', 'fumador'], dtype=object)"
      ]
     },
     "execution_count": 41,
     "metadata": {},
     "output_type": "execute_result"
    }
   ],
   "source": [
    "infartos['Flag_fumador'].unique()"
   ]
  },
  {
   "cell_type": "code",
   "execution_count": 42,
   "metadata": {},
   "outputs": [],
   "source": [
    "# Procedemos a hacer el Mapping de Flag_fumador\n",
    "infartos['FFumador_Encoded'] = infartos['Flag_fumador'].map({'Nunca_fuma': 1, \n",
    "                                                              'antes_fumaba': 2, \n",
    "                                                              'fumador': 3\n",
    "                                                              }).fillna(0).astype(int)"
   ]
  },
  {
   "cell_type": "code",
   "execution_count": 43,
   "metadata": {},
   "outputs": [
    {
     "name": "stdout",
     "output_type": "stream",
     "text": [
      "FF Promedio: 1.168778801843318\n",
      "Desvió Std FF: 1.0272525044656768\n",
      "Intervalo para asignar FF aleatoria: 0 a 2\n"
     ]
    }
   ],
   "source": [
    "# Encuentra la cantidad de ceros en la columna 'IMC'\n",
    "Cantidad_ceros_FF = (infartos['FFumador_Encoded'] == 0).sum()\n",
    "\n",
    "# Calcula el rango para la generación de números aleatorios\n",
    "mean_FF = infartos['FFumador_Encoded'].mean()\n",
    "std_FF = infartos['FFumador_Encoded'].std()\n",
    "\n",
    "# Genera una lista aleatoria del mismo tamaño que la cantidad de ceros\n",
    "lista_random_paraCeros_FF = np.random.randint(1, 2, size=Cantidad_ceros_FF)\n",
    "\n",
    "infartos.loc[infartos['FFumador_Encoded'] == 0, 'FFumador_Encoded'] = lista_random_paraCeros_FF\n",
    "infartos['FFumador_Encoded'] = infartos['FFumador_Encoded'].astype(int)\n",
    "\n",
    "print(\"FF Promedio: \" + str(mean_FF))\n",
    "print(\"Desvió Std FF: \" + str(std_FF))\n",
    "print(\"Intervalo para asignar FF aleatoria: \" + str(int(mean_FF - std_FF)) + \" a \" + str(int(mean_FF + std_FF)))\n",
    "\n",
    "# Excluimos el 0 de la ramdom list ya que representan los valores que\n",
    "# eran nulos"
   ]
  },
  {
   "cell_type": "code",
   "execution_count": 44,
   "metadata": {},
   "outputs": [],
   "source": [
    "def FF_fix(fum):\n",
    "    if fum == 0:\n",
    "        return True\n",
    "    return fum\n",
    "\n",
    "infartos['FFumador_Encoded']=infartos.apply(lambda x: FF_fix(x['FFumador_Encoded']), axis=1);"
   ]
  },
  {
   "cell_type": "code",
   "execution_count": 45,
   "metadata": {},
   "outputs": [],
   "source": [
    "#median_infartos = infartos['FFumador_Encoded'].median(skipna=True)\n",
    "#print(median_infartos)\n",
    "#infartos = infartos.replace(0, median_infartos)\n",
    "#sns.countplot(data= infartos, x='FFumador_Encoded')\n"
   ]
  },
  {
   "cell_type": "code",
   "execution_count": 46,
   "metadata": {},
   "outputs": [
    {
     "data": {
      "text/plain": [
       "array([1, 2, 3], dtype=int64)"
      ]
     },
     "execution_count": 46,
     "metadata": {},
     "output_type": "execute_result"
    }
   ],
   "source": [
    "infartos['FFumador_Encoded'].unique()"
   ]
  },
  {
   "cell_type": "code",
   "execution_count": 47,
   "metadata": {},
   "outputs": [
    {
     "data": {
      "text/plain": [
       "<bound method Series.sort_index of FFumador_Encoded\n",
       "1    29345\n",
       "2     7493\n",
       "3     6562\n",
       "Name: count, dtype: int64>"
      ]
     },
     "execution_count": 47,
     "metadata": {},
     "output_type": "execute_result"
    }
   ],
   "source": [
    "#'Nunca_fuma': 1, \n",
    "#'antes_fumaba': 2, \n",
    "#'fumador': 3\n",
    "infartos['FFumador_Encoded'].value_counts().sort_index"
   ]
  },
  {
   "cell_type": "code",
   "execution_count": 48,
   "metadata": {},
   "outputs": [
    {
     "data": {
      "text/plain": [
       "<Axes: xlabel='FFumador_Encoded', ylabel='count'>"
      ]
     },
     "execution_count": 48,
     "metadata": {},
     "output_type": "execute_result"
    },
    {
     "data": {
      "image/png": "[encoded data removed]",
      "text/plain": [
       "<Figure size 1600x900 with 1 Axes>"
      ]
     },
     "metadata": {},
     "output_type": "display_data"
    }
   ],
   "source": [
    "sns.countplot(data= infartos, x='FFumador_Encoded')"
   ]
  },
  {
   "cell_type": "code",
   "execution_count": 49,
   "metadata": {},
   "outputs": [
    {
     "name": "stdout",
     "output_type": "stream",
     "text": [
      "<class 'pandas.core.frame.DataFrame'>\n",
      "RangeIndex: 43400 entries, 0 to 43399\n",
      "Data columns (total 13 columns):\n",
      " #   Column                  Non-Null Count  Dtype  \n",
      "---  ------                  --------------  -----  \n",
      " 0   ID                      43400 non-null  int64  \n",
      " 1   Genero                  43400 non-null  object \n",
      " 2   Edad                    43400 non-null  float64\n",
      " 3   Flag_hipertension       43400 non-null  int64  \n",
      " 4   Flag_problem_cardiaco   43400 non-null  int64  \n",
      " 5   Estados_civil           43400 non-null  object \n",
      " 6   Tipo_trabajo            43400 non-null  object \n",
      " 7   Zona_residencia         43400 non-null  object \n",
      " 8   Flag_fumador            30108 non-null  object \n",
      " 9   Ataque_cardiaco         43400 non-null  int64  \n",
      " 10  Promedio_nivel_glucosa  43400 non-null  float64\n",
      " 11  IMC                     43400 non-null  int64  \n",
      " 12  FFumador_Encoded        43400 non-null  int64  \n",
      "dtypes: float64(2), int64(6), object(5)\n",
      "memory usage: 4.3+ MB\n"
     ]
    }
   ],
   "source": [
    "infartos.info()"
   ]
  },
  {
   "cell_type": "code",
   "execution_count": 50,
   "metadata": {},
   "outputs": [
    {
     "data": {
      "text/plain": [
       "array(['Hombre', 'Mujer', 'Other'], dtype=object)"
      ]
     },
     "execution_count": 50,
     "metadata": {},
     "output_type": "execute_result"
    }
   ],
   "source": [
    "infartos['Genero'].unique()"
   ]
  },
  {
   "cell_type": "code",
   "execution_count": 51,
   "metadata": {},
   "outputs": [],
   "source": [
    "# Procedemos a hacer el Mapping de Flag_fumador\n",
    "infartos['Genero_Encoded'] = infartos['Genero'].map( {'Other': 0, \n",
    "                                                        'Hombre': 1, \n",
    "                                                        'Mujer': 2} ).astype(int)"
   ]
  },
  {
   "cell_type": "code",
   "execution_count": 52,
   "metadata": {},
   "outputs": [],
   "source": [
    "# Mapping Edad\n",
    "# Infancia: 0 a 11 años\n",
    "# Adolecencia: 12 a 18 años\n",
    "# Adultez Temprana: 19 a 27 años\n",
    "# Adultez: 28 a 59 años\n",
    "# Vejez: 60 en adelante\n",
    "\n",
    "infartos.loc[ infartos['Edad'] <= 11, 'Edad'] = 0\n",
    "infartos.loc[(infartos['Edad'] > 11) & (infartos['Edad'] <= 18), 'Edad'] = 1\n",
    "infartos.loc[(infartos['Edad'] > 18) & (infartos['Edad'] <= 27), 'Edad'] = 2\n",
    "infartos.loc[(infartos['Edad'] > 27) & (infartos['Edad'] <= 59), 'Edad'] = 3\n",
    "infartos.loc[ infartos['Edad'] > 60, 'Edad'] = 4"
   ]
  },
  {
   "cell_type": "code",
   "execution_count": 53,
   "metadata": {},
   "outputs": [],
   "source": [
    "# Mapping IMC\n",
    "# IMC es menos de 18.5, se encuentra dentro del rango de peso insuficiente.\n",
    "# IMC es entre 18.5 y 24.9, se encuentra dentro del rango de peso normal o saludable.\n",
    "# IMC es entre 25.0 y 29.9, se encuentra dentro del rango de sobrepeso\n",
    "# IMC es 30.0 o superior, se encuentra dentro del rango de obesidad.\n",
    "\n",
    "infartos.loc[ infartos['IMC'] <= 18, 'IMC'] = 0\n",
    "infartos.loc[(infartos['IMC'] > 18) & (infartos['IMC'] <= 25), 'IMC'] = 1\n",
    "infartos.loc[(infartos['IMC'] > 25) & (infartos['IMC'] <= 30), 'IMC'] = 2\n",
    "infartos.loc[ infartos['IMC'] > 30, 'IMC'] = 3"
   ]
  },
  {
   "cell_type": "code",
   "execution_count": 54,
   "metadata": {},
   "outputs": [],
   "source": [
    "# Mapping Glucosa\n",
    "# Menos de 100 mg/dL (5,6 mmol/L) se considera normal.\n",
    "#Entre 100 y 125 mg/dL (5,6 a 6,9 mmol/L) se diagnostica como prediabetes.\n",
    "#126 mg/dL (7,0 mmol/L) o más en dos pruebas distintas se diagnostica como diabetes.\n",
    "\n",
    "infartos.loc[ infartos['Promedio_nivel_glucosa'] <= 100, 'Promedio_nivel_glucosa'] = 0\n",
    "infartos.loc[(infartos['Promedio_nivel_glucosa'] > 100) & (infartos['Promedio_nivel_glucosa'] <= 125), 'Promedio_nivel_glucosa'] = 1\n",
    "infartos.loc[ infartos['Promedio_nivel_glucosa'] > 125, 'Promedio_nivel_glucosa'] = 2"
   ]
  },
  {
   "cell_type": "code",
   "execution_count": 55,
   "metadata": {},
   "outputs": [],
   "source": [
    "# Procedemos a hacer el Mapping de Zona_residencia\n",
    "infartos['ZonaR_Encoded'] = infartos['Zona_residencia'].map( {'Urbano': 0, \n",
    "                                                        'Rural': 1 \n",
    "                                                        } ).astype(int)"
   ]
  },
  {
   "cell_type": "code",
   "execution_count": 56,
   "metadata": {},
   "outputs": [],
   "source": [
    "# Procedemos a hacer el Mapping de Zona_residencia\n",
    "infartos['EstadoC_Encoded'] = infartos['Estados_civil'].map( {'No': 0, \n",
    "                                                        'Si': 1 \n",
    "                                                        } ).astype(int)"
   ]
  },
  {
   "cell_type": "code",
   "execution_count": 57,
   "metadata": {},
   "outputs": [
    {
     "data": {
      "text/html": [
       "<div>\n",
       "<style scoped>\n",
       "    .dataframe tbody tr th:only-of-type {\n",
       "        vertical-align: middle;\n",
       "    }\n",
       "\n",
       "    .dataframe tbody tr th {\n",
       "        vertical-align: top;\n",
       "    }\n",
       "\n",
       "    .dataframe thead th {\n",
       "        text-align: right;\n",
       "    }\n",
       "</style>\n",
       "<table border=\"1\" class=\"dataframe\">\n",
       "  <thead>\n",
       "    <tr style=\"text-align: right;\">\n",
       "      <th></th>\n",
       "      <th>ID</th>\n",
       "      <th>Genero</th>\n",
       "      <th>Edad</th>\n",
       "      <th>Flag_hipertension</th>\n",
       "      <th>Flag_problem_cardiaco</th>\n",
       "      <th>Estados_civil</th>\n",
       "      <th>Tipo_trabajo</th>\n",
       "      <th>Zona_residencia</th>\n",
       "      <th>Flag_fumador</th>\n",
       "      <th>Ataque_cardiaco</th>\n",
       "      <th>Promedio_nivel_glucosa</th>\n",
       "      <th>IMC</th>\n",
       "      <th>FFumador_Encoded</th>\n",
       "      <th>Genero_Encoded</th>\n",
       "      <th>ZonaR_Encoded</th>\n",
       "      <th>EstadoC_Encoded</th>\n",
       "    </tr>\n",
       "  </thead>\n",
       "  <tbody>\n",
       "    <tr>\n",
       "      <th>0</th>\n",
       "      <td>30669</td>\n",
       "      <td>Hombre</td>\n",
       "      <td>0.0</td>\n",
       "      <td>0</td>\n",
       "      <td>0</td>\n",
       "      <td>No</td>\n",
       "      <td>cuidar_ninos</td>\n",
       "      <td>Rural</td>\n",
       "      <td>NaN</td>\n",
       "      <td>0</td>\n",
       "      <td>0.0</td>\n",
       "      <td>0</td>\n",
       "      <td>1</td>\n",
       "      <td>1</td>\n",
       "      <td>1</td>\n",
       "      <td>0</td>\n",
       "    </tr>\n",
       "    <tr>\n",
       "      <th>1</th>\n",
       "      <td>30468</td>\n",
       "      <td>Hombre</td>\n",
       "      <td>3.0</td>\n",
       "      <td>1</td>\n",
       "      <td>0</td>\n",
       "      <td>Si</td>\n",
       "      <td>Empresa_privada</td>\n",
       "      <td>Urbano</td>\n",
       "      <td>Nunca_fuma</td>\n",
       "      <td>0</td>\n",
       "      <td>0.0</td>\n",
       "      <td>3</td>\n",
       "      <td>1</td>\n",
       "      <td>1</td>\n",
       "      <td>0</td>\n",
       "      <td>1</td>\n",
       "    </tr>\n",
       "    <tr>\n",
       "      <th>2</th>\n",
       "      <td>16523</td>\n",
       "      <td>Mujer</td>\n",
       "      <td>0.0</td>\n",
       "      <td>0</td>\n",
       "      <td>0</td>\n",
       "      <td>No</td>\n",
       "      <td>Empresa_privada</td>\n",
       "      <td>Urbano</td>\n",
       "      <td>NaN</td>\n",
       "      <td>0</td>\n",
       "      <td>1.0</td>\n",
       "      <td>0</td>\n",
       "      <td>1</td>\n",
       "      <td>2</td>\n",
       "      <td>0</td>\n",
       "      <td>0</td>\n",
       "    </tr>\n",
       "    <tr>\n",
       "      <th>3</th>\n",
       "      <td>56543</td>\n",
       "      <td>Mujer</td>\n",
       "      <td>4.0</td>\n",
       "      <td>0</td>\n",
       "      <td>0</td>\n",
       "      <td>Si</td>\n",
       "      <td>Empresa_privada</td>\n",
       "      <td>Rural</td>\n",
       "      <td>antes_fumaba</td>\n",
       "      <td>0</td>\n",
       "      <td>0.0</td>\n",
       "      <td>3</td>\n",
       "      <td>2</td>\n",
       "      <td>2</td>\n",
       "      <td>1</td>\n",
       "      <td>1</td>\n",
       "    </tr>\n",
       "    <tr>\n",
       "      <th>4</th>\n",
       "      <td>46136</td>\n",
       "      <td>Hombre</td>\n",
       "      <td>1.0</td>\n",
       "      <td>0</td>\n",
       "      <td>0</td>\n",
       "      <td>No</td>\n",
       "      <td>Nunca_trabajo</td>\n",
       "      <td>Rural</td>\n",
       "      <td>NaN</td>\n",
       "      <td>0</td>\n",
       "      <td>2.0</td>\n",
       "      <td>1</td>\n",
       "      <td>1</td>\n",
       "      <td>1</td>\n",
       "      <td>1</td>\n",
       "      <td>0</td>\n",
       "    </tr>\n",
       "  </tbody>\n",
       "</table>\n",
       "</div>"
      ],
      "text/plain": [
       "      ID  Genero  Edad  Flag_hipertension  Flag_problem_cardiaco  \\\n",
       "0  30669  Hombre   0.0                  0                      0   \n",
       "1  30468  Hombre   3.0                  1                      0   \n",
       "2  16523   Mujer   0.0                  0                      0   \n",
       "3  56543   Mujer   4.0                  0                      0   \n",
       "4  46136  Hombre   1.0                  0                      0   \n",
       "\n",
       "  Estados_civil     Tipo_trabajo Zona_residencia  Flag_fumador  \\\n",
       "0            No     cuidar_ninos           Rural           NaN   \n",
       "1            Si  Empresa_privada          Urbano    Nunca_fuma   \n",
       "2            No  Empresa_privada          Urbano           NaN   \n",
       "3            Si  Empresa_privada           Rural  antes_fumaba   \n",
       "4            No    Nunca_trabajo           Rural           NaN   \n",
       "\n",
       "   Ataque_cardiaco  Promedio_nivel_glucosa  IMC  FFumador_Encoded  \\\n",
       "0                0                     0.0    0                 1   \n",
       "1                0                     0.0    3                 1   \n",
       "2                0                     1.0    0                 1   \n",
       "3                0                     0.0    3                 2   \n",
       "4                0                     2.0    1                 1   \n",
       "\n",
       "   Genero_Encoded  ZonaR_Encoded  EstadoC_Encoded  \n",
       "0               1              1                0  \n",
       "1               1              0                1  \n",
       "2               2              0                0  \n",
       "3               2              1                1  \n",
       "4               1              1                0  "
      ]
     },
     "execution_count": 57,
     "metadata": {},
     "output_type": "execute_result"
    }
   ],
   "source": [
    "infartos.head()"
   ]
  },
  {
   "cell_type": "code",
   "execution_count": 58,
   "metadata": {},
   "outputs": [
    {
     "name": "stdout",
     "output_type": "stream",
     "text": [
      "<class 'pandas.core.frame.DataFrame'>\n",
      "RangeIndex: 43400 entries, 0 to 43399\n",
      "Data columns (total 16 columns):\n",
      " #   Column                  Non-Null Count  Dtype  \n",
      "---  ------                  --------------  -----  \n",
      " 0   ID                      43400 non-null  int64  \n",
      " 1   Genero                  43400 non-null  object \n",
      " 2   Edad                    43400 non-null  float64\n",
      " 3   Flag_hipertension       43400 non-null  int64  \n",
      " 4   Flag_problem_cardiaco   43400 non-null  int64  \n",
      " 5   Estados_civil           43400 non-null  object \n",
      " 6   Tipo_trabajo            43400 non-null  object \n",
      " 7   Zona_residencia         43400 non-null  object \n",
      " 8   Flag_fumador            30108 non-null  object \n",
      " 9   Ataque_cardiaco         43400 non-null  int64  \n",
      " 10  Promedio_nivel_glucosa  43400 non-null  float64\n",
      " 11  IMC                     43400 non-null  int64  \n",
      " 12  FFumador_Encoded        43400 non-null  int64  \n",
      " 13  Genero_Encoded          43400 non-null  int32  \n",
      " 14  ZonaR_Encoded           43400 non-null  int32  \n",
      " 15  EstadoC_Encoded         43400 non-null  int32  \n",
      "dtypes: float64(2), int32(3), int64(6), object(5)\n",
      "memory usage: 4.8+ MB\n"
     ]
    }
   ],
   "source": [
    "infartos.info()"
   ]
  },
  {
   "cell_type": "markdown",
   "metadata": {},
   "source": [
    "Seleccionamos las variables con las que vamos a trabajar "
   ]
  },
  {
   "cell_type": "code",
   "execution_count": 59,
   "metadata": {},
   "outputs": [],
   "source": [
    "infartos_data = infartos\n",
    "drop_elements = ['ID','Genero','Estados_civil', 'Tipo_trabajo', 'Zona_residencia', 'Flag_fumador']\n",
    "infartos_encoded = infartos_data.drop(drop_elements, axis = 1)"
   ]
  },
  {
   "cell_type": "code",
   "execution_count": 60,
   "metadata": {},
   "outputs": [
    {
     "data": {
      "text/html": [
       "<div>\n",
       "<style scoped>\n",
       "    .dataframe tbody tr th:only-of-type {\n",
       "        vertical-align: middle;\n",
       "    }\n",
       "\n",
       "    .dataframe tbody tr th {\n",
       "        vertical-align: top;\n",
       "    }\n",
       "\n",
       "    .dataframe thead th {\n",
       "        text-align: right;\n",
       "    }\n",
       "</style>\n",
       "<table border=\"1\" class=\"dataframe\">\n",
       "  <thead>\n",
       "    <tr style=\"text-align: right;\">\n",
       "      <th></th>\n",
       "      <th>Edad</th>\n",
       "      <th>Flag_hipertension</th>\n",
       "      <th>Flag_problem_cardiaco</th>\n",
       "      <th>Ataque_cardiaco</th>\n",
       "      <th>Promedio_nivel_glucosa</th>\n",
       "      <th>IMC</th>\n",
       "      <th>FFumador_Encoded</th>\n",
       "      <th>Genero_Encoded</th>\n",
       "      <th>ZonaR_Encoded</th>\n",
       "      <th>EstadoC_Encoded</th>\n",
       "    </tr>\n",
       "  </thead>\n",
       "  <tbody>\n",
       "    <tr>\n",
       "      <th>0</th>\n",
       "      <td>0.0</td>\n",
       "      <td>0</td>\n",
       "      <td>0</td>\n",
       "      <td>0</td>\n",
       "      <td>0.0</td>\n",
       "      <td>0</td>\n",
       "      <td>1</td>\n",
       "      <td>1</td>\n",
       "      <td>1</td>\n",
       "      <td>0</td>\n",
       "    </tr>\n",
       "    <tr>\n",
       "      <th>1</th>\n",
       "      <td>3.0</td>\n",
       "      <td>1</td>\n",
       "      <td>0</td>\n",
       "      <td>0</td>\n",
       "      <td>0.0</td>\n",
       "      <td>3</td>\n",
       "      <td>1</td>\n",
       "      <td>1</td>\n",
       "      <td>0</td>\n",
       "      <td>1</td>\n",
       "    </tr>\n",
       "    <tr>\n",
       "      <th>2</th>\n",
       "      <td>0.0</td>\n",
       "      <td>0</td>\n",
       "      <td>0</td>\n",
       "      <td>0</td>\n",
       "      <td>1.0</td>\n",
       "      <td>0</td>\n",
       "      <td>1</td>\n",
       "      <td>2</td>\n",
       "      <td>0</td>\n",
       "      <td>0</td>\n",
       "    </tr>\n",
       "    <tr>\n",
       "      <th>3</th>\n",
       "      <td>4.0</td>\n",
       "      <td>0</td>\n",
       "      <td>0</td>\n",
       "      <td>0</td>\n",
       "      <td>0.0</td>\n",
       "      <td>3</td>\n",
       "      <td>2</td>\n",
       "      <td>2</td>\n",
       "      <td>1</td>\n",
       "      <td>1</td>\n",
       "    </tr>\n",
       "    <tr>\n",
       "      <th>4</th>\n",
       "      <td>1.0</td>\n",
       "      <td>0</td>\n",
       "      <td>0</td>\n",
       "      <td>0</td>\n",
       "      <td>2.0</td>\n",
       "      <td>1</td>\n",
       "      <td>1</td>\n",
       "      <td>1</td>\n",
       "      <td>1</td>\n",
       "      <td>0</td>\n",
       "    </tr>\n",
       "  </tbody>\n",
       "</table>\n",
       "</div>"
      ],
      "text/plain": [
       "   Edad  Flag_hipertension  Flag_problem_cardiaco  Ataque_cardiaco  \\\n",
       "0   0.0                  0                      0                0   \n",
       "1   3.0                  1                      0                0   \n",
       "2   0.0                  0                      0                0   \n",
       "3   4.0                  0                      0                0   \n",
       "4   1.0                  0                      0                0   \n",
       "\n",
       "   Promedio_nivel_glucosa  IMC  FFumador_Encoded  Genero_Encoded  \\\n",
       "0                     0.0    0                 1               1   \n",
       "1                     0.0    3                 1               1   \n",
       "2                     1.0    0                 1               2   \n",
       "3                     0.0    3                 2               2   \n",
       "4                     2.0    1                 1               1   \n",
       "\n",
       "   ZonaR_Encoded  EstadoC_Encoded  \n",
       "0              1                0  \n",
       "1              0                1  \n",
       "2              0                0  \n",
       "3              1                1  \n",
       "4              1                0  "
      ]
     },
     "execution_count": 60,
     "metadata": {},
     "output_type": "execute_result"
    }
   ],
   "source": [
    "infartos_encoded.head()"
   ]
  },
  {
   "cell_type": "code",
   "execution_count": 61,
   "metadata": {},
   "outputs": [],
   "source": [
    "# Organizamos el orden de las columnas\n",
    "infartos_encoded = infartos_encoded.reindex(columns = ['Ataque_cardiaco', 'Edad', 'Genero_Encoded', 'IMC', 'FFumador_Encoded', 'Promedio_nivel_glucosa', 'Flag_hipertension', 'Flag_problem_cardiaco', 'ZonaR_Encoded', 'EstadoC_Encoded'])"
   ]
  },
  {
   "cell_type": "code",
   "execution_count": 62,
   "metadata": {},
   "outputs": [
    {
     "name": "stdout",
     "output_type": "stream",
     "text": [
      "<class 'pandas.core.frame.DataFrame'>\n",
      "RangeIndex: 43400 entries, 0 to 43399\n",
      "Data columns (total 10 columns):\n",
      " #   Column                  Non-Null Count  Dtype  \n",
      "---  ------                  --------------  -----  \n",
      " 0   Ataque_cardiaco         43400 non-null  int64  \n",
      " 1   Edad                    43400 non-null  float64\n",
      " 2   Genero_Encoded          43400 non-null  int32  \n",
      " 3   IMC                     43400 non-null  int64  \n",
      " 4   FFumador_Encoded        43400 non-null  int64  \n",
      " 5   Promedio_nivel_glucosa  43400 non-null  float64\n",
      " 6   Flag_hipertension       43400 non-null  int64  \n",
      " 7   Flag_problem_cardiaco   43400 non-null  int64  \n",
      " 8   ZonaR_Encoded           43400 non-null  int32  \n",
      " 9   EstadoC_Encoded         43400 non-null  int32  \n",
      "dtypes: float64(2), int32(3), int64(5)\n",
      "memory usage: 2.8 MB\n"
     ]
    }
   ],
   "source": [
    "infartos_encoded.info()"
   ]
  },
  {
   "cell_type": "code",
   "execution_count": 63,
   "metadata": {},
   "outputs": [
    {
     "data": {
      "text/plain": [
       "<Axes: title={'center': 'Pearson Correlation of Features'}>"
      ]
     },
     "execution_count": 63,
     "metadata": {},
     "output_type": "execute_result"
    },
    {
     "data": {
      "image/png": "[encoded data removed]",
      "text/plain": [
       "<Figure size 1200x1200 with 2 Axes>"
      ]
     },
     "metadata": {},
     "output_type": "display_data"
    }
   ],
   "source": [
    "# Correlación de Pearson\n",
    "colormap = plt.cm.viridis\n",
    "plt.figure(figsize=(12,12))\n",
    "plt.title('Pearson Correlation of Features', y=1.05, size=15)\n",
    "sns.heatmap(infartos_encoded.astype(float).corr(),linewidths=0.1,vmax=1.0, square=True, cmap=colormap, linecolor='white', annot=True)"
   ]
  },
  {
   "cell_type": "code",
   "execution_count": 64,
   "metadata": {},
   "outputs": [
    {
     "name": "stdout",
     "output_type": "stream",
     "text": [
      "Index(['Edad', 'IMC', 'FFumador_Encoded', 'Promedio_nivel_glucosa',\n",
      "       'Flag_hipertension', 'Flag_problem_cardiaco', 'EstadoC_Encoded'],\n",
      "      dtype='object')\n"
     ]
    }
   ],
   "source": [
    "# Saca los k=# más relevantes\n",
    "X=infartos_encoded.drop(['Ataque_cardiaco'], axis=1)\n",
    "y=infartos_encoded['Ataque_cardiaco']\n",
    "\n",
    "best=SelectKBest(k=7)\n",
    "X_new = best.fit_transform(X, y)\n",
    "X_new.shape\n",
    "selected = best.get_support(indices=True)\n",
    "print(X.columns[selected])"
   ]
  },
  {
   "cell_type": "markdown",
   "metadata": {},
   "source": [
    "### 5. Balanceo de datos"
   ]
  },
  {
   "cell_type": "code",
   "execution_count": 65,
   "metadata": {},
   "outputs": [],
   "source": [
    "# Obtenemos nuestra lista final\n",
    "drop_elements = ['Genero_Encoded','ZonaR_Encoded']\n",
    "infartos_encoded_Final = infartos_encoded.drop(drop_elements, axis = 1)"
   ]
  },
  {
   "cell_type": "code",
   "execution_count": 66,
   "metadata": {},
   "outputs": [
    {
     "name": "stdout",
     "output_type": "stream",
     "text": [
      "Class 0 No presento paro cardiaco: 42617 - 98.2 %\n",
      "Class 1 Presento paro cardiaco: 783 - 1.8 %\n",
      "Proporción: 54.43 : 1\n"
     ]
    },
    {
     "data": {
      "image/png": "[encoded data removed]",
      "text/plain": [
       "<Figure size 1600x900 with 1 Axes>"
      ]
     },
     "metadata": {},
     "output_type": "display_data"
    }
   ],
   "source": [
    "# Detección del desbalance de la muestras\n",
    "target_count = infartos.Ataque_cardiaco.value_counts()\n",
    "print('Class 0 No presento paro cardiaco:', target_count[0], '-', round((target_count[0] / len(infartos)*100), 2), '%')\n",
    "print('Class 1 Presento paro cardiaco:', target_count[1], '-', round((target_count[1] / len(infartos)*100), 2), '%')\n",
    "print('Proporción:', round(target_count[0] / target_count[1], 2), ': 1')\n",
    "target_count.plot(kind='bar', title='Count (target)');\n",
    "\n",
    "#Análisis: observamos que solo el 1.8% han sufrido infartos de las personas registradas"
   ]
  },
  {
   "cell_type": "code",
   "execution_count": 67,
   "metadata": {},
   "outputs": [
    {
     "data": {
      "text/plain": [
       "Index(['Ataque_cardiaco', 'Edad', 'IMC', 'FFumador_Encoded',\n",
       "       'Promedio_nivel_glucosa', 'Flag_hipertension', 'Flag_problem_cardiaco',\n",
       "       'EstadoC_Encoded'],\n",
       "      dtype='object')"
      ]
     },
     "execution_count": 67,
     "metadata": {},
     "output_type": "execute_result"
    }
   ],
   "source": [
    "infartos_encoded_Final.columns"
   ]
  },
  {
   "cell_type": "markdown",
   "metadata": {},
   "source": [
    "Creamos Train y Test"
   ]
  },
  {
   "cell_type": "code",
   "execution_count": 68,
   "metadata": {},
   "outputs": [],
   "source": [
    "# Seleccionaremos un 35% de los datos para estrudiar el beneficio de las estretgias de muestreo\n",
    "\n",
    "X = infartos_encoded_Final[['Edad', 'IMC', 'FFumador_Encoded', 'Promedio_nivel_glucosa','Flag_hipertension', 'Flag_problem_cardiaco', 'EstadoC_Encoded']]\n",
    "y = infartos_encoded_Final[['Ataque_cardiaco']]\n",
    "\n",
    "import sklearn.model_selection as model_selection\n",
    "X_train, X_test, y_train, y_test = model_selection.train_test_split(X, y, train_size=0.7,test_size=0.3, random_state=1206)"
   ]
  },
  {
   "cell_type": "markdown",
   "metadata": {},
   "source": [
    "Estrategias de muestreo"
   ]
  },
  {
   "cell_type": "code",
   "execution_count": 69,
   "metadata": {},
   "outputs": [],
   "source": [
    "df_train = pd.concat([X_train,y_train],axis=1)"
   ]
  },
  {
   "cell_type": "code",
   "execution_count": 70,
   "metadata": {},
   "outputs": [
    {
     "data": {
      "text/html": [
       "<div>\n",
       "<style scoped>\n",
       "    .dataframe tbody tr th:only-of-type {\n",
       "        vertical-align: middle;\n",
       "    }\n",
       "\n",
       "    .dataframe tbody tr th {\n",
       "        vertical-align: top;\n",
       "    }\n",
       "\n",
       "    .dataframe thead th {\n",
       "        text-align: right;\n",
       "    }\n",
       "</style>\n",
       "<table border=\"1\" class=\"dataframe\">\n",
       "  <thead>\n",
       "    <tr style=\"text-align: right;\">\n",
       "      <th></th>\n",
       "      <th>Edad</th>\n",
       "      <th>IMC</th>\n",
       "      <th>FFumador_Encoded</th>\n",
       "      <th>Promedio_nivel_glucosa</th>\n",
       "      <th>Flag_hipertension</th>\n",
       "      <th>Flag_problem_cardiaco</th>\n",
       "      <th>EstadoC_Encoded</th>\n",
       "      <th>Ataque_cardiaco</th>\n",
       "    </tr>\n",
       "  </thead>\n",
       "  <tbody>\n",
       "    <tr>\n",
       "      <th>26476</th>\n",
       "      <td>2.0</td>\n",
       "      <td>2</td>\n",
       "      <td>1</td>\n",
       "      <td>1.0</td>\n",
       "      <td>0</td>\n",
       "      <td>0</td>\n",
       "      <td>0</td>\n",
       "      <td>0</td>\n",
       "    </tr>\n",
       "    <tr>\n",
       "      <th>32494</th>\n",
       "      <td>0.0</td>\n",
       "      <td>0</td>\n",
       "      <td>1</td>\n",
       "      <td>2.0</td>\n",
       "      <td>0</td>\n",
       "      <td>0</td>\n",
       "      <td>0</td>\n",
       "      <td>0</td>\n",
       "    </tr>\n",
       "    <tr>\n",
       "      <th>16655</th>\n",
       "      <td>3.0</td>\n",
       "      <td>2</td>\n",
       "      <td>1</td>\n",
       "      <td>0.0</td>\n",
       "      <td>0</td>\n",
       "      <td>0</td>\n",
       "      <td>1</td>\n",
       "      <td>0</td>\n",
       "    </tr>\n",
       "  </tbody>\n",
       "</table>\n",
       "</div>"
      ],
      "text/plain": [
       "       Edad  IMC  FFumador_Encoded  Promedio_nivel_glucosa  Flag_hipertension  \\\n",
       "26476   2.0    2                 1                     1.0                  0   \n",
       "32494   0.0    0                 1                     2.0                  0   \n",
       "16655   3.0    2                 1                     0.0                  0   \n",
       "\n",
       "       Flag_problem_cardiaco  EstadoC_Encoded  Ataque_cardiaco  \n",
       "26476                      0                0                0  \n",
       "32494                      0                0                0  \n",
       "16655                      0                1                0  "
      ]
     },
     "execution_count": 70,
     "metadata": {},
     "output_type": "execute_result"
    }
   ],
   "source": [
    "df_train.head(3)"
   ]
  },
  {
   "cell_type": "code",
   "execution_count": 71,
   "metadata": {},
   "outputs": [],
   "source": [
    "#División entre máquinas con intensidad de pico\n",
    "count_class_0, count_class_1 = df_train.Ataque_cardiaco.value_counts()\n",
    "\n",
    "# Divide by class\n",
    "df_class_0 = df_train[df_train['Ataque_cardiaco'] == 0]\n",
    "df_class_1 = df_train[df_train['Ataque_cardiaco'] == 1]"
   ]
  },
  {
   "cell_type": "code",
   "execution_count": 72,
   "metadata": {},
   "outputs": [
    {
     "data": {
      "text/plain": [
       "(29816, 563)"
      ]
     },
     "execution_count": 72,
     "metadata": {},
     "output_type": "execute_result"
    }
   ],
   "source": [
    "count_class_0, count_class_1\n",
    "#len(df_class_0), len(df_class_1)"
   ]
  },
  {
   "cell_type": "markdown",
   "metadata": {},
   "source": [
    "UnderSampling"
   ]
  },
  {
   "cell_type": "code",
   "execution_count": 73,
   "metadata": {},
   "outputs": [
    {
     "name": "stdout",
     "output_type": "stream",
     "text": [
      "Estrategia de Muestreo under-sampling:\n",
      "Ataque_cardiaco\n",
      "0    563\n",
      "1    563\n",
      "Name: count, dtype: int64\n"
     ]
    },
    {
     "data": {
      "image/png": "[encoded data removed]",
      "text/plain": [
       "<Figure size 1600x900 with 1 Axes>"
      ]
     },
     "metadata": {},
     "output_type": "display_data"
    }
   ],
   "source": [
    "df_class_0_under = df_class_0.sample(count_class_1,random_state=1206)\n",
    "df_train_under = pd.concat([df_class_0_under, df_class_1], axis=0)\n",
    "\n",
    "print('Estrategia de Muestreo under-sampling:')\n",
    "print(df_train_under.Ataque_cardiaco.value_counts())\n",
    "\n",
    "df_train_under.Ataque_cardiaco.value_counts().plot(kind='bar', title='Cantidad (target)');"
   ]
  },
  {
   "cell_type": "markdown",
   "metadata": {},
   "source": [
    "OverSampling"
   ]
  },
  {
   "cell_type": "code",
   "execution_count": 74,
   "metadata": {},
   "outputs": [
    {
     "name": "stdout",
     "output_type": "stream",
     "text": [
      "Random over-sampling:\n",
      "Ataque_cardiaco\n",
      "0    29816\n",
      "1    29816\n",
      "Name: count, dtype: int64\n"
     ]
    },
    {
     "data": {
      "image/png": "[encoded data removed]",
      "text/plain": [
       "<Figure size 1600x900 with 1 Axes>"
      ]
     },
     "metadata": {},
     "output_type": "display_data"
    }
   ],
   "source": [
    "df_class_1_over = df_class_1.sample(count_class_0, replace=True)\n",
    "df_train_over = pd.concat([df_class_0, df_class_1_over], axis=0)\n",
    "\n",
    "print('Random over-sampling:')\n",
    "print(df_train_over.Ataque_cardiaco.value_counts())\n",
    "\n",
    "df_train_over.Ataque_cardiaco.value_counts().plot(kind='bar', title='Cantidad (target)');"
   ]
  },
  {
   "cell_type": "markdown",
   "metadata": {},
   "source": [
    "Obtenemos 3 DataFrames"
   ]
  },
  {
   "cell_type": "code",
   "execution_count": 75,
   "metadata": {},
   "outputs": [
    {
     "data": {
      "text/plain": [
       "Ataque_cardiaco\n",
       "0    29816\n",
       "1      563\n",
       "Name: count, dtype: int64"
      ]
     },
     "execution_count": 75,
     "metadata": {},
     "output_type": "execute_result"
    }
   ],
   "source": [
    "df_train.Ataque_cardiaco.value_counts()"
   ]
  },
  {
   "cell_type": "code",
   "execution_count": 76,
   "metadata": {},
   "outputs": [
    {
     "data": {
      "text/plain": [
       "Ataque_cardiaco\n",
       "0    563\n",
       "1    563\n",
       "Name: count, dtype: int64"
      ]
     },
     "execution_count": 76,
     "metadata": {},
     "output_type": "execute_result"
    }
   ],
   "source": [
    "df_train_under.Ataque_cardiaco.value_counts()"
   ]
  },
  {
   "cell_type": "code",
   "execution_count": 77,
   "metadata": {},
   "outputs": [
    {
     "data": {
      "text/plain": [
       "Ataque_cardiaco\n",
       "0    29816\n",
       "1    29816\n",
       "Name: count, dtype: int64"
      ]
     },
     "execution_count": 77,
     "metadata": {},
     "output_type": "execute_result"
    }
   ],
   "source": [
    "df_train_over.Ataque_cardiaco.value_counts()"
   ]
  },
  {
   "cell_type": "markdown",
   "metadata": {},
   "source": [
    "Evaluación de resultados de las estrategias de muestreo"
   ]
  },
  {
   "cell_type": "markdown",
   "metadata": {},
   "source": [
    "a. Datos Originales"
   ]
  },
  {
   "cell_type": "code",
   "execution_count": 78,
   "metadata": {},
   "outputs": [
    {
     "name": "stdout",
     "output_type": "stream",
     "text": [
      "Accuracy DATOS ORIGINALES: 98.29%\n",
      "Log Loss: 0.6173375350056166\n"
     ]
    }
   ],
   "source": [
    "model = DecisionTreeClassifier()\n",
    "model.fit(X_train, y_train)\n",
    "y_pred = model.predict(X_test)\n",
    "\n",
    "accuracy = accuracy_score(y_test, y_pred)\n",
    "print(\"Accuracy DATOS ORIGINALES: %.2f%%\" % (accuracy * 100.0))\n",
    "\n",
    "ll = log_loss(y_test, y_pred)\n",
    "print(\"Log Loss: {}\".format(ll))"
   ]
  },
  {
   "cell_type": "code",
   "execution_count": 79,
   "metadata": {},
   "outputs": [
    {
     "name": "stdout",
     "output_type": "stream",
     "text": [
      "Matriz de Confusión - DATOS ORIGINALES:\n",
      " [[12796     4]\n",
      " [  219     1]]\n",
      "Métricas de Matriz de Confusión - DATOS ORIGINALES:\n",
      "               precision    recall  f1-score   support\n",
      "\n",
      "           0       0.98      1.00      0.99     12800\n",
      "           1       0.20      0.00      0.01       220\n",
      "\n",
      "    accuracy                           0.98     13020\n",
      "   macro avg       0.59      0.50      0.50     13020\n",
      "weighted avg       0.97      0.98      0.97     13020\n",
      "\n"
     ]
    },
    {
     "name": "stderr",
     "output_type": "stream",
     "text": [
      "C:\\Users\\jacob\\AppData\\Local\\Temp\\ipykernel_3160\\843621856.py:15: UserWarning: set_ticklabels() should only be used with a fixed number of ticks, i.e. after set_ticks() or using a FixedLocator.\n",
      "  ax.set_xticklabels([''] + labels)\n",
      "C:\\Users\\jacob\\AppData\\Local\\Temp\\ipykernel_3160\\843621856.py:16: UserWarning: set_ticklabels() should only be used with a fixed number of ticks, i.e. after set_ticks() or using a FixedLocator.\n",
      "  ax.set_yticklabels([''] + labels)\n"
     ]
    },
    {
     "data": {
      "image/png": "[encoded data removed]",
      "text/plain": [
       "<Figure size 1600x900 with 2 Axes>"
      ]
     },
     "metadata": {},
     "output_type": "display_data"
    }
   ],
   "source": [
    "# EVLUANDO LA MATRIZ DE CONFUSION\n",
    "#--------------------------------------------------------------------\n",
    "conf_mat = confusion_matrix(y_true=y_test, y_pred=y_pred)\n",
    "#--------------------------------------------------------------------\n",
    "# CON TRAIN ORIGINAL\n",
    "print('Matriz de Confusión - DATOS ORIGINALES:\\n', conf_mat)\n",
    "\n",
    "print('Métricas de Matriz de Confusión - DATOS ORIGINALES:\\n',classification_report(y_test,y_pred))\n",
    "\n",
    "labels = ['Class 0', 'Class 1']\n",
    "fig = plt.figure()\n",
    "ax = fig.add_subplot(111)\n",
    "cax = ax.matshow(conf_mat, cmap=plt.cm.Blues)\n",
    "fig.colorbar(cax)\n",
    "ax.set_xticklabels([''] + labels)\n",
    "ax.set_yticklabels([''] + labels)\n",
    "plt.xlabel('Predicted')\n",
    "plt.ylabel('Expected')\n",
    "plt.show()"
   ]
  },
  {
   "cell_type": "markdown",
   "metadata": {},
   "source": [
    "b. Under Samplig"
   ]
  },
  {
   "cell_type": "code",
   "execution_count": 80,
   "metadata": {},
   "outputs": [
    {
     "name": "stdout",
     "output_type": "stream",
     "text": [
      "Accuracy UNDERSAMPLING: 72.29%\n",
      "Log Loss: 9.988133750225398\n"
     ]
    }
   ],
   "source": [
    "model = DecisionTreeClassifier()\n",
    "\n",
    "X_train_u= df_train_under[['Edad', 'IMC', 'FFumador_Encoded', 'Promedio_nivel_glucosa','Flag_hipertension', 'Flag_problem_cardiaco', 'EstadoC_Encoded']]\n",
    "y_train_u = df_train_under[['Ataque_cardiaco']]\n",
    "\n",
    "model.fit(X_train_u, y_train_u)\n",
    "y_pred = model.predict(X_test)\n",
    "\n",
    "accuracy = accuracy_score(y_test, y_pred)\n",
    "print(\"Accuracy UNDERSAMPLING: %.2f%%\" % (accuracy * 100.0))\n",
    "ll = log_loss(y_test, y_pred)\n",
    "print(\"Log Loss: {}\".format(ll))"
   ]
  },
  {
   "cell_type": "code",
   "execution_count": 81,
   "metadata": {},
   "outputs": [
    {
     "name": "stdout",
     "output_type": "stream",
     "text": [
      "Matriz de Confusión UNDERSAMPLING:\n",
      " [[9257 3543]\n",
      " [  65  155]]\n",
      "Métricas de Matriz de Confusión - UNDERSAMPLING:\n",
      "               precision    recall  f1-score   support\n",
      "\n",
      "           0       0.99      0.72      0.84     12800\n",
      "           1       0.04      0.70      0.08       220\n",
      "\n",
      "    accuracy                           0.72     13020\n",
      "   macro avg       0.52      0.71      0.46     13020\n",
      "weighted avg       0.98      0.72      0.82     13020\n",
      "\n"
     ]
    },
    {
     "name": "stderr",
     "output_type": "stream",
     "text": [
      "C:\\Users\\jacob\\AppData\\Local\\Temp\\ipykernel_3160\\1045472563.py:15: UserWarning: set_ticklabels() should only be used with a fixed number of ticks, i.e. after set_ticks() or using a FixedLocator.\n",
      "  ax.set_xticklabels([''] + labels)\n",
      "C:\\Users\\jacob\\AppData\\Local\\Temp\\ipykernel_3160\\1045472563.py:16: UserWarning: set_ticklabels() should only be used with a fixed number of ticks, i.e. after set_ticks() or using a FixedLocator.\n",
      "  ax.set_yticklabels([''] + labels)\n"
     ]
    },
    {
     "data": {
      "image/png": "[encoded data removed]",
      "text/plain": [
       "<Figure size 1600x900 with 2 Axes>"
      ]
     },
     "metadata": {},
     "output_type": "display_data"
    }
   ],
   "source": [
    "# EVLUANDO LA MATRIZ DE CONFUSION\n",
    "#--------------------------------------------------------------------\n",
    "conf_mat = confusion_matrix(y_true=y_test, y_pred=y_pred)\n",
    "#--------------------------------------------------------------------\n",
    "\n",
    "print('Matriz de Confusión UNDERSAMPLING:\\n', conf_mat)\n",
    "\n",
    "print('Métricas de Matriz de Confusión - UNDERSAMPLING:\\n',classification_report(y_test,y_pred))\n",
    "\n",
    "labels = ['Class 0', 'Class 1']\n",
    "fig = plt.figure()\n",
    "ax = fig.add_subplot(111)\n",
    "cax = ax.matshow(conf_mat, cmap=plt.cm.Blues)\n",
    "fig.colorbar(cax)\n",
    "ax.set_xticklabels([''] + labels)\n",
    "ax.set_yticklabels([''] + labels)\n",
    "plt.xlabel('Predicted')\n",
    "plt.ylabel('Expected')\n",
    "plt.show()"
   ]
  },
  {
   "cell_type": "markdown",
   "metadata": {},
   "source": [
    "c. Over Sampling"
   ]
  },
  {
   "cell_type": "code",
   "execution_count": 82,
   "metadata": {},
   "outputs": [
    {
     "name": "stdout",
     "output_type": "stream",
     "text": [
      "Accuracy OVERSAMPLING: 73.21%\n",
      "Log Loss: 9.655934179818788\n"
     ]
    }
   ],
   "source": [
    "model = DecisionTreeClassifier()\n",
    "\n",
    "X_train_o= df_train_over[['Edad', 'IMC', 'FFumador_Encoded', 'Promedio_nivel_glucosa','Flag_hipertension', 'Flag_problem_cardiaco', 'EstadoC_Encoded']]\n",
    "y_train_o = df_train_over[['Ataque_cardiaco']]\n",
    "\n",
    "model.fit(X_train_o, y_train_o)\n",
    "y_pred = model.predict(X_test)\n",
    "\n",
    "accuracy = accuracy_score(y_test, y_pred)\n",
    "print(\"Accuracy OVERSAMPLING: %.2f%%\" % (accuracy * 100.0))\n",
    "ll = log_loss(y_test, y_pred)\n",
    "print(\"Log Loss: {}\".format(ll))"
   ]
  },
  {
   "cell_type": "code",
   "execution_count": 83,
   "metadata": {},
   "outputs": [
    {
     "name": "stdout",
     "output_type": "stream",
     "text": [
      "Matriz de Confusión OVERSAMPLING:\n",
      " [[9377 3423]\n",
      " [  65  155]]\n",
      "Métricas de Matriz de Confusión - OVERSAMPLING:\n",
      "               precision    recall  f1-score   support\n",
      "\n",
      "           0       0.99      0.73      0.84     12800\n",
      "           1       0.04      0.70      0.08       220\n",
      "\n",
      "    accuracy                           0.73     13020\n",
      "   macro avg       0.52      0.72      0.46     13020\n",
      "weighted avg       0.98      0.73      0.83     13020\n",
      "\n"
     ]
    },
    {
     "name": "stderr",
     "output_type": "stream",
     "text": [
      "C:\\Users\\jacob\\AppData\\Local\\Temp\\ipykernel_3160\\3708370258.py:15: UserWarning: set_ticklabels() should only be used with a fixed number of ticks, i.e. after set_ticks() or using a FixedLocator.\n",
      "  ax.set_xticklabels([''] + labels)\n",
      "C:\\Users\\jacob\\AppData\\Local\\Temp\\ipykernel_3160\\3708370258.py:16: UserWarning: set_ticklabels() should only be used with a fixed number of ticks, i.e. after set_ticks() or using a FixedLocator.\n",
      "  ax.set_yticklabels([''] + labels)\n"
     ]
    },
    {
     "data": {
      "image/png": "[encoded data removed]",
      "text/plain": [
       "<Figure size 1600x900 with 2 Axes>"
      ]
     },
     "metadata": {},
     "output_type": "display_data"
    }
   ],
   "source": [
    "# EVLUANDO LA MATRIZ DE CONFUSION\n",
    "#--------------------------------------------------------------------\n",
    "conf_mat = confusion_matrix(y_true=y_test, y_pred=y_pred)\n",
    "#--------------------------------------------------------------------\n",
    "\n",
    "print('Matriz de Confusión OVERSAMPLING:\\n', conf_mat)\n",
    "\n",
    "print('Métricas de Matriz de Confusión - OVERSAMPLING:\\n',classification_report(y_test,y_pred))\n",
    "\n",
    "labels = ['Class 0', 'Class 1']\n",
    "fig = plt.figure()\n",
    "ax = fig.add_subplot(111)\n",
    "cax = ax.matshow(conf_mat, cmap=plt.cm.Blues)\n",
    "fig.colorbar(cax)\n",
    "ax.set_xticklabels([''] + labels)\n",
    "ax.set_yticklabels([''] + labels)\n",
    "plt.xlabel('Predicted')\n",
    "plt.ylabel('Expected')\n",
    "plt.show()"
   ]
  },
  {
   "cell_type": "markdown",
   "metadata": {},
   "source": [
    "### 6. Modelado"
   ]
  },
  {
   "cell_type": "code",
   "execution_count": 84,
   "metadata": {},
   "outputs": [
    {
     "data": {
      "text/html": [
       "<div>\n",
       "<style scoped>\n",
       "    .dataframe tbody tr th:only-of-type {\n",
       "        vertical-align: middle;\n",
       "    }\n",
       "\n",
       "    .dataframe tbody tr th {\n",
       "        vertical-align: top;\n",
       "    }\n",
       "\n",
       "    .dataframe thead th {\n",
       "        text-align: right;\n",
       "    }\n",
       "</style>\n",
       "<table border=\"1\" class=\"dataframe\">\n",
       "  <thead>\n",
       "    <tr style=\"text-align: right;\">\n",
       "      <th></th>\n",
       "      <th>Ataque_cardiaco</th>\n",
       "      <th>Edad</th>\n",
       "      <th>IMC</th>\n",
       "      <th>FFumador_Encoded</th>\n",
       "      <th>Promedio_nivel_glucosa</th>\n",
       "      <th>Flag_hipertension</th>\n",
       "      <th>Flag_problem_cardiaco</th>\n",
       "      <th>EstadoC_Encoded</th>\n",
       "    </tr>\n",
       "  </thead>\n",
       "  <tbody>\n",
       "    <tr>\n",
       "      <th>0</th>\n",
       "      <td>0</td>\n",
       "      <td>0.0</td>\n",
       "      <td>0</td>\n",
       "      <td>1</td>\n",
       "      <td>0.0</td>\n",
       "      <td>0</td>\n",
       "      <td>0</td>\n",
       "      <td>0</td>\n",
       "    </tr>\n",
       "    <tr>\n",
       "      <th>1</th>\n",
       "      <td>0</td>\n",
       "      <td>3.0</td>\n",
       "      <td>3</td>\n",
       "      <td>1</td>\n",
       "      <td>0.0</td>\n",
       "      <td>1</td>\n",
       "      <td>0</td>\n",
       "      <td>1</td>\n",
       "    </tr>\n",
       "    <tr>\n",
       "      <th>2</th>\n",
       "      <td>0</td>\n",
       "      <td>0.0</td>\n",
       "      <td>0</td>\n",
       "      <td>1</td>\n",
       "      <td>1.0</td>\n",
       "      <td>0</td>\n",
       "      <td>0</td>\n",
       "      <td>0</td>\n",
       "    </tr>\n",
       "    <tr>\n",
       "      <th>3</th>\n",
       "      <td>0</td>\n",
       "      <td>4.0</td>\n",
       "      <td>3</td>\n",
       "      <td>2</td>\n",
       "      <td>0.0</td>\n",
       "      <td>0</td>\n",
       "      <td>0</td>\n",
       "      <td>1</td>\n",
       "    </tr>\n",
       "    <tr>\n",
       "      <th>4</th>\n",
       "      <td>0</td>\n",
       "      <td>1.0</td>\n",
       "      <td>1</td>\n",
       "      <td>1</td>\n",
       "      <td>2.0</td>\n",
       "      <td>0</td>\n",
       "      <td>0</td>\n",
       "      <td>0</td>\n",
       "    </tr>\n",
       "  </tbody>\n",
       "</table>\n",
       "</div>"
      ],
      "text/plain": [
       "   Ataque_cardiaco  Edad  IMC  FFumador_Encoded  Promedio_nivel_glucosa  \\\n",
       "0                0   0.0    0                 1                     0.0   \n",
       "1                0   3.0    3                 1                     0.0   \n",
       "2                0   0.0    0                 1                     1.0   \n",
       "3                0   4.0    3                 2                     0.0   \n",
       "4                0   1.0    1                 1                     2.0   \n",
       "\n",
       "   Flag_hipertension  Flag_problem_cardiaco  EstadoC_Encoded  \n",
       "0                  0                      0                0  \n",
       "1                  1                      0                1  \n",
       "2                  0                      0                0  \n",
       "3                  0                      0                1  \n",
       "4                  0                      0                0  "
      ]
     },
     "execution_count": 84,
     "metadata": {},
     "output_type": "execute_result"
    }
   ],
   "source": [
    "infartos_encoded_Final.head()"
   ]
  },
  {
   "cell_type": "markdown",
   "metadata": {},
   "source": [
    "Declaramos los modelos"
   ]
  },
  {
   "cell_type": "code",
   "execution_count": 85,
   "metadata": {},
   "outputs": [],
   "source": [
    "model1 = xgb.XGBClassifier()\n",
    "model2 = xgb.XGBClassifier(n_estimators=20 , max_depth=8, learning_rate=0.1 , subsample=0.5)\n",
    "model3 = CatBoostClassifier()\n",
    "model4 = RandomForestClassifier()\n",
    "model5 = RandomForestClassifier(n_estimators=20, max_depth=8)\n",
    "model6 = DecisionTreeClassifier()"
   ]
  },
  {
   "cell_type": "markdown",
   "metadata": {},
   "source": [
    "Aplicamos los modelos a el DF Train de OverSampling"
   ]
  },
  {
   "cell_type": "code",
   "execution_count": 86,
   "metadata": {},
   "outputs": [
    {
     "name": "stderr",
     "output_type": "stream",
     "text": [
      "c:\\Python311\\Lib\\site-packages\\xgboost\\data.py:335: FutureWarning: is_sparse is deprecated and will be removed in a future version. Check `isinstance(dtype, pd.SparseDtype)` instead.\n",
      "  if is_sparse(dtype):\n",
      "c:\\Python311\\Lib\\site-packages\\xgboost\\data.py:338: FutureWarning: is_categorical_dtype is deprecated and will be removed in a future version. Use isinstance(dtype, CategoricalDtype) instead\n",
      "  is_categorical_dtype(dtype) or is_pa_ext_categorical_dtype(dtype)\n",
      "c:\\Python311\\Lib\\site-packages\\xgboost\\data.py:384: FutureWarning: is_categorical_dtype is deprecated and will be removed in a future version. Use isinstance(dtype, CategoricalDtype) instead\n",
      "  if is_categorical_dtype(dtype):\n",
      "c:\\Python311\\Lib\\site-packages\\xgboost\\data.py:359: FutureWarning: is_categorical_dtype is deprecated and will be removed in a future version. Use isinstance(dtype, CategoricalDtype) instead\n",
      "  return is_int or is_bool or is_float or is_categorical_dtype(dtype)\n",
      "c:\\Python311\\Lib\\site-packages\\xgboost\\data.py:384: FutureWarning: is_categorical_dtype is deprecated and will be removed in a future version. Use isinstance(dtype, CategoricalDtype) instead\n",
      "  if is_categorical_dtype(dtype):\n",
      "c:\\Python311\\Lib\\site-packages\\xgboost\\data.py:359: FutureWarning: is_categorical_dtype is deprecated and will be removed in a future version. Use isinstance(dtype, CategoricalDtype) instead\n",
      "  return is_int or is_bool or is_float or is_categorical_dtype(dtype)\n",
      "c:\\Python311\\Lib\\site-packages\\xgboost\\data.py:384: FutureWarning: is_categorical_dtype is deprecated and will be removed in a future version. Use isinstance(dtype, CategoricalDtype) instead\n",
      "  if is_categorical_dtype(dtype):\n",
      "c:\\Python311\\Lib\\site-packages\\xgboost\\data.py:359: FutureWarning: is_categorical_dtype is deprecated and will be removed in a future version. Use isinstance(dtype, CategoricalDtype) instead\n",
      "  return is_int or is_bool or is_float or is_categorical_dtype(dtype)\n",
      "c:\\Python311\\Lib\\site-packages\\xgboost\\data.py:384: FutureWarning: is_categorical_dtype is deprecated and will be removed in a future version. Use isinstance(dtype, CategoricalDtype) instead\n",
      "  if is_categorical_dtype(dtype):\n",
      "c:\\Python311\\Lib\\site-packages\\xgboost\\data.py:359: FutureWarning: is_categorical_dtype is deprecated and will be removed in a future version. Use isinstance(dtype, CategoricalDtype) instead\n",
      "  return is_int or is_bool or is_float or is_categorical_dtype(dtype)\n",
      "c:\\Python311\\Lib\\site-packages\\xgboost\\data.py:384: FutureWarning: is_categorical_dtype is deprecated and will be removed in a future version. Use isinstance(dtype, CategoricalDtype) instead\n",
      "  if is_categorical_dtype(dtype):\n",
      "c:\\Python311\\Lib\\site-packages\\xgboost\\data.py:359: FutureWarning: is_categorical_dtype is deprecated and will be removed in a future version. Use isinstance(dtype, CategoricalDtype) instead\n",
      "  return is_int or is_bool or is_float or is_categorical_dtype(dtype)\n"
     ]
    },
    {
     "data": {
      "text/html": [
       "<style>#sk-container-id-1 {color: black;}#sk-container-id-1 pre{padding: 0;}#sk-container-id-1 div.sk-toggleable {background-color: white;}#sk-container-id-1 label.sk-toggleable__label {cursor: pointer;display: block;width: 100%;margin-bottom: 0;padding: 0.3em;box-sizing: border-box;text-align: center;}#sk-container-id-1 label.sk-toggleable__label-arrow:before {content: \"▸\";float: left;margin-right: 0.25em;color: #696969;}#sk-container-id-1 label.sk-toggleable__label-arrow:hover:before {color: black;}#sk-container-id-1 div.sk-estimator:hover label.sk-toggleable__label-arrow:before {color: black;}#sk-container-id-1 div.sk-toggleable__content {max-height: 0;max-width: 0;overflow: hidden;text-align: left;background-color: #f0f8ff;}#sk-container-id-1 div.sk-toggleable__content pre {margin: 0.2em;color: black;border-radius: 0.25em;background-color: #f0f8ff;}#sk-container-id-1 input.sk-toggleable__control:checked~div.sk-toggleable__content {max-height: 200px;max-width: 100%;overflow: auto;}#sk-container-id-1 input.sk-toggleable__control:checked~label.sk-toggleable__label-arrow:before {content: \"▾\";}#sk-container-id-1 div.sk-estimator input.sk-toggleable__control:checked~label.sk-toggleable__label {background-color: #d4ebff;}#sk-container-id-1 div.sk-label input.sk-toggleable__control:checked~label.sk-toggleable__label {background-color: #d4ebff;}#sk-container-id-1 input.sk-hidden--visually {border: 0;clip: rect(1px 1px 1px 1px);clip: rect(1px, 1px, 1px, 1px);height: 1px;margin: -1px;overflow: hidden;padding: 0;position: absolute;width: 1px;}#sk-container-id-1 div.sk-estimator {font-family: monospace;background-color: #f0f8ff;border: 1px dotted black;border-radius: 0.25em;box-sizing: border-box;margin-bottom: 0.5em;}#sk-container-id-1 div.sk-estimator:hover {background-color: #d4ebff;}#sk-container-id-1 div.sk-parallel-item::after {content: \"\";width: 100%;border-bottom: 1px solid gray;flex-grow: 1;}#sk-container-id-1 div.sk-label:hover label.sk-toggleable__label {background-color: #d4ebff;}#sk-container-id-1 div.sk-serial::before {content: \"\";position: absolute;border-left: 1px solid gray;box-sizing: border-box;top: 0;bottom: 0;left: 50%;z-index: 0;}#sk-container-id-1 div.sk-serial {display: flex;flex-direction: column;align-items: center;background-color: white;padding-right: 0.2em;padding-left: 0.2em;position: relative;}#sk-container-id-1 div.sk-item {position: relative;z-index: 1;}#sk-container-id-1 div.sk-parallel {display: flex;align-items: stretch;justify-content: center;background-color: white;position: relative;}#sk-container-id-1 div.sk-item::before, #sk-container-id-1 div.sk-parallel-item::before {content: \"\";position: absolute;border-left: 1px solid gray;box-sizing: border-box;top: 0;bottom: 0;left: 50%;z-index: -1;}#sk-container-id-1 div.sk-parallel-item {display: flex;flex-direction: column;z-index: 1;position: relative;background-color: white;}#sk-container-id-1 div.sk-parallel-item:first-child::after {align-self: flex-end;width: 50%;}#sk-container-id-1 div.sk-parallel-item:last-child::after {align-self: flex-start;width: 50%;}#sk-container-id-1 div.sk-parallel-item:only-child::after {width: 0;}#sk-container-id-1 div.sk-dashed-wrapped {border: 1px dashed gray;margin: 0 0.4em 0.5em 0.4em;box-sizing: border-box;padding-bottom: 0.4em;background-color: white;}#sk-container-id-1 div.sk-label label {font-family: monospace;font-weight: bold;display: inline-block;line-height: 1.2em;}#sk-container-id-1 div.sk-label-container {text-align: center;}#sk-container-id-1 div.sk-container {/* jupyter's `normalize.less` sets `[hidden] { display: none; }` but bootstrap.min.css set `[hidden] { display: none !important; }` so we also need the `!important` here to be able to override the default hidden behavior on the sphinx rendered scikit-learn.org. See: https://github.com/scikit-learn/scikit-learn/issues/21755 */display: inline-block !important;position: relative;}#sk-container-id-1 div.sk-text-repr-fallback {display: none;}</style><div id=\"sk-container-id-1\" class=\"sk-top-container\"><div class=\"sk-text-repr-fallback\"><pre>XGBClassifier(base_score=None, booster=None, callbacks=None,\n",
       "              colsample_bylevel=None, colsample_bynode=None,\n",
       "              colsample_bytree=None, device=None, early_stopping_rounds=None,\n",
       "              enable_categorical=False, eval_metric=None, feature_types=None,\n",
       "              gamma=None, grow_policy=None, importance_type=None,\n",
       "              interaction_constraints=None, learning_rate=None, max_bin=None,\n",
       "              max_cat_threshold=None, max_cat_to_onehot=None,\n",
       "              max_delta_step=None, max_depth=None, max_leaves=None,\n",
       "              min_child_weight=None, missing=nan, monotone_constraints=None,\n",
       "              multi_strategy=None, n_estimators=None, n_jobs=None,\n",
       "              num_parallel_tree=None, random_state=None, ...)</pre><b>In a Jupyter environment, please rerun this cell to show the HTML representation or trust the notebook. <br />On GitHub, the HTML representation is unable to render, please try loading this page with nbviewer.org.</b></div><div class=\"sk-container\" hidden><div class=\"sk-item\"><div class=\"sk-estimator sk-toggleable\"><input class=\"sk-toggleable__control sk-hidden--visually\" id=\"sk-estimator-id-1\" type=\"checkbox\" checked><label for=\"sk-estimator-id-1\" class=\"sk-toggleable__label sk-toggleable__label-arrow\">XGBClassifier</label><div class=\"sk-toggleable__content\"><pre>XGBClassifier(base_score=None, booster=None, callbacks=None,\n",
       "              colsample_bylevel=None, colsample_bynode=None,\n",
       "              colsample_bytree=None, device=None, early_stopping_rounds=None,\n",
       "              enable_categorical=False, eval_metric=None, feature_types=None,\n",
       "              gamma=None, grow_policy=None, importance_type=None,\n",
       "              interaction_constraints=None, learning_rate=None, max_bin=None,\n",
       "              max_cat_threshold=None, max_cat_to_onehot=None,\n",
       "              max_delta_step=None, max_depth=None, max_leaves=None,\n",
       "              min_child_weight=None, missing=nan, monotone_constraints=None,\n",
       "              multi_strategy=None, n_estimators=None, n_jobs=None,\n",
       "              num_parallel_tree=None, random_state=None, ...)</pre></div></div></div></div></div>"
      ],
      "text/plain": [
       "XGBClassifier(base_score=None, booster=None, callbacks=None,\n",
       "              colsample_bylevel=None, colsample_bynode=None,\n",
       "              colsample_bytree=None, device=None, early_stopping_rounds=None,\n",
       "              enable_categorical=False, eval_metric=None, feature_types=None,\n",
       "              gamma=None, grow_policy=None, importance_type=None,\n",
       "              interaction_constraints=None, learning_rate=None, max_bin=None,\n",
       "              max_cat_threshold=None, max_cat_to_onehot=None,\n",
       "              max_delta_step=None, max_depth=None, max_leaves=None,\n",
       "              min_child_weight=None, missing=nan, monotone_constraints=None,\n",
       "              multi_strategy=None, n_estimators=None, n_jobs=None,\n",
       "              num_parallel_tree=None, random_state=None, ...)"
      ]
     },
     "execution_count": 86,
     "metadata": {},
     "output_type": "execute_result"
    }
   ],
   "source": [
    "model1.fit(X_train_o, y_train_o)"
   ]
  },
  {
   "cell_type": "code",
   "execution_count": 87,
   "metadata": {},
   "outputs": [
    {
     "name": "stderr",
     "output_type": "stream",
     "text": [
      "c:\\Python311\\Lib\\site-packages\\xgboost\\data.py:335: FutureWarning: is_sparse is deprecated and will be removed in a future version. Check `isinstance(dtype, pd.SparseDtype)` instead.\n",
      "  if is_sparse(dtype):\n",
      "c:\\Python311\\Lib\\site-packages\\xgboost\\data.py:338: FutureWarning: is_categorical_dtype is deprecated and will be removed in a future version. Use isinstance(dtype, CategoricalDtype) instead\n",
      "  is_categorical_dtype(dtype) or is_pa_ext_categorical_dtype(dtype)\n",
      "c:\\Python311\\Lib\\site-packages\\xgboost\\data.py:384: FutureWarning: is_categorical_dtype is deprecated and will be removed in a future version. Use isinstance(dtype, CategoricalDtype) instead\n",
      "  if is_categorical_dtype(dtype):\n",
      "c:\\Python311\\Lib\\site-packages\\xgboost\\data.py:359: FutureWarning: is_categorical_dtype is deprecated and will be removed in a future version. Use isinstance(dtype, CategoricalDtype) instead\n",
      "  return is_int or is_bool or is_float or is_categorical_dtype(dtype)\n",
      "c:\\Python311\\Lib\\site-packages\\xgboost\\data.py:384: FutureWarning: is_categorical_dtype is deprecated and will be removed in a future version. Use isinstance(dtype, CategoricalDtype) instead\n",
      "  if is_categorical_dtype(dtype):\n",
      "c:\\Python311\\Lib\\site-packages\\xgboost\\data.py:359: FutureWarning: is_categorical_dtype is deprecated and will be removed in a future version. Use isinstance(dtype, CategoricalDtype) instead\n",
      "  return is_int or is_bool or is_float or is_categorical_dtype(dtype)\n",
      "c:\\Python311\\Lib\\site-packages\\xgboost\\data.py:384: FutureWarning: is_categorical_dtype is deprecated and will be removed in a future version. Use isinstance(dtype, CategoricalDtype) instead\n",
      "  if is_categorical_dtype(dtype):\n",
      "c:\\Python311\\Lib\\site-packages\\xgboost\\data.py:359: FutureWarning: is_categorical_dtype is deprecated and will be removed in a future version. Use isinstance(dtype, CategoricalDtype) instead\n",
      "  return is_int or is_bool or is_float or is_categorical_dtype(dtype)\n",
      "c:\\Python311\\Lib\\site-packages\\xgboost\\data.py:384: FutureWarning: is_categorical_dtype is deprecated and will be removed in a future version. Use isinstance(dtype, CategoricalDtype) instead\n",
      "  if is_categorical_dtype(dtype):\n",
      "c:\\Python311\\Lib\\site-packages\\xgboost\\data.py:359: FutureWarning: is_categorical_dtype is deprecated and will be removed in a future version. Use isinstance(dtype, CategoricalDtype) instead\n",
      "  return is_int or is_bool or is_float or is_categorical_dtype(dtype)\n",
      "c:\\Python311\\Lib\\site-packages\\xgboost\\data.py:384: FutureWarning: is_categorical_dtype is deprecated and will be removed in a future version. Use isinstance(dtype, CategoricalDtype) instead\n",
      "  if is_categorical_dtype(dtype):\n",
      "c:\\Python311\\Lib\\site-packages\\xgboost\\data.py:359: FutureWarning: is_categorical_dtype is deprecated and will be removed in a future version. Use isinstance(dtype, CategoricalDtype) instead\n",
      "  return is_int or is_bool or is_float or is_categorical_dtype(dtype)\n"
     ]
    },
    {
     "data": {
      "text/html": [
       "<style>#sk-container-id-2 {color: black;}#sk-container-id-2 pre{padding: 0;}#sk-container-id-2 div.sk-toggleable {background-color: white;}#sk-container-id-2 label.sk-toggleable__label {cursor: pointer;display: block;width: 100%;margin-bottom: 0;padding: 0.3em;box-sizing: border-box;text-align: center;}#sk-container-id-2 label.sk-toggleable__label-arrow:before {content: \"▸\";float: left;margin-right: 0.25em;color: #696969;}#sk-container-id-2 label.sk-toggleable__label-arrow:hover:before {color: black;}#sk-container-id-2 div.sk-estimator:hover label.sk-toggleable__label-arrow:before {color: black;}#sk-container-id-2 div.sk-toggleable__content {max-height: 0;max-width: 0;overflow: hidden;text-align: left;background-color: #f0f8ff;}#sk-container-id-2 div.sk-toggleable__content pre {margin: 0.2em;color: black;border-radius: 0.25em;background-color: #f0f8ff;}#sk-container-id-2 input.sk-toggleable__control:checked~div.sk-toggleable__content {max-height: 200px;max-width: 100%;overflow: auto;}#sk-container-id-2 input.sk-toggleable__control:checked~label.sk-toggleable__label-arrow:before {content: \"▾\";}#sk-container-id-2 div.sk-estimator input.sk-toggleable__control:checked~label.sk-toggleable__label {background-color: #d4ebff;}#sk-container-id-2 div.sk-label input.sk-toggleable__control:checked~label.sk-toggleable__label {background-color: #d4ebff;}#sk-container-id-2 input.sk-hidden--visually {border: 0;clip: rect(1px 1px 1px 1px);clip: rect(1px, 1px, 1px, 1px);height: 1px;margin: -1px;overflow: hidden;padding: 0;position: absolute;width: 1px;}#sk-container-id-2 div.sk-estimator {font-family: monospace;background-color: #f0f8ff;border: 1px dotted black;border-radius: 0.25em;box-sizing: border-box;margin-bottom: 0.5em;}#sk-container-id-2 div.sk-estimator:hover {background-color: #d4ebff;}#sk-container-id-2 div.sk-parallel-item::after {content: \"\";width: 100%;border-bottom: 1px solid gray;flex-grow: 1;}#sk-container-id-2 div.sk-label:hover label.sk-toggleable__label {background-color: #d4ebff;}#sk-container-id-2 div.sk-serial::before {content: \"\";position: absolute;border-left: 1px solid gray;box-sizing: border-box;top: 0;bottom: 0;left: 50%;z-index: 0;}#sk-container-id-2 div.sk-serial {display: flex;flex-direction: column;align-items: center;background-color: white;padding-right: 0.2em;padding-left: 0.2em;position: relative;}#sk-container-id-2 div.sk-item {position: relative;z-index: 1;}#sk-container-id-2 div.sk-parallel {display: flex;align-items: stretch;justify-content: center;background-color: white;position: relative;}#sk-container-id-2 div.sk-item::before, #sk-container-id-2 div.sk-parallel-item::before {content: \"\";position: absolute;border-left: 1px solid gray;box-sizing: border-box;top: 0;bottom: 0;left: 50%;z-index: -1;}#sk-container-id-2 div.sk-parallel-item {display: flex;flex-direction: column;z-index: 1;position: relative;background-color: white;}#sk-container-id-2 div.sk-parallel-item:first-child::after {align-self: flex-end;width: 50%;}#sk-container-id-2 div.sk-parallel-item:last-child::after {align-self: flex-start;width: 50%;}#sk-container-id-2 div.sk-parallel-item:only-child::after {width: 0;}#sk-container-id-2 div.sk-dashed-wrapped {border: 1px dashed gray;margin: 0 0.4em 0.5em 0.4em;box-sizing: border-box;padding-bottom: 0.4em;background-color: white;}#sk-container-id-2 div.sk-label label {font-family: monospace;font-weight: bold;display: inline-block;line-height: 1.2em;}#sk-container-id-2 div.sk-label-container {text-align: center;}#sk-container-id-2 div.sk-container {/* jupyter's `normalize.less` sets `[hidden] { display: none; }` but bootstrap.min.css set `[hidden] { display: none !important; }` so we also need the `!important` here to be able to override the default hidden behavior on the sphinx rendered scikit-learn.org. See: https://github.com/scikit-learn/scikit-learn/issues/21755 */display: inline-block !important;position: relative;}#sk-container-id-2 div.sk-text-repr-fallback {display: none;}</style><div id=\"sk-container-id-2\" class=\"sk-top-container\"><div class=\"sk-text-repr-fallback\"><pre>XGBClassifier(base_score=None, booster=None, callbacks=None,\n",
       "              colsample_bylevel=None, colsample_bynode=None,\n",
       "              colsample_bytree=None, device=None, early_stopping_rounds=None,\n",
       "              enable_categorical=False, eval_metric=None, feature_types=None,\n",
       "              gamma=None, grow_policy=None, importance_type=None,\n",
       "              interaction_constraints=None, learning_rate=0.1, max_bin=None,\n",
       "              max_cat_threshold=None, max_cat_to_onehot=None,\n",
       "              max_delta_step=None, max_depth=8, max_leaves=None,\n",
       "              min_child_weight=None, missing=nan, monotone_constraints=None,\n",
       "              multi_strategy=None, n_estimators=20, n_jobs=None,\n",
       "              num_parallel_tree=None, random_state=None, ...)</pre><b>In a Jupyter environment, please rerun this cell to show the HTML representation or trust the notebook. <br />On GitHub, the HTML representation is unable to render, please try loading this page with nbviewer.org.</b></div><div class=\"sk-container\" hidden><div class=\"sk-item\"><div class=\"sk-estimator sk-toggleable\"><input class=\"sk-toggleable__control sk-hidden--visually\" id=\"sk-estimator-id-2\" type=\"checkbox\" checked><label for=\"sk-estimator-id-2\" class=\"sk-toggleable__label sk-toggleable__label-arrow\">XGBClassifier</label><div class=\"sk-toggleable__content\"><pre>XGBClassifier(base_score=None, booster=None, callbacks=None,\n",
       "              colsample_bylevel=None, colsample_bynode=None,\n",
       "              colsample_bytree=None, device=None, early_stopping_rounds=None,\n",
       "              enable_categorical=False, eval_metric=None, feature_types=None,\n",
       "              gamma=None, grow_policy=None, importance_type=None,\n",
       "              interaction_constraints=None, learning_rate=0.1, max_bin=None,\n",
       "              max_cat_threshold=None, max_cat_to_onehot=None,\n",
       "              max_delta_step=None, max_depth=8, max_leaves=None,\n",
       "              min_child_weight=None, missing=nan, monotone_constraints=None,\n",
       "              multi_strategy=None, n_estimators=20, n_jobs=None,\n",
       "              num_parallel_tree=None, random_state=None, ...)</pre></div></div></div></div></div>"
      ],
      "text/plain": [
       "XGBClassifier(base_score=None, booster=None, callbacks=None,\n",
       "              colsample_bylevel=None, colsample_bynode=None,\n",
       "              colsample_bytree=None, device=None, early_stopping_rounds=None,\n",
       "              enable_categorical=False, eval_metric=None, feature_types=None,\n",
       "              gamma=None, grow_policy=None, importance_type=None,\n",
       "              interaction_constraints=None, learning_rate=0.1, max_bin=None,\n",
       "              max_cat_threshold=None, max_cat_to_onehot=None,\n",
       "              max_delta_step=None, max_depth=8, max_leaves=None,\n",
       "              min_child_weight=None, missing=nan, monotone_constraints=None,\n",
       "              multi_strategy=None, n_estimators=20, n_jobs=None,\n",
       "              num_parallel_tree=None, random_state=None, ...)"
      ]
     },
     "execution_count": 87,
     "metadata": {},
     "output_type": "execute_result"
    }
   ],
   "source": [
    "model2.fit(X_train_o, y_train_o)"
   ]
  },
  {
   "cell_type": "code",
   "execution_count": 88,
   "metadata": {},
   "outputs": [
    {
     "name": "stdout",
     "output_type": "stream",
     "text": [
      "Learning rate set to 0.059029\n",
      "0:\tlearn: 0.6585799\ttotal: 173ms\tremaining: 2m 52s\n",
      "1:\tlearn: 0.6304690\ttotal: 194ms\tremaining: 1m 36s\n",
      "2:\tlearn: 0.6073506\ttotal: 215ms\tremaining: 1m 11s\n",
      "3:\tlearn: 0.5919310\ttotal: 237ms\tremaining: 59s\n",
      "4:\tlearn: 0.5795666\ttotal: 260ms\tremaining: 51.7s\n",
      "5:\tlearn: 0.5653588\ttotal: 283ms\tremaining: 46.9s\n",
      "6:\tlearn: 0.5548036\ttotal: 307ms\tremaining: 43.5s\n",
      "7:\tlearn: 0.5456201\ttotal: 328ms\tremaining: 40.7s\n",
      "8:\tlearn: 0.5388649\ttotal: 346ms\tremaining: 38.1s\n",
      "9:\tlearn: 0.5329577\ttotal: 365ms\tremaining: 36.1s\n",
      "10:\tlearn: 0.5273456\ttotal: 385ms\tremaining: 34.6s\n",
      "11:\tlearn: 0.5220226\ttotal: 407ms\tremaining: 33.5s\n",
      "12:\tlearn: 0.5177694\ttotal: 427ms\tremaining: 32.5s\n",
      "13:\tlearn: 0.5153237\ttotal: 443ms\tremaining: 31.2s\n",
      "14:\tlearn: 0.5077886\ttotal: 465ms\tremaining: 30.6s\n",
      "15:\tlearn: 0.5022738\ttotal: 482ms\tremaining: 29.7s\n",
      "16:\tlearn: 0.4991222\ttotal: 502ms\tremaining: 29s\n",
      "17:\tlearn: 0.4968250\ttotal: 518ms\tremaining: 28.3s\n",
      "18:\tlearn: 0.4950223\ttotal: 536ms\tremaining: 27.7s\n",
      "19:\tlearn: 0.4934272\ttotal: 557ms\tremaining: 27.3s\n",
      "20:\tlearn: 0.4917630\ttotal: 574ms\tremaining: 26.8s\n",
      "21:\tlearn: 0.4899674\ttotal: 594ms\tremaining: 26.4s\n",
      "22:\tlearn: 0.4870979\ttotal: 617ms\tremaining: 26.2s\n",
      "23:\tlearn: 0.4853433\ttotal: 636ms\tremaining: 25.9s\n",
      "24:\tlearn: 0.4835775\ttotal: 656ms\tremaining: 25.6s\n",
      "25:\tlearn: 0.4824022\ttotal: 680ms\tremaining: 25.5s\n",
      "26:\tlearn: 0.4813859\ttotal: 699ms\tremaining: 25.2s\n",
      "27:\tlearn: 0.4804259\ttotal: 721ms\tremaining: 25s\n",
      "28:\tlearn: 0.4792844\ttotal: 738ms\tremaining: 24.7s\n",
      "29:\tlearn: 0.4770007\ttotal: 755ms\tremaining: 24.4s\n",
      "30:\tlearn: 0.4750969\ttotal: 772ms\tremaining: 24.1s\n",
      "31:\tlearn: 0.4743281\ttotal: 791ms\tremaining: 23.9s\n",
      "32:\tlearn: 0.4728886\ttotal: 808ms\tremaining: 23.7s\n",
      "33:\tlearn: 0.4719896\ttotal: 826ms\tremaining: 23.5s\n",
      "34:\tlearn: 0.4709803\ttotal: 841ms\tremaining: 23.2s\n",
      "35:\tlearn: 0.4700431\ttotal: 857ms\tremaining: 22.9s\n",
      "36:\tlearn: 0.4693257\ttotal: 872ms\tremaining: 22.7s\n",
      "37:\tlearn: 0.4680344\ttotal: 888ms\tremaining: 22.5s\n",
      "38:\tlearn: 0.4671563\ttotal: 906ms\tremaining: 22.3s\n",
      "39:\tlearn: 0.4666127\ttotal: 922ms\tremaining: 22.1s\n",
      "40:\tlearn: 0.4662100\ttotal: 940ms\tremaining: 22s\n",
      "41:\tlearn: 0.4657849\ttotal: 957ms\tremaining: 21.8s\n",
      "42:\tlearn: 0.4652457\ttotal: 973ms\tremaining: 21.7s\n",
      "43:\tlearn: 0.4646992\ttotal: 990ms\tremaining: 21.5s\n",
      "44:\tlearn: 0.4641232\ttotal: 1.01s\tremaining: 21.4s\n",
      "45:\tlearn: 0.4632983\ttotal: 1.02s\tremaining: 21.2s\n",
      "46:\tlearn: 0.4627918\ttotal: 1.04s\tremaining: 21.1s\n",
      "47:\tlearn: 0.4625492\ttotal: 1.06s\tremaining: 21s\n",
      "48:\tlearn: 0.4622299\ttotal: 1.08s\tremaining: 20.9s\n",
      "49:\tlearn: 0.4618625\ttotal: 1.09s\tremaining: 20.8s\n",
      "50:\tlearn: 0.4614839\ttotal: 1.11s\tremaining: 20.7s\n",
      "51:\tlearn: 0.4608737\ttotal: 1.13s\tremaining: 20.7s\n",
      "52:\tlearn: 0.4604833\ttotal: 1.15s\tremaining: 20.6s\n",
      "53:\tlearn: 0.4601397\ttotal: 1.17s\tremaining: 20.6s\n",
      "54:\tlearn: 0.4596918\ttotal: 1.2s\tremaining: 20.5s\n",
      "55:\tlearn: 0.4593101\ttotal: 1.21s\tremaining: 20.4s\n",
      "56:\tlearn: 0.4588258\ttotal: 1.23s\tremaining: 20.4s\n",
      "57:\tlearn: 0.4583830\ttotal: 1.25s\tremaining: 20.4s\n",
      "58:\tlearn: 0.4578873\ttotal: 1.27s\tremaining: 20.3s\n",
      "59:\tlearn: 0.4576114\ttotal: 1.29s\tremaining: 20.3s\n",
      "60:\tlearn: 0.4573317\ttotal: 1.31s\tremaining: 20.2s\n",
      "61:\tlearn: 0.4569258\ttotal: 1.33s\tremaining: 20.1s\n",
      "62:\tlearn: 0.4565251\ttotal: 1.34s\tremaining: 20s\n",
      "63:\tlearn: 0.4562188\ttotal: 1.41s\tremaining: 20.6s\n",
      "64:\tlearn: 0.4559979\ttotal: 1.43s\tremaining: 20.6s\n",
      "65:\tlearn: 0.4557860\ttotal: 1.45s\tremaining: 20.5s\n"
     ]
    },
    {
     "name": "stdout",
     "output_type": "stream",
     "text": [
      "66:\tlearn: 0.4554834\ttotal: 1.46s\tremaining: 20.4s\n",
      "67:\tlearn: 0.4550829\ttotal: 1.48s\tremaining: 20.3s\n",
      "68:\tlearn: 0.4549106\ttotal: 1.5s\tremaining: 20.3s\n",
      "69:\tlearn: 0.4545833\ttotal: 1.52s\tremaining: 20.2s\n",
      "70:\tlearn: 0.4544559\ttotal: 1.54s\tremaining: 20.1s\n",
      "71:\tlearn: 0.4541979\ttotal: 1.56s\tremaining: 20.1s\n",
      "72:\tlearn: 0.4539807\ttotal: 1.58s\tremaining: 20s\n",
      "73:\tlearn: 0.4537416\ttotal: 1.6s\tremaining: 20s\n",
      "74:\tlearn: 0.4535544\ttotal: 1.61s\tremaining: 19.9s\n",
      "75:\tlearn: 0.4532867\ttotal: 1.63s\tremaining: 19.8s\n",
      "76:\tlearn: 0.4532858\ttotal: 1.65s\tremaining: 19.7s\n",
      "77:\tlearn: 0.4530915\ttotal: 1.67s\tremaining: 19.8s\n",
      "78:\tlearn: 0.4527931\ttotal: 1.69s\tremaining: 19.7s\n",
      "79:\tlearn: 0.4527762\ttotal: 1.71s\tremaining: 19.6s\n",
      "80:\tlearn: 0.4526085\ttotal: 1.72s\tremaining: 19.6s\n",
      "81:\tlearn: 0.4523314\ttotal: 1.74s\tremaining: 19.5s\n",
      "82:\tlearn: 0.4520034\ttotal: 1.76s\tremaining: 19.4s\n",
      "83:\tlearn: 0.4518884\ttotal: 1.77s\tremaining: 19.4s\n",
      "84:\tlearn: 0.4517517\ttotal: 1.79s\tremaining: 19.3s\n",
      "85:\tlearn: 0.4516696\ttotal: 1.81s\tremaining: 19.2s\n",
      "86:\tlearn: 0.4514809\ttotal: 1.83s\tremaining: 19.2s\n",
      "87:\tlearn: 0.4512829\ttotal: 1.84s\tremaining: 19.1s\n",
      "88:\tlearn: 0.4511493\ttotal: 1.86s\tremaining: 19.1s\n",
      "89:\tlearn: 0.4510202\ttotal: 1.88s\tremaining: 19s\n",
      "90:\tlearn: 0.4508621\ttotal: 1.89s\tremaining: 18.9s\n",
      "91:\tlearn: 0.4507185\ttotal: 1.91s\tremaining: 18.8s\n",
      "92:\tlearn: 0.4504660\ttotal: 1.93s\tremaining: 18.8s\n",
      "93:\tlearn: 0.4503808\ttotal: 1.94s\tremaining: 18.7s\n",
      "94:\tlearn: 0.4500989\ttotal: 1.96s\tremaining: 18.7s\n",
      "95:\tlearn: 0.4499463\ttotal: 1.98s\tremaining: 18.6s\n",
      "96:\tlearn: 0.4497532\ttotal: 1.99s\tremaining: 18.6s\n",
      "97:\tlearn: 0.4496602\ttotal: 2.01s\tremaining: 18.5s\n",
      "98:\tlearn: 0.4494959\ttotal: 2.03s\tremaining: 18.4s\n",
      "99:\tlearn: 0.4493797\ttotal: 2.05s\tremaining: 18.4s\n",
      "100:\tlearn: 0.4491778\ttotal: 2.06s\tremaining: 18.4s\n",
      "101:\tlearn: 0.4490814\ttotal: 2.08s\tremaining: 18.3s\n",
      "102:\tlearn: 0.4486679\ttotal: 2.09s\tremaining: 18.2s\n",
      "103:\tlearn: 0.4484593\ttotal: 2.1s\tremaining: 18.1s\n",
      "104:\tlearn: 0.4483607\ttotal: 2.12s\tremaining: 18.1s\n",
      "105:\tlearn: 0.4482198\ttotal: 2.14s\tremaining: 18s\n",
      "106:\tlearn: 0.4480682\ttotal: 2.15s\tremaining: 18s\n",
      "107:\tlearn: 0.4478040\ttotal: 2.17s\tremaining: 17.9s\n",
      "108:\tlearn: 0.4476655\ttotal: 2.19s\tremaining: 17.9s\n",
      "109:\tlearn: 0.4475918\ttotal: 2.2s\tremaining: 17.8s\n",
      "110:\tlearn: 0.4475164\ttotal: 2.21s\tremaining: 17.7s\n",
      "111:\tlearn: 0.4474416\ttotal: 2.23s\tremaining: 17.7s\n",
      "112:\tlearn: 0.4473468\ttotal: 2.24s\tremaining: 17.6s\n",
      "113:\tlearn: 0.4471987\ttotal: 2.25s\tremaining: 17.5s\n",
      "114:\tlearn: 0.4471395\ttotal: 2.26s\tremaining: 17.4s\n",
      "115:\tlearn: 0.4469869\ttotal: 2.28s\tremaining: 17.4s\n",
      "116:\tlearn: 0.4468514\ttotal: 2.29s\tremaining: 17.3s\n",
      "117:\tlearn: 0.4467103\ttotal: 2.3s\tremaining: 17.2s\n",
      "118:\tlearn: 0.4466249\ttotal: 2.31s\tremaining: 17.1s\n",
      "119:\tlearn: 0.4465574\ttotal: 2.33s\tremaining: 17.1s\n",
      "120:\tlearn: 0.4464754\ttotal: 2.34s\tremaining: 17s\n",
      "121:\tlearn: 0.4463073\ttotal: 2.35s\tremaining: 16.9s\n",
      "122:\tlearn: 0.4463070\ttotal: 2.36s\tremaining: 16.8s\n",
      "123:\tlearn: 0.4461815\ttotal: 2.38s\tremaining: 16.8s\n",
      "124:\tlearn: 0.4460924\ttotal: 2.39s\tremaining: 16.7s\n",
      "125:\tlearn: 0.4459392\ttotal: 2.4s\tremaining: 16.7s\n",
      "126:\tlearn: 0.4458125\ttotal: 2.41s\tremaining: 16.6s\n",
      "127:\tlearn: 0.4457211\ttotal: 2.43s\tremaining: 16.5s\n",
      "128:\tlearn: 0.4455991\ttotal: 2.45s\tremaining: 16.5s\n",
      "129:\tlearn: 0.4454925\ttotal: 2.46s\tremaining: 16.5s\n",
      "130:\tlearn: 0.4453921\ttotal: 2.48s\tremaining: 16.4s\n",
      "131:\tlearn: 0.4453141\ttotal: 2.49s\tremaining: 16.4s\n",
      "132:\tlearn: 0.4451778\ttotal: 2.51s\tremaining: 16.4s\n",
      "133:\tlearn: 0.4451160\ttotal: 2.52s\tremaining: 16.3s\n",
      "134:\tlearn: 0.4450463\ttotal: 2.53s\tremaining: 16.2s\n",
      "135:\tlearn: 0.4450446\ttotal: 2.54s\tremaining: 16.1s\n",
      "136:\tlearn: 0.4450145\ttotal: 2.55s\tremaining: 16.1s\n",
      "137:\tlearn: 0.4449640\ttotal: 2.57s\tremaining: 16s\n",
      "138:\tlearn: 0.4448965\ttotal: 2.58s\tremaining: 16s\n",
      "139:\tlearn: 0.4445614\ttotal: 2.6s\tremaining: 15.9s\n",
      "140:\tlearn: 0.4444683\ttotal: 2.61s\tremaining: 15.9s\n",
      "141:\tlearn: 0.4443809\ttotal: 2.63s\tremaining: 15.9s\n",
      "142:\tlearn: 0.4442962\ttotal: 2.64s\tremaining: 15.8s\n",
      "143:\tlearn: 0.4442511\ttotal: 2.65s\tremaining: 15.8s\n",
      "144:\tlearn: 0.4442039\ttotal: 2.67s\tremaining: 15.7s\n",
      "145:\tlearn: 0.4441608\ttotal: 2.69s\tremaining: 15.7s\n",
      "146:\tlearn: 0.4440853\ttotal: 2.7s\tremaining: 15.7s\n",
      "147:\tlearn: 0.4440837\ttotal: 2.71s\tremaining: 15.6s\n",
      "148:\tlearn: 0.4439944\ttotal: 2.72s\tremaining: 15.6s\n",
      "149:\tlearn: 0.4439558\ttotal: 2.74s\tremaining: 15.5s\n",
      "150:\tlearn: 0.4438809\ttotal: 2.75s\tremaining: 15.5s\n",
      "151:\tlearn: 0.4438588\ttotal: 2.77s\tremaining: 15.5s\n",
      "152:\tlearn: 0.4437736\ttotal: 2.78s\tremaining: 15.4s\n",
      "153:\tlearn: 0.4436612\ttotal: 2.8s\tremaining: 15.4s\n",
      "154:\tlearn: 0.4435888\ttotal: 2.82s\tremaining: 15.4s\n",
      "155:\tlearn: 0.4433321\ttotal: 2.83s\tremaining: 15.3s\n",
      "156:\tlearn: 0.4432601\ttotal: 2.85s\tremaining: 15.3s\n",
      "157:\tlearn: 0.4431668\ttotal: 2.87s\tremaining: 15.3s\n",
      "158:\tlearn: 0.4430375\ttotal: 2.88s\tremaining: 15.2s\n",
      "159:\tlearn: 0.4429637\ttotal: 2.9s\tremaining: 15.2s\n",
      "160:\tlearn: 0.4426945\ttotal: 2.91s\tremaining: 15.2s\n",
      "161:\tlearn: 0.4425688\ttotal: 2.93s\tremaining: 15.1s\n",
      "162:\tlearn: 0.4424585\ttotal: 2.95s\tremaining: 15.1s\n",
      "163:\tlearn: 0.4423747\ttotal: 2.97s\tremaining: 15.1s\n",
      "164:\tlearn: 0.4422923\ttotal: 2.98s\tremaining: 15.1s\n",
      "165:\tlearn: 0.4422208\ttotal: 3s\tremaining: 15.1s\n",
      "166:\tlearn: 0.4422199\ttotal: 3s\tremaining: 15s\n",
      "167:\tlearn: 0.4421428\ttotal: 3.02s\tremaining: 14.9s\n",
      "168:\tlearn: 0.4421366\ttotal: 3.03s\tremaining: 14.9s\n",
      "169:\tlearn: 0.4420070\ttotal: 3.04s\tremaining: 14.9s\n",
      "170:\tlearn: 0.4419642\ttotal: 3.06s\tremaining: 14.8s\n",
      "171:\tlearn: 0.4419304\ttotal: 3.07s\tremaining: 14.8s\n",
      "172:\tlearn: 0.4416898\ttotal: 3.08s\tremaining: 14.7s\n",
      "173:\tlearn: 0.4416296\ttotal: 3.1s\tremaining: 14.7s\n",
      "174:\tlearn: 0.4415523\ttotal: 3.12s\tremaining: 14.7s\n",
      "175:\tlearn: 0.4414488\ttotal: 3.13s\tremaining: 14.7s\n",
      "176:\tlearn: 0.4414443\ttotal: 3.15s\tremaining: 14.6s\n",
      "177:\tlearn: 0.4413919\ttotal: 3.16s\tremaining: 14.6s\n",
      "178:\tlearn: 0.4413538\ttotal: 3.18s\tremaining: 14.6s\n",
      "179:\tlearn: 0.4412851\ttotal: 3.19s\tremaining: 14.5s\n",
      "180:\tlearn: 0.4412218\ttotal: 3.2s\tremaining: 14.5s\n",
      "181:\tlearn: 0.4411380\ttotal: 3.21s\tremaining: 14.5s\n",
      "182:\tlearn: 0.4411124\ttotal: 3.23s\tremaining: 14.4s\n",
      "183:\tlearn: 0.4410501\ttotal: 3.24s\tremaining: 14.4s\n",
      "184:\tlearn: 0.4410293\ttotal: 3.26s\tremaining: 14.4s\n",
      "185:\tlearn: 0.4410246\ttotal: 3.27s\tremaining: 14.3s\n",
      "186:\tlearn: 0.4409648\ttotal: 3.28s\tremaining: 14.3s\n",
      "187:\tlearn: 0.4409122\ttotal: 3.3s\tremaining: 14.3s\n",
      "188:\tlearn: 0.4408680\ttotal: 3.31s\tremaining: 14.2s\n",
      "189:\tlearn: 0.4408255\ttotal: 3.33s\tremaining: 14.2s\n",
      "190:\tlearn: 0.4407726\ttotal: 3.34s\tremaining: 14.2s\n",
      "191:\tlearn: 0.4406754\ttotal: 3.36s\tremaining: 14.1s\n",
      "192:\tlearn: 0.4406332\ttotal: 3.38s\tremaining: 14.1s\n",
      "193:\tlearn: 0.4406044\ttotal: 3.39s\tremaining: 14.1s\n",
      "194:\tlearn: 0.4405592\ttotal: 3.4s\tremaining: 14.1s\n",
      "195:\tlearn: 0.4405595\ttotal: 3.41s\tremaining: 14s\n",
      "196:\tlearn: 0.4404841\ttotal: 3.43s\tremaining: 14s\n",
      "197:\tlearn: 0.4404325\ttotal: 3.44s\tremaining: 13.9s\n",
      "198:\tlearn: 0.4404087\ttotal: 3.46s\tremaining: 13.9s\n",
      "199:\tlearn: 0.4403693\ttotal: 3.47s\tremaining: 13.9s\n",
      "200:\tlearn: 0.4403079\ttotal: 3.49s\tremaining: 13.9s\n",
      "201:\tlearn: 0.4402139\ttotal: 3.5s\tremaining: 13.8s\n",
      "202:\tlearn: 0.4401779\ttotal: 3.52s\tremaining: 13.8s\n",
      "203:\tlearn: 0.4401057\ttotal: 3.53s\tremaining: 13.8s\n",
      "204:\tlearn: 0.4400915\ttotal: 3.55s\tremaining: 13.8s\n",
      "205:\tlearn: 0.4400584\ttotal: 3.56s\tremaining: 13.7s\n",
      "206:\tlearn: 0.4399552\ttotal: 3.58s\tremaining: 13.7s\n",
      "207:\tlearn: 0.4398944\ttotal: 3.59s\tremaining: 13.7s\n",
      "208:\tlearn: 0.4398458\ttotal: 3.61s\tremaining: 13.7s\n",
      "209:\tlearn: 0.4398154\ttotal: 3.63s\tremaining: 13.6s\n",
      "210:\tlearn: 0.4397988\ttotal: 3.64s\tremaining: 13.6s\n",
      "211:\tlearn: 0.4397758\ttotal: 3.65s\tremaining: 13.6s\n",
      "212:\tlearn: 0.4397529\ttotal: 3.67s\tremaining: 13.6s\n",
      "213:\tlearn: 0.4397362\ttotal: 3.69s\tremaining: 13.6s\n",
      "214:\tlearn: 0.4396811\ttotal: 3.71s\tremaining: 13.5s\n",
      "215:\tlearn: 0.4396473\ttotal: 3.73s\tremaining: 13.5s\n",
      "216:\tlearn: 0.4396285\ttotal: 3.74s\tremaining: 13.5s\n",
      "217:\tlearn: 0.4395975\ttotal: 3.76s\tremaining: 13.5s\n",
      "218:\tlearn: 0.4395827\ttotal: 3.77s\tremaining: 13.4s\n",
      "219:\tlearn: 0.4395598\ttotal: 3.79s\tremaining: 13.4s\n",
      "220:\tlearn: 0.4395107\ttotal: 3.8s\tremaining: 13.4s\n",
      "221:\tlearn: 0.4394819\ttotal: 3.81s\tremaining: 13.4s\n",
      "222:\tlearn: 0.4394575\ttotal: 3.83s\tremaining: 13.3s\n",
      "223:\tlearn: 0.4393807\ttotal: 3.84s\tremaining: 13.3s\n",
      "224:\tlearn: 0.4393394\ttotal: 3.85s\tremaining: 13.3s\n",
      "225:\tlearn: 0.4392616\ttotal: 3.86s\tremaining: 13.2s\n",
      "226:\tlearn: 0.4392268\ttotal: 3.88s\tremaining: 13.2s\n",
      "227:\tlearn: 0.4391968\ttotal: 3.89s\tremaining: 13.2s\n",
      "228:\tlearn: 0.4391098\ttotal: 3.9s\tremaining: 13.1s\n",
      "229:\tlearn: 0.4390050\ttotal: 3.92s\tremaining: 13.1s\n",
      "230:\tlearn: 0.4389333\ttotal: 3.93s\tremaining: 13.1s\n",
      "231:\tlearn: 0.4388644\ttotal: 3.94s\tremaining: 13.1s\n",
      "232:\tlearn: 0.4388328\ttotal: 3.96s\tremaining: 13s\n",
      "233:\tlearn: 0.4388115\ttotal: 3.97s\tremaining: 13s\n",
      "234:\tlearn: 0.4387750\ttotal: 3.98s\tremaining: 13s\n",
      "235:\tlearn: 0.4387432\ttotal: 4s\tremaining: 12.9s\n",
      "236:\tlearn: 0.4386853\ttotal: 4.01s\tremaining: 12.9s\n",
      "237:\tlearn: 0.4386524\ttotal: 4.02s\tremaining: 12.9s\n",
      "238:\tlearn: 0.4385915\ttotal: 4.04s\tremaining: 12.8s\n",
      "239:\tlearn: 0.4384430\ttotal: 4.05s\tremaining: 12.8s\n",
      "240:\tlearn: 0.4383638\ttotal: 4.06s\tremaining: 12.8s\n",
      "241:\tlearn: 0.4382801\ttotal: 4.08s\tremaining: 12.8s\n",
      "242:\tlearn: 0.4382466\ttotal: 4.09s\tremaining: 12.7s\n",
      "243:\tlearn: 0.4382188\ttotal: 4.1s\tremaining: 12.7s\n",
      "244:\tlearn: 0.4382007\ttotal: 4.11s\tremaining: 12.7s\n",
      "245:\tlearn: 0.4381756\ttotal: 4.13s\tremaining: 12.6s\n",
      "246:\tlearn: 0.4381441\ttotal: 4.14s\tremaining: 12.6s\n",
      "247:\tlearn: 0.4381184\ttotal: 4.15s\tremaining: 12.6s\n",
      "248:\tlearn: 0.4380908\ttotal: 4.17s\tremaining: 12.6s\n",
      "249:\tlearn: 0.4380649\ttotal: 4.18s\tremaining: 12.5s\n",
      "250:\tlearn: 0.4380206\ttotal: 4.2s\tremaining: 12.5s\n",
      "251:\tlearn: 0.4379842\ttotal: 4.21s\tremaining: 12.5s\n",
      "252:\tlearn: 0.4379205\ttotal: 4.22s\tremaining: 12.5s\n",
      "253:\tlearn: 0.4379048\ttotal: 4.24s\tremaining: 12.5s\n",
      "254:\tlearn: 0.4378852\ttotal: 4.26s\tremaining: 12.4s\n",
      "255:\tlearn: 0.4378591\ttotal: 4.27s\tremaining: 12.4s\n",
      "256:\tlearn: 0.4378320\ttotal: 4.29s\tremaining: 12.4s\n",
      "257:\tlearn: 0.4377617\ttotal: 4.3s\tremaining: 12.4s\n",
      "258:\tlearn: 0.4377311\ttotal: 4.32s\tremaining: 12.4s\n",
      "259:\tlearn: 0.4376595\ttotal: 4.33s\tremaining: 12.3s\n",
      "260:\tlearn: 0.4376427\ttotal: 4.34s\tremaining: 12.3s\n",
      "261:\tlearn: 0.4375936\ttotal: 4.36s\tremaining: 12.3s\n",
      "262:\tlearn: 0.4375762\ttotal: 4.37s\tremaining: 12.3s\n",
      "263:\tlearn: 0.4375395\ttotal: 4.39s\tremaining: 12.2s\n",
      "264:\tlearn: 0.4375040\ttotal: 4.4s\tremaining: 12.2s\n",
      "265:\tlearn: 0.4374928\ttotal: 4.41s\tremaining: 12.2s\n",
      "266:\tlearn: 0.4374797\ttotal: 4.43s\tremaining: 12.2s\n",
      "267:\tlearn: 0.4374642\ttotal: 4.44s\tremaining: 12.1s\n",
      "268:\tlearn: 0.4374472\ttotal: 4.46s\tremaining: 12.1s\n",
      "269:\tlearn: 0.4374237\ttotal: 4.47s\tremaining: 12.1s\n",
      "270:\tlearn: 0.4373855\ttotal: 4.49s\tremaining: 12.1s\n",
      "271:\tlearn: 0.4373648\ttotal: 4.5s\tremaining: 12s\n",
      "272:\tlearn: 0.4373487\ttotal: 4.52s\tremaining: 12s\n",
      "273:\tlearn: 0.4373170\ttotal: 4.53s\tremaining: 12s\n",
      "274:\tlearn: 0.4372652\ttotal: 4.55s\tremaining: 12s\n",
      "275:\tlearn: 0.4372364\ttotal: 4.57s\tremaining: 12s\n",
      "276:\tlearn: 0.4372138\ttotal: 4.58s\tremaining: 12s\n",
      "277:\tlearn: 0.4371949\ttotal: 4.6s\tremaining: 11.9s\n",
      "278:\tlearn: 0.4371791\ttotal: 4.61s\tremaining: 11.9s\n",
      "279:\tlearn: 0.4371441\ttotal: 4.63s\tremaining: 11.9s\n",
      "280:\tlearn: 0.4370174\ttotal: 4.65s\tremaining: 11.9s\n",
      "281:\tlearn: 0.4369542\ttotal: 4.66s\tremaining: 11.9s\n",
      "282:\tlearn: 0.4369311\ttotal: 4.68s\tremaining: 11.9s\n",
      "283:\tlearn: 0.4368993\ttotal: 4.7s\tremaining: 11.8s\n",
      "284:\tlearn: 0.4368759\ttotal: 4.71s\tremaining: 11.8s\n",
      "285:\tlearn: 0.4368559\ttotal: 4.72s\tremaining: 11.8s\n",
      "286:\tlearn: 0.4368265\ttotal: 4.74s\tremaining: 11.8s\n",
      "287:\tlearn: 0.4367996\ttotal: 4.75s\tremaining: 11.7s\n",
      "288:\tlearn: 0.4367867\ttotal: 4.77s\tremaining: 11.7s\n",
      "289:\tlearn: 0.4367261\ttotal: 4.78s\tremaining: 11.7s\n",
      "290:\tlearn: 0.4366822\ttotal: 4.8s\tremaining: 11.7s\n",
      "291:\tlearn: 0.4366542\ttotal: 4.81s\tremaining: 11.7s\n",
      "292:\tlearn: 0.4366329\ttotal: 4.83s\tremaining: 11.7s\n",
      "293:\tlearn: 0.4366001\ttotal: 4.84s\tremaining: 11.6s\n",
      "294:\tlearn: 0.4365734\ttotal: 4.85s\tremaining: 11.6s\n",
      "295:\tlearn: 0.4365616\ttotal: 4.87s\tremaining: 11.6s\n",
      "296:\tlearn: 0.4365433\ttotal: 4.88s\tremaining: 11.6s\n",
      "297:\tlearn: 0.4365225\ttotal: 4.9s\tremaining: 11.5s\n",
      "298:\tlearn: 0.4364406\ttotal: 4.91s\tremaining: 11.5s\n",
      "299:\tlearn: 0.4364149\ttotal: 4.93s\tremaining: 11.5s\n",
      "300:\tlearn: 0.4363925\ttotal: 4.94s\tremaining: 11.5s\n",
      "301:\tlearn: 0.4363646\ttotal: 4.96s\tremaining: 11.5s\n",
      "302:\tlearn: 0.4363272\ttotal: 4.98s\tremaining: 11.5s\n",
      "303:\tlearn: 0.4363065\ttotal: 5s\tremaining: 11.4s\n",
      "304:\tlearn: 0.4362967\ttotal: 5.02s\tremaining: 11.4s\n",
      "305:\tlearn: 0.4362630\ttotal: 5.04s\tremaining: 11.4s\n",
      "306:\tlearn: 0.4362135\ttotal: 5.07s\tremaining: 11.4s\n",
      "307:\tlearn: 0.4361991\ttotal: 5.09s\tremaining: 11.4s\n",
      "308:\tlearn: 0.4361771\ttotal: 5.12s\tremaining: 11.4s\n",
      "309:\tlearn: 0.4361510\ttotal: 5.14s\tremaining: 11.4s\n",
      "310:\tlearn: 0.4361392\ttotal: 5.15s\tremaining: 11.4s\n",
      "311:\tlearn: 0.4361073\ttotal: 5.17s\tremaining: 11.4s\n",
      "312:\tlearn: 0.4360526\ttotal: 5.18s\tremaining: 11.4s\n",
      "313:\tlearn: 0.4360043\ttotal: 5.19s\tremaining: 11.3s\n",
      "314:\tlearn: 0.4359830\ttotal: 5.21s\tremaining: 11.3s\n",
      "315:\tlearn: 0.4359635\ttotal: 5.23s\tremaining: 11.3s\n",
      "316:\tlearn: 0.4359518\ttotal: 5.25s\tremaining: 11.3s\n",
      "317:\tlearn: 0.4359323\ttotal: 5.27s\tremaining: 11.3s\n",
      "318:\tlearn: 0.4359022\ttotal: 5.29s\tremaining: 11.3s\n",
      "319:\tlearn: 0.4358755\ttotal: 5.31s\tremaining: 11.3s\n",
      "320:\tlearn: 0.4358612\ttotal: 5.33s\tremaining: 11.3s\n",
      "321:\tlearn: 0.4358311\ttotal: 5.36s\tremaining: 11.3s\n",
      "322:\tlearn: 0.4358170\ttotal: 5.38s\tremaining: 11.3s\n",
      "323:\tlearn: 0.4357895\ttotal: 5.4s\tremaining: 11.3s\n",
      "324:\tlearn: 0.4357698\ttotal: 5.43s\tremaining: 11.3s\n",
      "325:\tlearn: 0.4357477\ttotal: 5.44s\tremaining: 11.3s\n",
      "326:\tlearn: 0.4357301\ttotal: 5.46s\tremaining: 11.2s\n",
      "327:\tlearn: 0.4356897\ttotal: 5.48s\tremaining: 11.2s\n",
      "328:\tlearn: 0.4356829\ttotal: 5.5s\tremaining: 11.2s\n",
      "329:\tlearn: 0.4356375\ttotal: 5.52s\tremaining: 11.2s\n",
      "330:\tlearn: 0.4355853\ttotal: 5.55s\tremaining: 11.2s\n",
      "331:\tlearn: 0.4354978\ttotal: 5.57s\tremaining: 11.2s\n",
      "332:\tlearn: 0.4354811\ttotal: 5.59s\tremaining: 11.2s\n",
      "333:\tlearn: 0.4354647\ttotal: 5.61s\tremaining: 11.2s\n",
      "334:\tlearn: 0.4354520\ttotal: 5.64s\tremaining: 11.2s\n",
      "335:\tlearn: 0.4354408\ttotal: 5.66s\tremaining: 11.2s\n",
      "336:\tlearn: 0.4354010\ttotal: 5.68s\tremaining: 11.2s\n",
      "337:\tlearn: 0.4353762\ttotal: 5.7s\tremaining: 11.2s\n",
      "338:\tlearn: 0.4353409\ttotal: 5.73s\tremaining: 11.2s\n",
      "339:\tlearn: 0.4353286\ttotal: 5.75s\tremaining: 11.2s\n",
      "340:\tlearn: 0.4353198\ttotal: 5.78s\tremaining: 11.2s\n",
      "341:\tlearn: 0.4353064\ttotal: 5.81s\tremaining: 11.2s\n",
      "342:\tlearn: 0.4352746\ttotal: 5.83s\tremaining: 11.2s\n",
      "343:\tlearn: 0.4352313\ttotal: 5.84s\tremaining: 11.1s\n",
      "344:\tlearn: 0.4352214\ttotal: 5.87s\tremaining: 11.1s\n",
      "345:\tlearn: 0.4351951\ttotal: 5.9s\tremaining: 11.1s\n",
      "346:\tlearn: 0.4351833\ttotal: 5.93s\tremaining: 11.2s\n",
      "347:\tlearn: 0.4351635\ttotal: 5.96s\tremaining: 11.2s\n",
      "348:\tlearn: 0.4351592\ttotal: 5.97s\tremaining: 11.1s\n",
      "349:\tlearn: 0.4351332\ttotal: 6s\tremaining: 11.1s\n",
      "350:\tlearn: 0.4351262\ttotal: 6.02s\tremaining: 11.1s\n",
      "351:\tlearn: 0.4351112\ttotal: 6.05s\tremaining: 11.1s\n",
      "352:\tlearn: 0.4351061\ttotal: 6.07s\tremaining: 11.1s\n",
      "353:\tlearn: 0.4350316\ttotal: 6.09s\tremaining: 11.1s\n",
      "354:\tlearn: 0.4350185\ttotal: 6.11s\tremaining: 11.1s\n",
      "355:\tlearn: 0.4349870\ttotal: 6.13s\tremaining: 11.1s\n",
      "356:\tlearn: 0.4349774\ttotal: 6.15s\tremaining: 11.1s\n",
      "357:\tlearn: 0.4349622\ttotal: 6.17s\tremaining: 11.1s\n",
      "358:\tlearn: 0.4349015\ttotal: 6.2s\tremaining: 11.1s\n",
      "359:\tlearn: 0.4348759\ttotal: 6.23s\tremaining: 11.1s\n",
      "360:\tlearn: 0.4348584\ttotal: 6.26s\tremaining: 11.1s\n",
      "361:\tlearn: 0.4348300\ttotal: 6.28s\tremaining: 11.1s\n",
      "362:\tlearn: 0.4348158\ttotal: 6.3s\tremaining: 11.1s\n",
      "363:\tlearn: 0.4347947\ttotal: 6.32s\tremaining: 11s\n",
      "364:\tlearn: 0.4347742\ttotal: 6.34s\tremaining: 11s\n",
      "365:\tlearn: 0.4347560\ttotal: 6.36s\tremaining: 11s\n",
      "366:\tlearn: 0.4347444\ttotal: 6.38s\tremaining: 11s\n",
      "367:\tlearn: 0.4347223\ttotal: 6.4s\tremaining: 11s\n",
      "368:\tlearn: 0.4347052\ttotal: 6.42s\tremaining: 11s\n",
      "369:\tlearn: 0.4346925\ttotal: 6.44s\tremaining: 11s\n",
      "370:\tlearn: 0.4346617\ttotal: 6.46s\tremaining: 11s\n",
      "371:\tlearn: 0.4346003\ttotal: 6.49s\tremaining: 10.9s\n",
      "372:\tlearn: 0.4345938\ttotal: 6.51s\tremaining: 10.9s\n",
      "373:\tlearn: 0.4345453\ttotal: 6.53s\tremaining: 10.9s\n",
      "374:\tlearn: 0.4345230\ttotal: 6.55s\tremaining: 10.9s\n",
      "375:\tlearn: 0.4345111\ttotal: 6.57s\tremaining: 10.9s\n",
      "376:\tlearn: 0.4344873\ttotal: 6.59s\tremaining: 10.9s\n",
      "377:\tlearn: 0.4344729\ttotal: 6.62s\tremaining: 10.9s\n",
      "378:\tlearn: 0.4344447\ttotal: 6.64s\tremaining: 10.9s\n",
      "379:\tlearn: 0.4344172\ttotal: 6.65s\tremaining: 10.8s\n",
      "380:\tlearn: 0.4344061\ttotal: 6.66s\tremaining: 10.8s\n",
      "381:\tlearn: 0.4343980\ttotal: 6.68s\tremaining: 10.8s\n",
      "382:\tlearn: 0.4343852\ttotal: 6.7s\tremaining: 10.8s\n",
      "383:\tlearn: 0.4343794\ttotal: 6.72s\tremaining: 10.8s\n",
      "384:\tlearn: 0.4343653\ttotal: 6.74s\tremaining: 10.8s\n",
      "385:\tlearn: 0.4343577\ttotal: 6.76s\tremaining: 10.8s\n",
      "386:\tlearn: 0.4343435\ttotal: 6.78s\tremaining: 10.7s\n",
      "387:\tlearn: 0.4343348\ttotal: 6.81s\tremaining: 10.7s\n",
      "388:\tlearn: 0.4343268\ttotal: 6.83s\tremaining: 10.7s\n",
      "389:\tlearn: 0.4343215\ttotal: 6.86s\tremaining: 10.7s\n",
      "390:\tlearn: 0.4343148\ttotal: 6.88s\tremaining: 10.7s\n",
      "391:\tlearn: 0.4343090\ttotal: 6.91s\tremaining: 10.7s\n",
      "392:\tlearn: 0.4342754\ttotal: 6.93s\tremaining: 10.7s\n",
      "393:\tlearn: 0.4342558\ttotal: 6.95s\tremaining: 10.7s\n",
      "394:\tlearn: 0.4342344\ttotal: 6.97s\tremaining: 10.7s\n",
      "395:\tlearn: 0.4342178\ttotal: 7s\tremaining: 10.7s\n",
      "396:\tlearn: 0.4342068\ttotal: 7.02s\tremaining: 10.7s\n",
      "397:\tlearn: 0.4341888\ttotal: 7.05s\tremaining: 10.7s\n",
      "398:\tlearn: 0.4341560\ttotal: 7.08s\tremaining: 10.7s\n",
      "399:\tlearn: 0.4341279\ttotal: 7.1s\tremaining: 10.6s\n",
      "400:\tlearn: 0.4341150\ttotal: 7.13s\tremaining: 10.7s\n",
      "401:\tlearn: 0.4340914\ttotal: 7.16s\tremaining: 10.7s\n",
      "402:\tlearn: 0.4340766\ttotal: 7.18s\tremaining: 10.6s\n",
      "403:\tlearn: 0.4340686\ttotal: 7.2s\tremaining: 10.6s\n",
      "404:\tlearn: 0.4340422\ttotal: 7.23s\tremaining: 10.6s\n",
      "405:\tlearn: 0.4340259\ttotal: 7.25s\tremaining: 10.6s\n",
      "406:\tlearn: 0.4340170\ttotal: 7.26s\tremaining: 10.6s\n",
      "407:\tlearn: 0.4339883\ttotal: 7.28s\tremaining: 10.6s\n",
      "408:\tlearn: 0.4339738\ttotal: 7.3s\tremaining: 10.6s\n",
      "409:\tlearn: 0.4339673\ttotal: 7.32s\tremaining: 10.5s\n",
      "410:\tlearn: 0.4339579\ttotal: 7.34s\tremaining: 10.5s\n",
      "411:\tlearn: 0.4339492\ttotal: 7.36s\tremaining: 10.5s\n",
      "412:\tlearn: 0.4339300\ttotal: 7.38s\tremaining: 10.5s\n",
      "413:\tlearn: 0.4339183\ttotal: 7.4s\tremaining: 10.5s\n",
      "414:\tlearn: 0.4338969\ttotal: 7.42s\tremaining: 10.5s\n",
      "415:\tlearn: 0.4338786\ttotal: 7.44s\tremaining: 10.4s\n",
      "416:\tlearn: 0.4338748\ttotal: 7.46s\tremaining: 10.4s\n",
      "417:\tlearn: 0.4338490\ttotal: 7.47s\tremaining: 10.4s\n",
      "418:\tlearn: 0.4338414\ttotal: 7.49s\tremaining: 10.4s\n",
      "419:\tlearn: 0.4338246\ttotal: 7.51s\tremaining: 10.4s\n",
      "420:\tlearn: 0.4338138\ttotal: 7.52s\tremaining: 10.3s\n",
      "421:\tlearn: 0.4338078\ttotal: 7.54s\tremaining: 10.3s\n",
      "422:\tlearn: 0.4337834\ttotal: 7.55s\tremaining: 10.3s\n",
      "423:\tlearn: 0.4337700\ttotal: 7.57s\tremaining: 10.3s\n",
      "424:\tlearn: 0.4337488\ttotal: 7.59s\tremaining: 10.3s\n",
      "425:\tlearn: 0.4337400\ttotal: 7.6s\tremaining: 10.2s\n",
      "426:\tlearn: 0.4337313\ttotal: 7.63s\tremaining: 10.2s\n",
      "427:\tlearn: 0.4337077\ttotal: 7.64s\tremaining: 10.2s\n",
      "428:\tlearn: 0.4336959\ttotal: 7.67s\tremaining: 10.2s\n",
      "429:\tlearn: 0.4336870\ttotal: 7.68s\tremaining: 10.2s\n",
      "430:\tlearn: 0.4336501\ttotal: 7.7s\tremaining: 10.2s\n",
      "431:\tlearn: 0.4336037\ttotal: 7.72s\tremaining: 10.2s\n",
      "432:\tlearn: 0.4335744\ttotal: 7.74s\tremaining: 10.1s\n",
      "433:\tlearn: 0.4335609\ttotal: 7.76s\tremaining: 10.1s\n",
      "434:\tlearn: 0.4335485\ttotal: 7.79s\tremaining: 10.1s\n",
      "435:\tlearn: 0.4335091\ttotal: 7.81s\tremaining: 10.1s\n",
      "436:\tlearn: 0.4334907\ttotal: 7.83s\tremaining: 10.1s\n",
      "437:\tlearn: 0.4334753\ttotal: 7.85s\tremaining: 10.1s\n",
      "438:\tlearn: 0.4334289\ttotal: 7.87s\tremaining: 10.1s\n",
      "439:\tlearn: 0.4333911\ttotal: 7.88s\tremaining: 10s\n",
      "440:\tlearn: 0.4333843\ttotal: 7.9s\tremaining: 10s\n",
      "441:\tlearn: 0.4333775\ttotal: 7.93s\tremaining: 10s\n",
      "442:\tlearn: 0.4333579\ttotal: 7.95s\tremaining: 10s\n",
      "443:\tlearn: 0.4333510\ttotal: 7.97s\tremaining: 9.98s\n",
      "444:\tlearn: 0.4333447\ttotal: 8s\tremaining: 9.97s\n",
      "445:\tlearn: 0.4333300\ttotal: 8.02s\tremaining: 9.97s\n",
      "446:\tlearn: 0.4333069\ttotal: 8.04s\tremaining: 9.95s\n",
      "447:\tlearn: 0.4332845\ttotal: 8.07s\tremaining: 9.94s\n",
      "448:\tlearn: 0.4332724\ttotal: 8.09s\tremaining: 9.93s\n",
      "449:\tlearn: 0.4332613\ttotal: 8.11s\tremaining: 9.91s\n",
      "450:\tlearn: 0.4332549\ttotal: 8.13s\tremaining: 9.9s\n",
      "451:\tlearn: 0.4332516\ttotal: 8.16s\tremaining: 9.89s\n",
      "452:\tlearn: 0.4332455\ttotal: 8.18s\tremaining: 9.88s\n",
      "453:\tlearn: 0.4332389\ttotal: 8.21s\tremaining: 9.87s\n",
      "454:\tlearn: 0.4332300\ttotal: 8.23s\tremaining: 9.86s\n",
      "455:\tlearn: 0.4332178\ttotal: 8.25s\tremaining: 9.84s\n",
      "456:\tlearn: 0.4331981\ttotal: 8.28s\tremaining: 9.83s\n",
      "457:\tlearn: 0.4331892\ttotal: 8.3s\tremaining: 9.82s\n",
      "458:\tlearn: 0.4331624\ttotal: 8.33s\tremaining: 9.81s\n",
      "459:\tlearn: 0.4331504\ttotal: 8.35s\tremaining: 9.8s\n",
      "460:\tlearn: 0.4331478\ttotal: 8.37s\tremaining: 9.78s\n",
      "461:\tlearn: 0.4331428\ttotal: 8.39s\tremaining: 9.77s\n",
      "462:\tlearn: 0.4331341\ttotal: 8.41s\tremaining: 9.75s\n",
      "463:\tlearn: 0.4331296\ttotal: 8.43s\tremaining: 9.74s\n",
      "464:\tlearn: 0.4331266\ttotal: 8.45s\tremaining: 9.72s\n",
      "465:\tlearn: 0.4331176\ttotal: 8.47s\tremaining: 9.71s\n",
      "466:\tlearn: 0.4331077\ttotal: 8.49s\tremaining: 9.69s\n",
      "467:\tlearn: 0.4330892\ttotal: 8.52s\tremaining: 9.68s\n",
      "468:\tlearn: 0.4330845\ttotal: 8.54s\tremaining: 9.67s\n",
      "469:\tlearn: 0.4330739\ttotal: 8.56s\tremaining: 9.65s\n",
      "470:\tlearn: 0.4330668\ttotal: 8.58s\tremaining: 9.63s\n",
      "471:\tlearn: 0.4330636\ttotal: 8.6s\tremaining: 9.62s\n",
      "472:\tlearn: 0.4330587\ttotal: 8.62s\tremaining: 9.61s\n",
      "473:\tlearn: 0.4330466\ttotal: 8.64s\tremaining: 9.59s\n",
      "474:\tlearn: 0.4330382\ttotal: 8.67s\tremaining: 9.58s\n",
      "475:\tlearn: 0.4330352\ttotal: 8.69s\tremaining: 9.56s\n",
      "476:\tlearn: 0.4330238\ttotal: 8.71s\tremaining: 9.55s\n",
      "477:\tlearn: 0.4330070\ttotal: 8.74s\tremaining: 9.54s\n",
      "478:\tlearn: 0.4330018\ttotal: 8.76s\tremaining: 9.53s\n",
      "479:\tlearn: 0.4329892\ttotal: 8.78s\tremaining: 9.52s\n",
      "480:\tlearn: 0.4329807\ttotal: 8.8s\tremaining: 9.5s\n",
      "481:\tlearn: 0.4329517\ttotal: 8.82s\tremaining: 9.48s\n",
      "482:\tlearn: 0.4329368\ttotal: 8.84s\tremaining: 9.47s\n",
      "483:\tlearn: 0.4329151\ttotal: 8.86s\tremaining: 9.45s\n",
      "484:\tlearn: 0.4329106\ttotal: 8.88s\tremaining: 9.43s\n",
      "485:\tlearn: 0.4329033\ttotal: 8.9s\tremaining: 9.42s\n",
      "486:\tlearn: 0.4328925\ttotal: 8.92s\tremaining: 9.4s\n",
      "487:\tlearn: 0.4328830\ttotal: 8.94s\tremaining: 9.38s\n",
      "488:\tlearn: 0.4328781\ttotal: 8.96s\tremaining: 9.36s\n",
      "489:\tlearn: 0.4328652\ttotal: 8.98s\tremaining: 9.35s\n",
      "490:\tlearn: 0.4328593\ttotal: 8.99s\tremaining: 9.32s\n",
      "491:\tlearn: 0.4328525\ttotal: 9.01s\tremaining: 9.3s\n",
      "492:\tlearn: 0.4328455\ttotal: 9.03s\tremaining: 9.29s\n",
      "493:\tlearn: 0.4328308\ttotal: 9.05s\tremaining: 9.27s\n",
      "494:\tlearn: 0.4328243\ttotal: 9.06s\tremaining: 9.25s\n",
      "495:\tlearn: 0.4328211\ttotal: 9.08s\tremaining: 9.23s\n",
      "496:\tlearn: 0.4328175\ttotal: 9.1s\tremaining: 9.21s\n",
      "497:\tlearn: 0.4328132\ttotal: 9.11s\tremaining: 9.19s\n",
      "498:\tlearn: 0.4328035\ttotal: 9.13s\tremaining: 9.16s\n",
      "499:\tlearn: 0.4327983\ttotal: 9.14s\tremaining: 9.14s\n",
      "500:\tlearn: 0.4327967\ttotal: 9.16s\tremaining: 9.12s\n",
      "501:\tlearn: 0.4327836\ttotal: 9.18s\tremaining: 9.11s\n",
      "502:\tlearn: 0.4327748\ttotal: 9.2s\tremaining: 9.09s\n",
      "503:\tlearn: 0.4327666\ttotal: 9.21s\tremaining: 9.07s\n",
      "504:\tlearn: 0.4327570\ttotal: 9.23s\tremaining: 9.05s\n",
      "505:\tlearn: 0.4327420\ttotal: 9.26s\tremaining: 9.04s\n",
      "506:\tlearn: 0.4327385\ttotal: 9.27s\tremaining: 9.02s\n",
      "507:\tlearn: 0.4327247\ttotal: 9.29s\tremaining: 9s\n",
      "508:\tlearn: 0.4327216\ttotal: 9.31s\tremaining: 8.98s\n",
      "509:\tlearn: 0.4327165\ttotal: 9.34s\tremaining: 8.97s\n",
      "510:\tlearn: 0.4327114\ttotal: 9.35s\tremaining: 8.95s\n",
      "511:\tlearn: 0.4327017\ttotal: 9.37s\tremaining: 8.93s\n",
      "512:\tlearn: 0.4326972\ttotal: 9.39s\tremaining: 8.92s\n",
      "513:\tlearn: 0.4326909\ttotal: 9.41s\tremaining: 8.9s\n",
      "514:\tlearn: 0.4326808\ttotal: 9.43s\tremaining: 8.88s\n",
      "515:\tlearn: 0.4326731\ttotal: 9.44s\tremaining: 8.86s\n",
      "516:\tlearn: 0.4326621\ttotal: 9.46s\tremaining: 8.84s\n",
      "517:\tlearn: 0.4326603\ttotal: 9.47s\tremaining: 8.81s\n",
      "518:\tlearn: 0.4326541\ttotal: 9.49s\tremaining: 8.79s\n",
      "519:\tlearn: 0.4326515\ttotal: 9.5s\tremaining: 8.77s\n",
      "520:\tlearn: 0.4326397\ttotal: 9.52s\tremaining: 8.75s\n",
      "521:\tlearn: 0.4326344\ttotal: 9.53s\tremaining: 8.73s\n",
      "522:\tlearn: 0.4326249\ttotal: 9.54s\tremaining: 8.71s\n",
      "523:\tlearn: 0.4326112\ttotal: 9.56s\tremaining: 8.68s\n",
      "524:\tlearn: 0.4326060\ttotal: 9.57s\tremaining: 8.66s\n",
      "525:\tlearn: 0.4325997\ttotal: 9.59s\tremaining: 8.64s\n",
      "526:\tlearn: 0.4325936\ttotal: 9.61s\tremaining: 8.63s\n",
      "527:\tlearn: 0.4325770\ttotal: 9.63s\tremaining: 8.61s\n",
      "528:\tlearn: 0.4325713\ttotal: 9.65s\tremaining: 8.59s\n",
      "529:\tlearn: 0.4325588\ttotal: 9.67s\tremaining: 8.58s\n",
      "530:\tlearn: 0.4325581\ttotal: 9.7s\tremaining: 8.56s\n",
      "531:\tlearn: 0.4325520\ttotal: 9.71s\tremaining: 8.55s\n",
      "532:\tlearn: 0.4325439\ttotal: 9.74s\tremaining: 8.53s\n",
      "533:\tlearn: 0.4325393\ttotal: 9.75s\tremaining: 8.51s\n",
      "534:\tlearn: 0.4325349\ttotal: 9.77s\tremaining: 8.49s\n",
      "535:\tlearn: 0.4325307\ttotal: 9.79s\tremaining: 8.47s\n",
      "536:\tlearn: 0.4325249\ttotal: 9.8s\tremaining: 8.45s\n",
      "537:\tlearn: 0.4325209\ttotal: 9.82s\tremaining: 8.43s\n",
      "538:\tlearn: 0.4325184\ttotal: 9.83s\tremaining: 8.41s\n",
      "539:\tlearn: 0.4325152\ttotal: 9.85s\tremaining: 8.39s\n",
      "540:\tlearn: 0.4325135\ttotal: 9.86s\tremaining: 8.37s\n",
      "541:\tlearn: 0.4325083\ttotal: 9.88s\tremaining: 8.35s\n",
      "542:\tlearn: 0.4324951\ttotal: 9.89s\tremaining: 8.32s\n",
      "543:\tlearn: 0.4324866\ttotal: 9.9s\tremaining: 8.3s\n",
      "544:\tlearn: 0.4324725\ttotal: 9.92s\tremaining: 8.28s\n",
      "545:\tlearn: 0.4324642\ttotal: 9.93s\tremaining: 8.26s\n",
      "546:\tlearn: 0.4324618\ttotal: 9.95s\tremaining: 8.24s\n",
      "547:\tlearn: 0.4324470\ttotal: 9.97s\tremaining: 8.22s\n",
      "548:\tlearn: 0.4324348\ttotal: 9.99s\tremaining: 8.21s\n",
      "549:\tlearn: 0.4324314\ttotal: 10s\tremaining: 8.2s\n",
      "550:\tlearn: 0.4324228\ttotal: 10s\tremaining: 8.18s\n",
      "551:\tlearn: 0.4324048\ttotal: 10.1s\tremaining: 8.16s\n",
      "552:\tlearn: 0.4323919\ttotal: 10.1s\tremaining: 8.15s\n",
      "553:\tlearn: 0.4323900\ttotal: 10.1s\tremaining: 8.13s\n",
      "554:\tlearn: 0.4323871\ttotal: 10.1s\tremaining: 8.12s\n",
      "555:\tlearn: 0.4323773\ttotal: 10.1s\tremaining: 8.1s\n",
      "556:\tlearn: 0.4323489\ttotal: 10.2s\tremaining: 8.09s\n",
      "557:\tlearn: 0.4323445\ttotal: 10.2s\tremaining: 8.08s\n",
      "558:\tlearn: 0.4323416\ttotal: 10.2s\tremaining: 8.07s\n",
      "559:\tlearn: 0.4323348\ttotal: 10.2s\tremaining: 8.05s\n",
      "560:\tlearn: 0.4323264\ttotal: 10.3s\tremaining: 8.03s\n",
      "561:\tlearn: 0.4323237\ttotal: 10.3s\tremaining: 8.02s\n",
      "562:\tlearn: 0.4323138\ttotal: 10.3s\tremaining: 8s\n",
      "563:\tlearn: 0.4323080\ttotal: 10.3s\tremaining: 7.98s\n",
      "564:\tlearn: 0.4323059\ttotal: 10.3s\tremaining: 7.97s\n",
      "565:\tlearn: 0.4323039\ttotal: 10.4s\tremaining: 7.95s\n",
      "566:\tlearn: 0.4322968\ttotal: 10.4s\tremaining: 7.93s\n",
      "567:\tlearn: 0.4322926\ttotal: 10.4s\tremaining: 7.92s\n",
      "568:\tlearn: 0.4322884\ttotal: 10.4s\tremaining: 7.91s\n",
      "569:\tlearn: 0.4322809\ttotal: 10.5s\tremaining: 7.89s\n",
      "570:\tlearn: 0.4322753\ttotal: 10.5s\tremaining: 7.87s\n",
      "571:\tlearn: 0.4322725\ttotal: 10.5s\tremaining: 7.86s\n",
      "572:\tlearn: 0.4322604\ttotal: 10.5s\tremaining: 7.84s\n",
      "573:\tlearn: 0.4322559\ttotal: 10.5s\tremaining: 7.82s\n",
      "574:\tlearn: 0.4322539\ttotal: 10.6s\tremaining: 7.81s\n",
      "575:\tlearn: 0.4322465\ttotal: 10.6s\tremaining: 7.79s\n",
      "576:\tlearn: 0.4322423\ttotal: 10.6s\tremaining: 7.77s\n",
      "577:\tlearn: 0.4322373\ttotal: 10.6s\tremaining: 7.75s\n",
      "578:\tlearn: 0.4322361\ttotal: 10.6s\tremaining: 7.73s\n",
      "579:\tlearn: 0.4322324\ttotal: 10.6s\tremaining: 7.71s\n",
      "580:\tlearn: 0.4322282\ttotal: 10.7s\tremaining: 7.69s\n",
      "581:\tlearn: 0.4322235\ttotal: 10.7s\tremaining: 7.67s\n",
      "582:\tlearn: 0.4322167\ttotal: 10.7s\tremaining: 7.65s\n",
      "583:\tlearn: 0.4322134\ttotal: 10.7s\tremaining: 7.63s\n",
      "584:\tlearn: 0.4322110\ttotal: 10.7s\tremaining: 7.62s\n",
      "585:\tlearn: 0.4322070\ttotal: 10.8s\tremaining: 7.6s\n",
      "586:\tlearn: 0.4321995\ttotal: 10.8s\tremaining: 7.58s\n",
      "587:\tlearn: 0.4321933\ttotal: 10.8s\tremaining: 7.56s\n",
      "588:\tlearn: 0.4321925\ttotal: 10.8s\tremaining: 7.54s\n",
      "589:\tlearn: 0.4321890\ttotal: 10.8s\tremaining: 7.53s\n",
      "590:\tlearn: 0.4321867\ttotal: 10.8s\tremaining: 7.51s\n",
      "591:\tlearn: 0.4321827\ttotal: 10.9s\tremaining: 7.49s\n",
      "592:\tlearn: 0.4321781\ttotal: 10.9s\tremaining: 7.47s\n",
      "593:\tlearn: 0.4321762\ttotal: 10.9s\tremaining: 7.45s\n",
      "594:\tlearn: 0.4321719\ttotal: 10.9s\tremaining: 7.44s\n",
      "595:\tlearn: 0.4321670\ttotal: 10.9s\tremaining: 7.42s\n",
      "596:\tlearn: 0.4321633\ttotal: 11s\tremaining: 7.4s\n",
      "597:\tlearn: 0.4321544\ttotal: 11s\tremaining: 7.38s\n",
      "598:\tlearn: 0.4321525\ttotal: 11s\tremaining: 7.37s\n",
      "599:\tlearn: 0.4321455\ttotal: 11s\tremaining: 7.35s\n",
      "600:\tlearn: 0.4321425\ttotal: 11s\tremaining: 7.33s\n",
      "601:\tlearn: 0.4321368\ttotal: 11.1s\tremaining: 7.31s\n",
      "602:\tlearn: 0.4321351\ttotal: 11.1s\tremaining: 7.29s\n",
      "603:\tlearn: 0.4321176\ttotal: 11.1s\tremaining: 7.28s\n",
      "604:\tlearn: 0.4321146\ttotal: 11.1s\tremaining: 7.26s\n",
      "605:\tlearn: 0.4321119\ttotal: 11.1s\tremaining: 7.24s\n",
      "606:\tlearn: 0.4321092\ttotal: 11.2s\tremaining: 7.22s\n",
      "607:\tlearn: 0.4321068\ttotal: 11.2s\tremaining: 7.21s\n",
      "608:\tlearn: 0.4321049\ttotal: 11.2s\tremaining: 7.19s\n",
      "609:\tlearn: 0.4320989\ttotal: 11.2s\tremaining: 7.17s\n",
      "610:\tlearn: 0.4320963\ttotal: 11.2s\tremaining: 7.16s\n",
      "611:\tlearn: 0.4320926\ttotal: 11.3s\tremaining: 7.14s\n",
      "612:\tlearn: 0.4320895\ttotal: 11.3s\tremaining: 7.13s\n",
      "613:\tlearn: 0.4320846\ttotal: 11.3s\tremaining: 7.11s\n",
      "614:\tlearn: 0.4320784\ttotal: 11.4s\tremaining: 7.11s\n",
      "615:\tlearn: 0.4320569\ttotal: 11.4s\tremaining: 7.1s\n",
      "616:\tlearn: 0.4320537\ttotal: 11.4s\tremaining: 7.08s\n",
      "617:\tlearn: 0.4320466\ttotal: 11.4s\tremaining: 7.07s\n",
      "618:\tlearn: 0.4320420\ttotal: 11.5s\tremaining: 7.05s\n",
      "619:\tlearn: 0.4320333\ttotal: 11.5s\tremaining: 7.04s\n",
      "620:\tlearn: 0.4320239\ttotal: 11.5s\tremaining: 7.02s\n",
      "621:\tlearn: 0.4320214\ttotal: 11.5s\tremaining: 7s\n",
      "622:\tlearn: 0.4320204\ttotal: 11.5s\tremaining: 6.99s\n",
      "623:\tlearn: 0.4320175\ttotal: 11.6s\tremaining: 6.97s\n",
      "624:\tlearn: 0.4320136\ttotal: 11.6s\tremaining: 6.95s\n",
      "625:\tlearn: 0.4320016\ttotal: 11.6s\tremaining: 6.94s\n",
      "626:\tlearn: 0.4319948\ttotal: 11.6s\tremaining: 6.92s\n",
      "627:\tlearn: 0.4319918\ttotal: 11.6s\tremaining: 6.9s\n",
      "628:\tlearn: 0.4319835\ttotal: 11.7s\tremaining: 6.88s\n",
      "629:\tlearn: 0.4319769\ttotal: 11.7s\tremaining: 6.86s\n",
      "630:\tlearn: 0.4319752\ttotal: 11.7s\tremaining: 6.85s\n",
      "631:\tlearn: 0.4319726\ttotal: 11.7s\tremaining: 6.83s\n",
      "632:\tlearn: 0.4319676\ttotal: 11.7s\tremaining: 6.81s\n",
      "633:\tlearn: 0.4319660\ttotal: 11.8s\tremaining: 6.8s\n",
      "634:\tlearn: 0.4319614\ttotal: 11.8s\tremaining: 6.78s\n",
      "635:\tlearn: 0.4319593\ttotal: 11.8s\tremaining: 6.76s\n",
      "636:\tlearn: 0.4319525\ttotal: 11.8s\tremaining: 6.75s\n",
      "637:\tlearn: 0.4319466\ttotal: 11.9s\tremaining: 6.73s\n",
      "638:\tlearn: 0.4319415\ttotal: 11.9s\tremaining: 6.71s\n",
      "639:\tlearn: 0.4319399\ttotal: 11.9s\tremaining: 6.69s\n",
      "640:\tlearn: 0.4319342\ttotal: 11.9s\tremaining: 6.67s\n",
      "641:\tlearn: 0.4319297\ttotal: 11.9s\tremaining: 6.65s\n",
      "642:\tlearn: 0.4319251\ttotal: 11.9s\tremaining: 6.63s\n",
      "643:\tlearn: 0.4319158\ttotal: 12s\tremaining: 6.61s\n",
      "644:\tlearn: 0.4319141\ttotal: 12s\tremaining: 6.6s\n",
      "645:\tlearn: 0.4319086\ttotal: 12s\tremaining: 6.58s\n",
      "646:\tlearn: 0.4319056\ttotal: 12s\tremaining: 6.56s\n",
      "647:\tlearn: 0.4319033\ttotal: 12s\tremaining: 6.54s\n",
      "648:\tlearn: 0.4318997\ttotal: 12.1s\tremaining: 6.52s\n",
      "649:\tlearn: 0.4318945\ttotal: 12.1s\tremaining: 6.5s\n",
      "650:\tlearn: 0.4318920\ttotal: 12.1s\tremaining: 6.49s\n",
      "651:\tlearn: 0.4318823\ttotal: 12.1s\tremaining: 6.47s\n",
      "652:\tlearn: 0.4318805\ttotal: 12.1s\tremaining: 6.46s\n",
      "653:\tlearn: 0.4318739\ttotal: 12.2s\tremaining: 6.44s\n",
      "654:\tlearn: 0.4318721\ttotal: 12.2s\tremaining: 6.42s\n",
      "655:\tlearn: 0.4318698\ttotal: 12.2s\tremaining: 6.41s\n",
      "656:\tlearn: 0.4318692\ttotal: 12.2s\tremaining: 6.39s\n",
      "657:\tlearn: 0.4318648\ttotal: 12.3s\tremaining: 6.37s\n",
      "658:\tlearn: 0.4318629\ttotal: 12.3s\tremaining: 6.36s\n",
      "659:\tlearn: 0.4318562\ttotal: 12.3s\tremaining: 6.34s\n",
      "660:\tlearn: 0.4318499\ttotal: 12.3s\tremaining: 6.32s\n",
      "661:\tlearn: 0.4318462\ttotal: 12.4s\tremaining: 6.31s\n",
      "662:\tlearn: 0.4318305\ttotal: 12.4s\tremaining: 6.29s\n",
      "663:\tlearn: 0.4318256\ttotal: 12.4s\tremaining: 6.28s\n",
      "664:\tlearn: 0.4318190\ttotal: 12.4s\tremaining: 6.26s\n",
      "665:\tlearn: 0.4318171\ttotal: 12.4s\tremaining: 6.24s\n",
      "666:\tlearn: 0.4318129\ttotal: 12.5s\tremaining: 6.23s\n",
      "667:\tlearn: 0.4318112\ttotal: 12.5s\tremaining: 6.21s\n",
      "668:\tlearn: 0.4318074\ttotal: 12.5s\tremaining: 6.2s\n",
      "669:\tlearn: 0.4318061\ttotal: 12.5s\tremaining: 6.18s\n",
      "670:\tlearn: 0.4318040\ttotal: 12.6s\tremaining: 6.16s\n",
      "671:\tlearn: 0.4317993\ttotal: 12.6s\tremaining: 6.14s\n",
      "672:\tlearn: 0.4317965\ttotal: 12.6s\tremaining: 6.13s\n",
      "673:\tlearn: 0.4317921\ttotal: 12.6s\tremaining: 6.11s\n",
      "674:\tlearn: 0.4317894\ttotal: 12.6s\tremaining: 6.09s\n",
      "675:\tlearn: 0.4317866\ttotal: 12.7s\tremaining: 6.07s\n",
      "676:\tlearn: 0.4317820\ttotal: 12.7s\tremaining: 6.06s\n",
      "677:\tlearn: 0.4317796\ttotal: 12.7s\tremaining: 6.05s\n",
      "678:\tlearn: 0.4317747\ttotal: 12.8s\tremaining: 6.04s\n",
      "679:\tlearn: 0.4317717\ttotal: 12.8s\tremaining: 6.03s\n",
      "680:\tlearn: 0.4317691\ttotal: 12.8s\tremaining: 6.01s\n",
      "681:\tlearn: 0.4317665\ttotal: 12.8s\tremaining: 5.99s\n",
      "682:\tlearn: 0.4317639\ttotal: 12.9s\tremaining: 5.97s\n",
      "683:\tlearn: 0.4317607\ttotal: 12.9s\tremaining: 5.95s\n",
      "684:\tlearn: 0.4317585\ttotal: 12.9s\tremaining: 5.94s\n",
      "685:\tlearn: 0.4317578\ttotal: 12.9s\tremaining: 5.92s\n",
      "686:\tlearn: 0.4317547\ttotal: 13s\tremaining: 5.91s\n",
      "687:\tlearn: 0.4317519\ttotal: 13s\tremaining: 5.89s\n",
      "688:\tlearn: 0.4317484\ttotal: 13s\tremaining: 5.88s\n",
      "689:\tlearn: 0.4317461\ttotal: 13s\tremaining: 5.86s\n",
      "690:\tlearn: 0.4317400\ttotal: 13.1s\tremaining: 5.84s\n",
      "691:\tlearn: 0.4317380\ttotal: 13.1s\tremaining: 5.82s\n",
      "692:\tlearn: 0.4317332\ttotal: 13.1s\tremaining: 5.8s\n",
      "693:\tlearn: 0.4317314\ttotal: 13.1s\tremaining: 5.79s\n",
      "694:\tlearn: 0.4317297\ttotal: 13.1s\tremaining: 5.77s\n",
      "695:\tlearn: 0.4317259\ttotal: 13.2s\tremaining: 5.75s\n",
      "696:\tlearn: 0.4317248\ttotal: 13.2s\tremaining: 5.74s\n",
      "697:\tlearn: 0.4317222\ttotal: 13.2s\tremaining: 5.73s\n",
      "698:\tlearn: 0.4317211\ttotal: 13.3s\tremaining: 5.72s\n",
      "699:\tlearn: 0.4317162\ttotal: 13.3s\tremaining: 5.7s\n",
      "700:\tlearn: 0.4317142\ttotal: 13.3s\tremaining: 5.69s\n",
      "701:\tlearn: 0.4317127\ttotal: 13.4s\tremaining: 5.67s\n",
      "702:\tlearn: 0.4317082\ttotal: 13.4s\tremaining: 5.65s\n",
      "703:\tlearn: 0.4316899\ttotal: 13.4s\tremaining: 5.64s\n",
      "704:\tlearn: 0.4316865\ttotal: 13.4s\tremaining: 5.63s\n",
      "705:\tlearn: 0.4316867\ttotal: 13.5s\tremaining: 5.62s\n",
      "706:\tlearn: 0.4316837\ttotal: 13.5s\tremaining: 5.61s\n",
      "707:\tlearn: 0.4316763\ttotal: 13.6s\tremaining: 5.6s\n",
      "708:\tlearn: 0.4316671\ttotal: 13.6s\tremaining: 5.59s\n",
      "709:\tlearn: 0.4316552\ttotal: 13.6s\tremaining: 5.57s\n",
      "710:\tlearn: 0.4316501\ttotal: 13.7s\tremaining: 5.56s\n",
      "711:\tlearn: 0.4316424\ttotal: 13.7s\tremaining: 5.55s\n",
      "712:\tlearn: 0.4316393\ttotal: 13.8s\tremaining: 5.54s\n",
      "713:\tlearn: 0.4316351\ttotal: 13.8s\tremaining: 5.52s\n",
      "714:\tlearn: 0.4316334\ttotal: 13.8s\tremaining: 5.5s\n",
      "715:\tlearn: 0.4316313\ttotal: 13.8s\tremaining: 5.48s\n",
      "716:\tlearn: 0.4316279\ttotal: 13.8s\tremaining: 5.45s\n",
      "717:\tlearn: 0.4316284\ttotal: 13.8s\tremaining: 5.43s\n",
      "718:\tlearn: 0.4316270\ttotal: 13.8s\tremaining: 5.41s\n",
      "719:\tlearn: 0.4316247\ttotal: 13.9s\tremaining: 5.39s\n",
      "720:\tlearn: 0.4316234\ttotal: 13.9s\tremaining: 5.38s\n",
      "721:\tlearn: 0.4316229\ttotal: 13.9s\tremaining: 5.36s\n",
      "722:\tlearn: 0.4316216\ttotal: 14s\tremaining: 5.34s\n",
      "723:\tlearn: 0.4316185\ttotal: 14s\tremaining: 5.33s\n",
      "724:\tlearn: 0.4316185\ttotal: 14s\tremaining: 5.3s\n",
      "725:\tlearn: 0.4316100\ttotal: 14s\tremaining: 5.29s\n",
      "726:\tlearn: 0.4316002\ttotal: 14s\tremaining: 5.27s\n",
      "727:\tlearn: 0.4315949\ttotal: 14.1s\tremaining: 5.25s\n",
      "728:\tlearn: 0.4315945\ttotal: 14.1s\tremaining: 5.23s\n",
      "729:\tlearn: 0.4315909\ttotal: 14.1s\tremaining: 5.21s\n",
      "730:\tlearn: 0.4315901\ttotal: 14.1s\tremaining: 5.19s\n",
      "731:\tlearn: 0.4315878\ttotal: 14.1s\tremaining: 5.17s\n",
      "732:\tlearn: 0.4315867\ttotal: 14.2s\tremaining: 5.16s\n",
      "733:\tlearn: 0.4315821\ttotal: 14.2s\tremaining: 5.13s\n",
      "734:\tlearn: 0.4315789\ttotal: 14.2s\tremaining: 5.11s\n",
      "735:\tlearn: 0.4315747\ttotal: 14.2s\tremaining: 5.09s\n",
      "736:\tlearn: 0.4315724\ttotal: 14.2s\tremaining: 5.07s\n",
      "737:\tlearn: 0.4315710\ttotal: 14.2s\tremaining: 5.05s\n",
      "738:\tlearn: 0.4315694\ttotal: 14.2s\tremaining: 5.03s\n",
      "739:\tlearn: 0.4315628\ttotal: 14.3s\tremaining: 5.01s\n",
      "740:\tlearn: 0.4315597\ttotal: 14.3s\tremaining: 4.99s\n",
      "741:\tlearn: 0.4315556\ttotal: 14.3s\tremaining: 4.97s\n",
      "742:\tlearn: 0.4315500\ttotal: 14.3s\tremaining: 4.95s\n",
      "743:\tlearn: 0.4315467\ttotal: 14.3s\tremaining: 4.93s\n",
      "744:\tlearn: 0.4315408\ttotal: 14.4s\tremaining: 4.92s\n",
      "745:\tlearn: 0.4315392\ttotal: 14.4s\tremaining: 4.91s\n",
      "746:\tlearn: 0.4315367\ttotal: 14.5s\tremaining: 4.9s\n",
      "747:\tlearn: 0.4315361\ttotal: 14.5s\tremaining: 4.88s\n",
      "748:\tlearn: 0.4315331\ttotal: 14.5s\tremaining: 4.86s\n",
      "749:\tlearn: 0.4315324\ttotal: 14.5s\tremaining: 4.84s\n",
      "750:\tlearn: 0.4315295\ttotal: 14.6s\tremaining: 4.83s\n",
      "751:\tlearn: 0.4315298\ttotal: 14.6s\tremaining: 4.8s\n",
      "752:\tlearn: 0.4315284\ttotal: 14.6s\tremaining: 4.79s\n",
      "753:\tlearn: 0.4315261\ttotal: 14.6s\tremaining: 4.77s\n",
      "754:\tlearn: 0.4315246\ttotal: 14.7s\tremaining: 4.75s\n",
      "755:\tlearn: 0.4315150\ttotal: 14.7s\tremaining: 4.74s\n",
      "756:\tlearn: 0.4315128\ttotal: 14.7s\tremaining: 4.72s\n",
      "757:\tlearn: 0.4315101\ttotal: 14.7s\tremaining: 4.7s\n",
      "758:\tlearn: 0.4315090\ttotal: 14.7s\tremaining: 4.68s\n",
      "759:\tlearn: 0.4315047\ttotal: 14.8s\tremaining: 4.66s\n",
      "760:\tlearn: 0.4315021\ttotal: 14.8s\tremaining: 4.64s\n",
      "761:\tlearn: 0.4315006\ttotal: 14.8s\tremaining: 4.63s\n",
      "762:\tlearn: 0.4314987\ttotal: 14.8s\tremaining: 4.61s\n",
      "763:\tlearn: 0.4314980\ttotal: 14.9s\tremaining: 4.59s\n",
      "764:\tlearn: 0.4314954\ttotal: 14.9s\tremaining: 4.57s\n",
      "765:\tlearn: 0.4314938\ttotal: 14.9s\tremaining: 4.55s\n",
      "766:\tlearn: 0.4314901\ttotal: 14.9s\tremaining: 4.53s\n",
      "767:\tlearn: 0.4314893\ttotal: 14.9s\tremaining: 4.51s\n",
      "768:\tlearn: 0.4314788\ttotal: 14.9s\tremaining: 4.49s\n",
      "769:\tlearn: 0.4314753\ttotal: 15s\tremaining: 4.47s\n",
      "770:\tlearn: 0.4314724\ttotal: 15s\tremaining: 4.45s\n",
      "771:\tlearn: 0.4314720\ttotal: 15s\tremaining: 4.43s\n",
      "772:\tlearn: 0.4314683\ttotal: 15s\tremaining: 4.41s\n",
      "773:\tlearn: 0.4314678\ttotal: 15s\tremaining: 4.39s\n",
      "774:\tlearn: 0.4314656\ttotal: 15.1s\tremaining: 4.37s\n",
      "775:\tlearn: 0.4314646\ttotal: 15.1s\tremaining: 4.35s\n",
      "776:\tlearn: 0.4314624\ttotal: 15.1s\tremaining: 4.33s\n",
      "777:\tlearn: 0.4314599\ttotal: 15.1s\tremaining: 4.31s\n",
      "778:\tlearn: 0.4314560\ttotal: 15.1s\tremaining: 4.29s\n",
      "779:\tlearn: 0.4314555\ttotal: 15.2s\tremaining: 4.27s\n",
      "780:\tlearn: 0.4314538\ttotal: 15.2s\tremaining: 4.25s\n",
      "781:\tlearn: 0.4314402\ttotal: 15.2s\tremaining: 4.23s\n",
      "782:\tlearn: 0.4314383\ttotal: 15.2s\tremaining: 4.21s\n",
      "783:\tlearn: 0.4314374\ttotal: 15.2s\tremaining: 4.19s\n",
      "784:\tlearn: 0.4314361\ttotal: 15.2s\tremaining: 4.17s\n",
      "785:\tlearn: 0.4314310\ttotal: 15.3s\tremaining: 4.16s\n",
      "786:\tlearn: 0.4314306\ttotal: 15.3s\tremaining: 4.14s\n",
      "787:\tlearn: 0.4314302\ttotal: 15.3s\tremaining: 4.12s\n",
      "788:\tlearn: 0.4314237\ttotal: 15.3s\tremaining: 4.1s\n",
      "789:\tlearn: 0.4314196\ttotal: 15.4s\tremaining: 4.08s\n",
      "790:\tlearn: 0.4314140\ttotal: 15.4s\tremaining: 4.07s\n",
      "791:\tlearn: 0.4314133\ttotal: 15.4s\tremaining: 4.05s\n",
      "792:\tlearn: 0.4314120\ttotal: 15.4s\tremaining: 4.03s\n",
      "793:\tlearn: 0.4314113\ttotal: 15.5s\tremaining: 4.01s\n",
      "794:\tlearn: 0.4314074\ttotal: 15.5s\tremaining: 3.99s\n",
      "795:\tlearn: 0.4314070\ttotal: 15.5s\tremaining: 3.97s\n",
      "796:\tlearn: 0.4314057\ttotal: 15.5s\tremaining: 3.96s\n",
      "797:\tlearn: 0.4314046\ttotal: 15.6s\tremaining: 3.94s\n",
      "798:\tlearn: 0.4313954\ttotal: 15.6s\tremaining: 3.92s\n",
      "799:\tlearn: 0.4313949\ttotal: 15.6s\tremaining: 3.9s\n",
      "800:\tlearn: 0.4313919\ttotal: 15.6s\tremaining: 3.88s\n",
      "801:\tlearn: 0.4313914\ttotal: 15.6s\tremaining: 3.86s\n",
      "802:\tlearn: 0.4313889\ttotal: 15.7s\tremaining: 3.84s\n",
      "803:\tlearn: 0.4313878\ttotal: 15.7s\tremaining: 3.82s\n",
      "804:\tlearn: 0.4313874\ttotal: 15.7s\tremaining: 3.8s\n",
      "805:\tlearn: 0.4313867\ttotal: 15.7s\tremaining: 3.78s\n",
      "806:\tlearn: 0.4313860\ttotal: 15.7s\tremaining: 3.76s\n",
      "807:\tlearn: 0.4313756\ttotal: 15.8s\tremaining: 3.74s\n",
      "808:\tlearn: 0.4313746\ttotal: 15.8s\tremaining: 3.73s\n",
      "809:\tlearn: 0.4313729\ttotal: 15.8s\tremaining: 3.71s\n",
      "810:\tlearn: 0.4313703\ttotal: 15.8s\tremaining: 3.69s\n",
      "811:\tlearn: 0.4313689\ttotal: 15.8s\tremaining: 3.67s\n",
      "812:\tlearn: 0.4313678\ttotal: 15.9s\tremaining: 3.65s\n",
      "813:\tlearn: 0.4313641\ttotal: 15.9s\tremaining: 3.63s\n",
      "814:\tlearn: 0.4313619\ttotal: 15.9s\tremaining: 3.61s\n",
      "815:\tlearn: 0.4313593\ttotal: 15.9s\tremaining: 3.59s\n",
      "816:\tlearn: 0.4313566\ttotal: 15.9s\tremaining: 3.57s\n",
      "817:\tlearn: 0.4313568\ttotal: 16s\tremaining: 3.55s\n",
      "818:\tlearn: 0.4313488\ttotal: 16s\tremaining: 3.53s\n",
      "819:\tlearn: 0.4313433\ttotal: 16s\tremaining: 3.51s\n",
      "820:\tlearn: 0.4313402\ttotal: 16s\tremaining: 3.49s\n",
      "821:\tlearn: 0.4313392\ttotal: 16s\tremaining: 3.47s\n",
      "822:\tlearn: 0.4313381\ttotal: 16s\tremaining: 3.45s\n",
      "823:\tlearn: 0.4313357\ttotal: 16.1s\tremaining: 3.43s\n",
      "824:\tlearn: 0.4313338\ttotal: 16.1s\tremaining: 3.41s\n",
      "825:\tlearn: 0.4313335\ttotal: 16.1s\tremaining: 3.39s\n",
      "826:\tlearn: 0.4313238\ttotal: 16.1s\tremaining: 3.37s\n",
      "827:\tlearn: 0.4313226\ttotal: 16.1s\tremaining: 3.35s\n",
      "828:\tlearn: 0.4313209\ttotal: 16.2s\tremaining: 3.33s\n",
      "829:\tlearn: 0.4313208\ttotal: 16.2s\tremaining: 3.31s\n",
      "830:\tlearn: 0.4313191\ttotal: 16.2s\tremaining: 3.29s\n",
      "831:\tlearn: 0.4313184\ttotal: 16.2s\tremaining: 3.27s\n",
      "832:\tlearn: 0.4313174\ttotal: 16.2s\tremaining: 3.25s\n",
      "833:\tlearn: 0.4313169\ttotal: 16.2s\tremaining: 3.23s\n",
      "834:\tlearn: 0.4313154\ttotal: 16.3s\tremaining: 3.21s\n",
      "835:\tlearn: 0.4313142\ttotal: 16.3s\tremaining: 3.19s\n",
      "836:\tlearn: 0.4313126\ttotal: 16.3s\tremaining: 3.17s\n",
      "837:\tlearn: 0.4313122\ttotal: 16.3s\tremaining: 3.16s\n",
      "838:\tlearn: 0.4313063\ttotal: 16.3s\tremaining: 3.14s\n",
      "839:\tlearn: 0.4313033\ttotal: 16.4s\tremaining: 3.12s\n",
      "840:\tlearn: 0.4313011\ttotal: 16.4s\tremaining: 3.1s\n",
      "841:\tlearn: 0.4312974\ttotal: 16.4s\tremaining: 3.08s\n",
      "842:\tlearn: 0.4312944\ttotal: 16.4s\tremaining: 3.06s\n",
      "843:\tlearn: 0.4312927\ttotal: 16.5s\tremaining: 3.04s\n",
      "844:\tlearn: 0.4312930\ttotal: 16.5s\tremaining: 3.02s\n",
      "845:\tlearn: 0.4312905\ttotal: 16.5s\tremaining: 3s\n",
      "846:\tlearn: 0.4312860\ttotal: 16.5s\tremaining: 2.98s\n",
      "847:\tlearn: 0.4312836\ttotal: 16.5s\tremaining: 2.96s\n",
      "848:\tlearn: 0.4312821\ttotal: 16.6s\tremaining: 2.94s\n",
      "849:\tlearn: 0.4312809\ttotal: 16.6s\tremaining: 2.92s\n",
      "850:\tlearn: 0.4312800\ttotal: 16.6s\tremaining: 2.9s\n",
      "851:\tlearn: 0.4312776\ttotal: 16.6s\tremaining: 2.88s\n",
      "852:\tlearn: 0.4312756\ttotal: 16.6s\tremaining: 2.87s\n",
      "853:\tlearn: 0.4312748\ttotal: 16.7s\tremaining: 2.85s\n",
      "854:\tlearn: 0.4312695\ttotal: 16.7s\tremaining: 2.83s\n",
      "855:\tlearn: 0.4312688\ttotal: 16.7s\tremaining: 2.81s\n",
      "856:\tlearn: 0.4312661\ttotal: 16.7s\tremaining: 2.79s\n",
      "857:\tlearn: 0.4312616\ttotal: 16.7s\tremaining: 2.77s\n",
      "858:\tlearn: 0.4312604\ttotal: 16.8s\tremaining: 2.75s\n",
      "859:\tlearn: 0.4312580\ttotal: 16.8s\tremaining: 2.73s\n",
      "860:\tlearn: 0.4312561\ttotal: 16.8s\tremaining: 2.71s\n",
      "861:\tlearn: 0.4312543\ttotal: 16.8s\tremaining: 2.7s\n",
      "862:\tlearn: 0.4312552\ttotal: 16.9s\tremaining: 2.68s\n",
      "863:\tlearn: 0.4312422\ttotal: 16.9s\tremaining: 2.66s\n",
      "864:\tlearn: 0.4312410\ttotal: 16.9s\tremaining: 2.64s\n",
      "865:\tlearn: 0.4312396\ttotal: 16.9s\tremaining: 2.62s\n",
      "866:\tlearn: 0.4312357\ttotal: 17s\tremaining: 2.6s\n",
      "867:\tlearn: 0.4312355\ttotal: 17s\tremaining: 2.58s\n",
      "868:\tlearn: 0.4312345\ttotal: 17s\tremaining: 2.57s\n",
      "869:\tlearn: 0.4312336\ttotal: 17.1s\tremaining: 2.55s\n",
      "870:\tlearn: 0.4312325\ttotal: 17.1s\tremaining: 2.53s\n",
      "871:\tlearn: 0.4312319\ttotal: 17.1s\tremaining: 2.51s\n",
      "872:\tlearn: 0.4312312\ttotal: 17.1s\tremaining: 2.49s\n",
      "873:\tlearn: 0.4312299\ttotal: 17.2s\tremaining: 2.48s\n",
      "874:\tlearn: 0.4312294\ttotal: 17.2s\tremaining: 2.46s\n",
      "875:\tlearn: 0.4312276\ttotal: 17.2s\tremaining: 2.44s\n",
      "876:\tlearn: 0.4312260\ttotal: 17.2s\tremaining: 2.42s\n",
      "877:\tlearn: 0.4312246\ttotal: 17.3s\tremaining: 2.4s\n",
      "878:\tlearn: 0.4312254\ttotal: 17.3s\tremaining: 2.38s\n",
      "879:\tlearn: 0.4312238\ttotal: 17.3s\tremaining: 2.36s\n",
      "880:\tlearn: 0.4312237\ttotal: 17.3s\tremaining: 2.34s\n",
      "881:\tlearn: 0.4312239\ttotal: 17.3s\tremaining: 2.32s\n",
      "882:\tlearn: 0.4312223\ttotal: 17.4s\tremaining: 2.31s\n",
      "883:\tlearn: 0.4312211\ttotal: 17.5s\tremaining: 2.29s\n",
      "884:\tlearn: 0.4312204\ttotal: 17.5s\tremaining: 2.27s\n",
      "885:\tlearn: 0.4312193\ttotal: 17.5s\tremaining: 2.25s\n",
      "886:\tlearn: 0.4312178\ttotal: 17.5s\tremaining: 2.23s\n",
      "887:\tlearn: 0.4312174\ttotal: 17.5s\tremaining: 2.21s\n",
      "888:\tlearn: 0.4312169\ttotal: 17.6s\tremaining: 2.19s\n",
      "889:\tlearn: 0.4312151\ttotal: 17.6s\tremaining: 2.17s\n",
      "890:\tlearn: 0.4312131\ttotal: 17.6s\tremaining: 2.15s\n",
      "891:\tlearn: 0.4312122\ttotal: 17.6s\tremaining: 2.14s\n",
      "892:\tlearn: 0.4312112\ttotal: 17.7s\tremaining: 2.12s\n",
      "893:\tlearn: 0.4312113\ttotal: 17.7s\tremaining: 2.1s\n",
      "894:\tlearn: 0.4312064\ttotal: 17.7s\tremaining: 2.08s\n",
      "895:\tlearn: 0.4312068\ttotal: 17.7s\tremaining: 2.06s\n",
      "896:\tlearn: 0.4312060\ttotal: 17.7s\tremaining: 2.04s\n",
      "897:\tlearn: 0.4312054\ttotal: 17.8s\tremaining: 2.02s\n",
      "898:\tlearn: 0.4312054\ttotal: 17.8s\tremaining: 2s\n",
      "899:\tlearn: 0.4312043\ttotal: 17.8s\tremaining: 1.98s\n",
      "900:\tlearn: 0.4312034\ttotal: 17.8s\tremaining: 1.96s\n",
      "901:\tlearn: 0.4312036\ttotal: 17.8s\tremaining: 1.94s\n",
      "902:\tlearn: 0.4312028\ttotal: 17.9s\tremaining: 1.92s\n",
      "903:\tlearn: 0.4312025\ttotal: 17.9s\tremaining: 1.9s\n",
      "904:\tlearn: 0.4312012\ttotal: 17.9s\tremaining: 1.88s\n",
      "905:\tlearn: 0.4312001\ttotal: 17.9s\tremaining: 1.86s\n",
      "906:\tlearn: 0.4311987\ttotal: 18s\tremaining: 1.84s\n",
      "907:\tlearn: 0.4311985\ttotal: 18s\tremaining: 1.82s\n",
      "908:\tlearn: 0.4311982\ttotal: 18s\tremaining: 1.8s\n",
      "909:\tlearn: 0.4311973\ttotal: 18s\tremaining: 1.78s\n",
      "910:\tlearn: 0.4311972\ttotal: 18.1s\tremaining: 1.76s\n",
      "911:\tlearn: 0.4311975\ttotal: 18.1s\tremaining: 1.75s\n",
      "912:\tlearn: 0.4311967\ttotal: 18.1s\tremaining: 1.73s\n",
      "913:\tlearn: 0.4311947\ttotal: 18.1s\tremaining: 1.71s\n",
      "914:\tlearn: 0.4311953\ttotal: 18.2s\tremaining: 1.69s\n",
      "915:\tlearn: 0.4311941\ttotal: 18.2s\tremaining: 1.67s\n",
      "916:\tlearn: 0.4311934\ttotal: 18.2s\tremaining: 1.65s\n",
      "917:\tlearn: 0.4311928\ttotal: 18.2s\tremaining: 1.63s\n",
      "918:\tlearn: 0.4311916\ttotal: 18.3s\tremaining: 1.61s\n",
      "919:\tlearn: 0.4311905\ttotal: 18.3s\tremaining: 1.59s\n",
      "920:\tlearn: 0.4311891\ttotal: 18.3s\tremaining: 1.57s\n",
      "921:\tlearn: 0.4311892\ttotal: 18.3s\tremaining: 1.55s\n",
      "922:\tlearn: 0.4311882\ttotal: 18.4s\tremaining: 1.53s\n",
      "923:\tlearn: 0.4311866\ttotal: 18.4s\tremaining: 1.51s\n",
      "924:\tlearn: 0.4311857\ttotal: 18.4s\tremaining: 1.49s\n",
      "925:\tlearn: 0.4311848\ttotal: 18.4s\tremaining: 1.47s\n",
      "926:\tlearn: 0.4311850\ttotal: 18.4s\tremaining: 1.45s\n",
      "927:\tlearn: 0.4311843\ttotal: 18.4s\tremaining: 1.43s\n",
      "928:\tlearn: 0.4311837\ttotal: 18.5s\tremaining: 1.41s\n",
      "929:\tlearn: 0.4311788\ttotal: 18.5s\tremaining: 1.39s\n",
      "930:\tlearn: 0.4311785\ttotal: 18.5s\tremaining: 1.37s\n",
      "931:\tlearn: 0.4311740\ttotal: 18.5s\tremaining: 1.35s\n",
      "932:\tlearn: 0.4311736\ttotal: 18.6s\tremaining: 1.33s\n",
      "933:\tlearn: 0.4311720\ttotal: 18.6s\tremaining: 1.31s\n",
      "934:\tlearn: 0.4311694\ttotal: 18.6s\tremaining: 1.29s\n",
      "935:\tlearn: 0.4311683\ttotal: 18.6s\tremaining: 1.27s\n",
      "936:\tlearn: 0.4311679\ttotal: 18.6s\tremaining: 1.25s\n",
      "937:\tlearn: 0.4311662\ttotal: 18.7s\tremaining: 1.23s\n",
      "938:\tlearn: 0.4311661\ttotal: 18.7s\tremaining: 1.21s\n",
      "939:\tlearn: 0.4311649\ttotal: 18.7s\tremaining: 1.19s\n",
      "940:\tlearn: 0.4311615\ttotal: 18.7s\tremaining: 1.17s\n",
      "941:\tlearn: 0.4311600\ttotal: 18.7s\tremaining: 1.15s\n",
      "942:\tlearn: 0.4311596\ttotal: 18.7s\tremaining: 1.13s\n",
      "943:\tlearn: 0.4311564\ttotal: 18.8s\tremaining: 1.11s\n",
      "944:\tlearn: 0.4311553\ttotal: 18.8s\tremaining: 1.09s\n",
      "945:\tlearn: 0.4311544\ttotal: 18.8s\tremaining: 1.07s\n",
      "946:\tlearn: 0.4311524\ttotal: 18.8s\tremaining: 1.05s\n",
      "947:\tlearn: 0.4311503\ttotal: 18.8s\tremaining: 1.03s\n",
      "948:\tlearn: 0.4311505\ttotal: 18.8s\tremaining: 1.01s\n",
      "949:\tlearn: 0.4311485\ttotal: 18.9s\tremaining: 993ms\n",
      "950:\tlearn: 0.4311467\ttotal: 18.9s\tremaining: 973ms\n",
      "951:\tlearn: 0.4311459\ttotal: 18.9s\tremaining: 953ms\n",
      "952:\tlearn: 0.4311428\ttotal: 18.9s\tremaining: 933ms\n",
      "953:\tlearn: 0.4311437\ttotal: 18.9s\tremaining: 912ms\n",
      "954:\tlearn: 0.4311397\ttotal: 18.9s\tremaining: 892ms\n",
      "955:\tlearn: 0.4311393\ttotal: 19s\tremaining: 873ms\n",
      "956:\tlearn: 0.4311379\ttotal: 19s\tremaining: 853ms\n",
      "957:\tlearn: 0.4311383\ttotal: 19s\tremaining: 833ms\n",
      "958:\tlearn: 0.4311366\ttotal: 19s\tremaining: 813ms\n",
      "959:\tlearn: 0.4311331\ttotal: 19s\tremaining: 793ms\n",
      "960:\tlearn: 0.4311326\ttotal: 19.1s\tremaining: 773ms\n",
      "961:\tlearn: 0.4311225\ttotal: 19.1s\tremaining: 753ms\n",
      "962:\tlearn: 0.4311222\ttotal: 19.1s\tremaining: 733ms\n",
      "963:\tlearn: 0.4311215\ttotal: 19.1s\tremaining: 714ms\n",
      "964:\tlearn: 0.4311207\ttotal: 19.1s\tremaining: 694ms\n",
      "965:\tlearn: 0.4311187\ttotal: 19.2s\tremaining: 674ms\n",
      "966:\tlearn: 0.4311166\ttotal: 19.2s\tremaining: 654ms\n",
      "967:\tlearn: 0.4311159\ttotal: 19.2s\tremaining: 634ms\n",
      "968:\tlearn: 0.4311136\ttotal: 19.2s\tremaining: 615ms\n",
      "969:\tlearn: 0.4311111\ttotal: 19.2s\tremaining: 595ms\n",
      "970:\tlearn: 0.4311117\ttotal: 19.3s\tremaining: 575ms\n",
      "971:\tlearn: 0.4311100\ttotal: 19.3s\tremaining: 555ms\n",
      "972:\tlearn: 0.4311083\ttotal: 19.3s\tremaining: 536ms\n",
      "973:\tlearn: 0.4311068\ttotal: 19.3s\tremaining: 516ms\n",
      "974:\tlearn: 0.4311061\ttotal: 19.3s\tremaining: 496ms\n",
      "975:\tlearn: 0.4311055\ttotal: 19.4s\tremaining: 476ms\n",
      "976:\tlearn: 0.4311020\ttotal: 19.4s\tremaining: 456ms\n",
      "977:\tlearn: 0.4310951\ttotal: 19.4s\tremaining: 436ms\n",
      "978:\tlearn: 0.4310938\ttotal: 19.4s\tremaining: 417ms\n",
      "979:\tlearn: 0.4310924\ttotal: 19.4s\tremaining: 397ms\n",
      "980:\tlearn: 0.4310933\ttotal: 19.5s\tremaining: 377ms\n",
      "981:\tlearn: 0.4310931\ttotal: 19.5s\tremaining: 357ms\n",
      "982:\tlearn: 0.4310922\ttotal: 19.5s\tremaining: 337ms\n",
      "983:\tlearn: 0.4310913\ttotal: 19.5s\tremaining: 317ms\n",
      "984:\tlearn: 0.4310906\ttotal: 19.5s\tremaining: 298ms\n",
      "985:\tlearn: 0.4310900\ttotal: 19.6s\tremaining: 278ms\n",
      "986:\tlearn: 0.4310902\ttotal: 19.6s\tremaining: 258ms\n",
      "987:\tlearn: 0.4310886\ttotal: 19.6s\tremaining: 238ms\n",
      "988:\tlearn: 0.4310876\ttotal: 19.6s\tremaining: 218ms\n",
      "989:\tlearn: 0.4310850\ttotal: 19.7s\tremaining: 199ms\n",
      "990:\tlearn: 0.4310846\ttotal: 19.7s\tremaining: 179ms\n",
      "991:\tlearn: 0.4310845\ttotal: 19.7s\tremaining: 159ms\n",
      "992:\tlearn: 0.4310836\ttotal: 19.7s\tremaining: 139ms\n",
      "993:\tlearn: 0.4310824\ttotal: 19.7s\tremaining: 119ms\n",
      "994:\tlearn: 0.4310821\ttotal: 19.8s\tremaining: 99.3ms\n",
      "995:\tlearn: 0.4310811\ttotal: 19.8s\tremaining: 79.5ms\n",
      "996:\tlearn: 0.4310816\ttotal: 19.8s\tremaining: 59.6ms\n",
      "997:\tlearn: 0.4310783\ttotal: 19.8s\tremaining: 39.7ms\n",
      "998:\tlearn: 0.4310785\ttotal: 19.9s\tremaining: 19.9ms\n",
      "999:\tlearn: 0.4310780\ttotal: 19.9s\tremaining: 0us\n"
     ]
    },
    {
     "data": {
      "text/plain": [
       "<catboost.core.CatBoostClassifier at 0x23f1c2d3650>"
      ]
     },
     "execution_count": 88,
     "metadata": {},
     "output_type": "execute_result"
    }
   ],
   "source": [
    "model3.fit(X_train_o, y_train_o)"
   ]
  },
  {
   "cell_type": "code",
   "execution_count": 89,
   "metadata": {},
   "outputs": [
    {
     "name": "stderr",
     "output_type": "stream",
     "text": [
      "c:\\Python311\\Lib\\site-packages\\sklearn\\base.py:1152: DataConversionWarning: A column-vector y was passed when a 1d array was expected. Please change the shape of y to (n_samples,), for example using ravel().\n",
      "  return fit_method(estimator, *args, **kwargs)\n"
     ]
    },
    {
     "data": {
      "text/html": [
       "<style>#sk-container-id-3 {color: black;}#sk-container-id-3 pre{padding: 0;}#sk-container-id-3 div.sk-toggleable {background-color: white;}#sk-container-id-3 label.sk-toggleable__label {cursor: pointer;display: block;width: 100%;margin-bottom: 0;padding: 0.3em;box-sizing: border-box;text-align: center;}#sk-container-id-3 label.sk-toggleable__label-arrow:before {content: \"▸\";float: left;margin-right: 0.25em;color: #696969;}#sk-container-id-3 label.sk-toggleable__label-arrow:hover:before {color: black;}#sk-container-id-3 div.sk-estimator:hover label.sk-toggleable__label-arrow:before {color: black;}#sk-container-id-3 div.sk-toggleable__content {max-height: 0;max-width: 0;overflow: hidden;text-align: left;background-color: #f0f8ff;}#sk-container-id-3 div.sk-toggleable__content pre {margin: 0.2em;color: black;border-radius: 0.25em;background-color: #f0f8ff;}#sk-container-id-3 input.sk-toggleable__control:checked~div.sk-toggleable__content {max-height: 200px;max-width: 100%;overflow: auto;}#sk-container-id-3 input.sk-toggleable__control:checked~label.sk-toggleable__label-arrow:before {content: \"▾\";}#sk-container-id-3 div.sk-estimator input.sk-toggleable__control:checked~label.sk-toggleable__label {background-color: #d4ebff;}#sk-container-id-3 div.sk-label input.sk-toggleable__control:checked~label.sk-toggleable__label {background-color: #d4ebff;}#sk-container-id-3 input.sk-hidden--visually {border: 0;clip: rect(1px 1px 1px 1px);clip: rect(1px, 1px, 1px, 1px);height: 1px;margin: -1px;overflow: hidden;padding: 0;position: absolute;width: 1px;}#sk-container-id-3 div.sk-estimator {font-family: monospace;background-color: #f0f8ff;border: 1px dotted black;border-radius: 0.25em;box-sizing: border-box;margin-bottom: 0.5em;}#sk-container-id-3 div.sk-estimator:hover {background-color: #d4ebff;}#sk-container-id-3 div.sk-parallel-item::after {content: \"\";width: 100%;border-bottom: 1px solid gray;flex-grow: 1;}#sk-container-id-3 div.sk-label:hover label.sk-toggleable__label {background-color: #d4ebff;}#sk-container-id-3 div.sk-serial::before {content: \"\";position: absolute;border-left: 1px solid gray;box-sizing: border-box;top: 0;bottom: 0;left: 50%;z-index: 0;}#sk-container-id-3 div.sk-serial {display: flex;flex-direction: column;align-items: center;background-color: white;padding-right: 0.2em;padding-left: 0.2em;position: relative;}#sk-container-id-3 div.sk-item {position: relative;z-index: 1;}#sk-container-id-3 div.sk-parallel {display: flex;align-items: stretch;justify-content: center;background-color: white;position: relative;}#sk-container-id-3 div.sk-item::before, #sk-container-id-3 div.sk-parallel-item::before {content: \"\";position: absolute;border-left: 1px solid gray;box-sizing: border-box;top: 0;bottom: 0;left: 50%;z-index: -1;}#sk-container-id-3 div.sk-parallel-item {display: flex;flex-direction: column;z-index: 1;position: relative;background-color: white;}#sk-container-id-3 div.sk-parallel-item:first-child::after {align-self: flex-end;width: 50%;}#sk-container-id-3 div.sk-parallel-item:last-child::after {align-self: flex-start;width: 50%;}#sk-container-id-3 div.sk-parallel-item:only-child::after {width: 0;}#sk-container-id-3 div.sk-dashed-wrapped {border: 1px dashed gray;margin: 0 0.4em 0.5em 0.4em;box-sizing: border-box;padding-bottom: 0.4em;background-color: white;}#sk-container-id-3 div.sk-label label {font-family: monospace;font-weight: bold;display: inline-block;line-height: 1.2em;}#sk-container-id-3 div.sk-label-container {text-align: center;}#sk-container-id-3 div.sk-container {/* jupyter's `normalize.less` sets `[hidden] { display: none; }` but bootstrap.min.css set `[hidden] { display: none !important; }` so we also need the `!important` here to be able to override the default hidden behavior on the sphinx rendered scikit-learn.org. See: https://github.com/scikit-learn/scikit-learn/issues/21755 */display: inline-block !important;position: relative;}#sk-container-id-3 div.sk-text-repr-fallback {display: none;}</style><div id=\"sk-container-id-3\" class=\"sk-top-container\"><div class=\"sk-text-repr-fallback\"><pre>RandomForestClassifier()</pre><b>In a Jupyter environment, please rerun this cell to show the HTML representation or trust the notebook. <br />On GitHub, the HTML representation is unable to render, please try loading this page with nbviewer.org.</b></div><div class=\"sk-container\" hidden><div class=\"sk-item\"><div class=\"sk-estimator sk-toggleable\"><input class=\"sk-toggleable__control sk-hidden--visually\" id=\"sk-estimator-id-3\" type=\"checkbox\" checked><label for=\"sk-estimator-id-3\" class=\"sk-toggleable__label sk-toggleable__label-arrow\">RandomForestClassifier</label><div class=\"sk-toggleable__content\"><pre>RandomForestClassifier()</pre></div></div></div></div></div>"
      ],
      "text/plain": [
       "RandomForestClassifier()"
      ]
     },
     "execution_count": 89,
     "metadata": {},
     "output_type": "execute_result"
    }
   ],
   "source": [
    "model4.fit(X_train_o, y_train_o)"
   ]
  },
  {
   "cell_type": "code",
   "execution_count": 90,
   "metadata": {},
   "outputs": [
    {
     "name": "stderr",
     "output_type": "stream",
     "text": [
      "c:\\Python311\\Lib\\site-packages\\sklearn\\base.py:1152: DataConversionWarning: A column-vector y was passed when a 1d array was expected. Please change the shape of y to (n_samples,), for example using ravel().\n",
      "  return fit_method(estimator, *args, **kwargs)\n"
     ]
    },
    {
     "data": {
      "text/html": [
       "<style>#sk-container-id-4 {color: black;}#sk-container-id-4 pre{padding: 0;}#sk-container-id-4 div.sk-toggleable {background-color: white;}#sk-container-id-4 label.sk-toggleable__label {cursor: pointer;display: block;width: 100%;margin-bottom: 0;padding: 0.3em;box-sizing: border-box;text-align: center;}#sk-container-id-4 label.sk-toggleable__label-arrow:before {content: \"▸\";float: left;margin-right: 0.25em;color: #696969;}#sk-container-id-4 label.sk-toggleable__label-arrow:hover:before {color: black;}#sk-container-id-4 div.sk-estimator:hover label.sk-toggleable__label-arrow:before {color: black;}#sk-container-id-4 div.sk-toggleable__content {max-height: 0;max-width: 0;overflow: hidden;text-align: left;background-color: #f0f8ff;}#sk-container-id-4 div.sk-toggleable__content pre {margin: 0.2em;color: black;border-radius: 0.25em;background-color: #f0f8ff;}#sk-container-id-4 input.sk-toggleable__control:checked~div.sk-toggleable__content {max-height: 200px;max-width: 100%;overflow: auto;}#sk-container-id-4 input.sk-toggleable__control:checked~label.sk-toggleable__label-arrow:before {content: \"▾\";}#sk-container-id-4 div.sk-estimator input.sk-toggleable__control:checked~label.sk-toggleable__label {background-color: #d4ebff;}#sk-container-id-4 div.sk-label input.sk-toggleable__control:checked~label.sk-toggleable__label {background-color: #d4ebff;}#sk-container-id-4 input.sk-hidden--visually {border: 0;clip: rect(1px 1px 1px 1px);clip: rect(1px, 1px, 1px, 1px);height: 1px;margin: -1px;overflow: hidden;padding: 0;position: absolute;width: 1px;}#sk-container-id-4 div.sk-estimator {font-family: monospace;background-color: #f0f8ff;border: 1px dotted black;border-radius: 0.25em;box-sizing: border-box;margin-bottom: 0.5em;}#sk-container-id-4 div.sk-estimator:hover {background-color: #d4ebff;}#sk-container-id-4 div.sk-parallel-item::after {content: \"\";width: 100%;border-bottom: 1px solid gray;flex-grow: 1;}#sk-container-id-4 div.sk-label:hover label.sk-toggleable__label {background-color: #d4ebff;}#sk-container-id-4 div.sk-serial::before {content: \"\";position: absolute;border-left: 1px solid gray;box-sizing: border-box;top: 0;bottom: 0;left: 50%;z-index: 0;}#sk-container-id-4 div.sk-serial {display: flex;flex-direction: column;align-items: center;background-color: white;padding-right: 0.2em;padding-left: 0.2em;position: relative;}#sk-container-id-4 div.sk-item {position: relative;z-index: 1;}#sk-container-id-4 div.sk-parallel {display: flex;align-items: stretch;justify-content: center;background-color: white;position: relative;}#sk-container-id-4 div.sk-item::before, #sk-container-id-4 div.sk-parallel-item::before {content: \"\";position: absolute;border-left: 1px solid gray;box-sizing: border-box;top: 0;bottom: 0;left: 50%;z-index: -1;}#sk-container-id-4 div.sk-parallel-item {display: flex;flex-direction: column;z-index: 1;position: relative;background-color: white;}#sk-container-id-4 div.sk-parallel-item:first-child::after {align-self: flex-end;width: 50%;}#sk-container-id-4 div.sk-parallel-item:last-child::after {align-self: flex-start;width: 50%;}#sk-container-id-4 div.sk-parallel-item:only-child::after {width: 0;}#sk-container-id-4 div.sk-dashed-wrapped {border: 1px dashed gray;margin: 0 0.4em 0.5em 0.4em;box-sizing: border-box;padding-bottom: 0.4em;background-color: white;}#sk-container-id-4 div.sk-label label {font-family: monospace;font-weight: bold;display: inline-block;line-height: 1.2em;}#sk-container-id-4 div.sk-label-container {text-align: center;}#sk-container-id-4 div.sk-container {/* jupyter's `normalize.less` sets `[hidden] { display: none; }` but bootstrap.min.css set `[hidden] { display: none !important; }` so we also need the `!important` here to be able to override the default hidden behavior on the sphinx rendered scikit-learn.org. See: https://github.com/scikit-learn/scikit-learn/issues/21755 */display: inline-block !important;position: relative;}#sk-container-id-4 div.sk-text-repr-fallback {display: none;}</style><div id=\"sk-container-id-4\" class=\"sk-top-container\"><div class=\"sk-text-repr-fallback\"><pre>RandomForestClassifier(max_depth=8, n_estimators=20)</pre><b>In a Jupyter environment, please rerun this cell to show the HTML representation or trust the notebook. <br />On GitHub, the HTML representation is unable to render, please try loading this page with nbviewer.org.</b></div><div class=\"sk-container\" hidden><div class=\"sk-item\"><div class=\"sk-estimator sk-toggleable\"><input class=\"sk-toggleable__control sk-hidden--visually\" id=\"sk-estimator-id-4\" type=\"checkbox\" checked><label for=\"sk-estimator-id-4\" class=\"sk-toggleable__label sk-toggleable__label-arrow\">RandomForestClassifier</label><div class=\"sk-toggleable__content\"><pre>RandomForestClassifier(max_depth=8, n_estimators=20)</pre></div></div></div></div></div>"
      ],
      "text/plain": [
       "RandomForestClassifier(max_depth=8, n_estimators=20)"
      ]
     },
     "execution_count": 90,
     "metadata": {},
     "output_type": "execute_result"
    }
   ],
   "source": [
    "model5.fit(X_train_o, y_train_o)"
   ]
  },
  {
   "cell_type": "code",
   "execution_count": 91,
   "metadata": {},
   "outputs": [
    {
     "data": {
      "text/html": [
       "<style>#sk-container-id-5 {color: black;}#sk-container-id-5 pre{padding: 0;}#sk-container-id-5 div.sk-toggleable {background-color: white;}#sk-container-id-5 label.sk-toggleable__label {cursor: pointer;display: block;width: 100%;margin-bottom: 0;padding: 0.3em;box-sizing: border-box;text-align: center;}#sk-container-id-5 label.sk-toggleable__label-arrow:before {content: \"▸\";float: left;margin-right: 0.25em;color: #696969;}#sk-container-id-5 label.sk-toggleable__label-arrow:hover:before {color: black;}#sk-container-id-5 div.sk-estimator:hover label.sk-toggleable__label-arrow:before {color: black;}#sk-container-id-5 div.sk-toggleable__content {max-height: 0;max-width: 0;overflow: hidden;text-align: left;background-color: #f0f8ff;}#sk-container-id-5 div.sk-toggleable__content pre {margin: 0.2em;color: black;border-radius: 0.25em;background-color: #f0f8ff;}#sk-container-id-5 input.sk-toggleable__control:checked~div.sk-toggleable__content {max-height: 200px;max-width: 100%;overflow: auto;}#sk-container-id-5 input.sk-toggleable__control:checked~label.sk-toggleable__label-arrow:before {content: \"▾\";}#sk-container-id-5 div.sk-estimator input.sk-toggleable__control:checked~label.sk-toggleable__label {background-color: #d4ebff;}#sk-container-id-5 div.sk-label input.sk-toggleable__control:checked~label.sk-toggleable__label {background-color: #d4ebff;}#sk-container-id-5 input.sk-hidden--visually {border: 0;clip: rect(1px 1px 1px 1px);clip: rect(1px, 1px, 1px, 1px);height: 1px;margin: -1px;overflow: hidden;padding: 0;position: absolute;width: 1px;}#sk-container-id-5 div.sk-estimator {font-family: monospace;background-color: #f0f8ff;border: 1px dotted black;border-radius: 0.25em;box-sizing: border-box;margin-bottom: 0.5em;}#sk-container-id-5 div.sk-estimator:hover {background-color: #d4ebff;}#sk-container-id-5 div.sk-parallel-item::after {content: \"\";width: 100%;border-bottom: 1px solid gray;flex-grow: 1;}#sk-container-id-5 div.sk-label:hover label.sk-toggleable__label {background-color: #d4ebff;}#sk-container-id-5 div.sk-serial::before {content: \"\";position: absolute;border-left: 1px solid gray;box-sizing: border-box;top: 0;bottom: 0;left: 50%;z-index: 0;}#sk-container-id-5 div.sk-serial {display: flex;flex-direction: column;align-items: center;background-color: white;padding-right: 0.2em;padding-left: 0.2em;position: relative;}#sk-container-id-5 div.sk-item {position: relative;z-index: 1;}#sk-container-id-5 div.sk-parallel {display: flex;align-items: stretch;justify-content: center;background-color: white;position: relative;}#sk-container-id-5 div.sk-item::before, #sk-container-id-5 div.sk-parallel-item::before {content: \"\";position: absolute;border-left: 1px solid gray;box-sizing: border-box;top: 0;bottom: 0;left: 50%;z-index: -1;}#sk-container-id-5 div.sk-parallel-item {display: flex;flex-direction: column;z-index: 1;position: relative;background-color: white;}#sk-container-id-5 div.sk-parallel-item:first-child::after {align-self: flex-end;width: 50%;}#sk-container-id-5 div.sk-parallel-item:last-child::after {align-self: flex-start;width: 50%;}#sk-container-id-5 div.sk-parallel-item:only-child::after {width: 0;}#sk-container-id-5 div.sk-dashed-wrapped {border: 1px dashed gray;margin: 0 0.4em 0.5em 0.4em;box-sizing: border-box;padding-bottom: 0.4em;background-color: white;}#sk-container-id-5 div.sk-label label {font-family: monospace;font-weight: bold;display: inline-block;line-height: 1.2em;}#sk-container-id-5 div.sk-label-container {text-align: center;}#sk-container-id-5 div.sk-container {/* jupyter's `normalize.less` sets `[hidden] { display: none; }` but bootstrap.min.css set `[hidden] { display: none !important; }` so we also need the `!important` here to be able to override the default hidden behavior on the sphinx rendered scikit-learn.org. See: https://github.com/scikit-learn/scikit-learn/issues/21755 */display: inline-block !important;position: relative;}#sk-container-id-5 div.sk-text-repr-fallback {display: none;}</style><div id=\"sk-container-id-5\" class=\"sk-top-container\"><div class=\"sk-text-repr-fallback\"><pre>DecisionTreeClassifier()</pre><b>In a Jupyter environment, please rerun this cell to show the HTML representation or trust the notebook. <br />On GitHub, the HTML representation is unable to render, please try loading this page with nbviewer.org.</b></div><div class=\"sk-container\" hidden><div class=\"sk-item\"><div class=\"sk-estimator sk-toggleable\"><input class=\"sk-toggleable__control sk-hidden--visually\" id=\"sk-estimator-id-5\" type=\"checkbox\" checked><label for=\"sk-estimator-id-5\" class=\"sk-toggleable__label sk-toggleable__label-arrow\">DecisionTreeClassifier</label><div class=\"sk-toggleable__content\"><pre>DecisionTreeClassifier()</pre></div></div></div></div></div>"
      ],
      "text/plain": [
       "DecisionTreeClassifier()"
      ]
     },
     "execution_count": 91,
     "metadata": {},
     "output_type": "execute_result"
    }
   ],
   "source": [
    "model6.fit(X_train_o, y_train_o)"
   ]
  },
  {
   "cell_type": "markdown",
   "metadata": {},
   "source": [
    "Predecimos un resultado para casa modelo"
   ]
  },
  {
   "cell_type": "code",
   "execution_count": 92,
   "metadata": {},
   "outputs": [
    {
     "name": "stderr",
     "output_type": "stream",
     "text": [
      "c:\\Python311\\Lib\\site-packages\\xgboost\\data.py:335: FutureWarning: is_sparse is deprecated and will be removed in a future version. Check `isinstance(dtype, pd.SparseDtype)` instead.\n",
      "  if is_sparse(dtype):\n",
      "c:\\Python311\\Lib\\site-packages\\xgboost\\data.py:338: FutureWarning: is_categorical_dtype is deprecated and will be removed in a future version. Use isinstance(dtype, CategoricalDtype) instead\n",
      "  is_categorical_dtype(dtype) or is_pa_ext_categorical_dtype(dtype)\n",
      "c:\\Python311\\Lib\\site-packages\\xgboost\\data.py:384: FutureWarning: is_categorical_dtype is deprecated and will be removed in a future version. Use isinstance(dtype, CategoricalDtype) instead\n",
      "  if is_categorical_dtype(dtype):\n",
      "c:\\Python311\\Lib\\site-packages\\xgboost\\data.py:359: FutureWarning: is_categorical_dtype is deprecated and will be removed in a future version. Use isinstance(dtype, CategoricalDtype) instead\n",
      "  return is_int or is_bool or is_float or is_categorical_dtype(dtype)\n",
      "c:\\Python311\\Lib\\site-packages\\xgboost\\data.py:335: FutureWarning: is_sparse is deprecated and will be removed in a future version. Check `isinstance(dtype, pd.SparseDtype)` instead.\n",
      "  if is_sparse(dtype):\n",
      "c:\\Python311\\Lib\\site-packages\\xgboost\\data.py:338: FutureWarning: is_categorical_dtype is deprecated and will be removed in a future version. Use isinstance(dtype, CategoricalDtype) instead\n",
      "  is_categorical_dtype(dtype) or is_pa_ext_categorical_dtype(dtype)\n",
      "c:\\Python311\\Lib\\site-packages\\xgboost\\data.py:384: FutureWarning: is_categorical_dtype is deprecated and will be removed in a future version. Use isinstance(dtype, CategoricalDtype) instead\n",
      "  if is_categorical_dtype(dtype):\n",
      "c:\\Python311\\Lib\\site-packages\\xgboost\\data.py:359: FutureWarning: is_categorical_dtype is deprecated and will be removed in a future version. Use isinstance(dtype, CategoricalDtype) instead\n",
      "  return is_int or is_bool or is_float or is_categorical_dtype(dtype)\n"
     ]
    }
   ],
   "source": [
    "pred1 = model1.predict(X_test)\n",
    "pred2 = model2.predict(X_test)\n",
    "pred3 = model3.predict(X_test)\n",
    "pred4 = model4.predict(X_test)\n",
    "pred5 = model5.predict(X_test)\n",
    "pred6 = model6.predict(X_test)"
   ]
  },
  {
   "cell_type": "markdown",
   "metadata": {},
   "source": [
    "Procedemos a hacer la matriz de confusión para cada modelo generado y lo comparamos con el test. Comparamos lo real frente a lo predicho"
   ]
  },
  {
   "cell_type": "code",
   "execution_count": 93,
   "metadata": {},
   "outputs": [
    {
     "data": {
      "text/plain": [
       "array([[9387, 3413],\n",
       "       [  64,  156]], dtype=int64)"
      ]
     },
     "execution_count": 93,
     "metadata": {},
     "output_type": "execute_result"
    }
   ],
   "source": [
    "confusion_matrix(y_test, pred1)"
   ]
  },
  {
   "cell_type": "code",
   "execution_count": 94,
   "metadata": {},
   "outputs": [
    {
     "name": "stdout",
     "output_type": "stream",
     "text": [
      "              precision    recall  f1-score   support\n",
      "\n",
      "           0       0.99      0.73      0.84     12800\n",
      "           1       0.04      0.71      0.08       220\n",
      "\n",
      "    accuracy                           0.73     13020\n",
      "   macro avg       0.52      0.72      0.46     13020\n",
      "weighted avg       0.98      0.73      0.83     13020\n",
      "\n"
     ]
    }
   ],
   "source": [
    "print(classification_report(y_test,pred1))"
   ]
  },
  {
   "cell_type": "code",
   "execution_count": 95,
   "metadata": {},
   "outputs": [
    {
     "data": {
      "text/plain": [
       "array([[9455, 3345],\n",
       "       [  57,  163]], dtype=int64)"
      ]
     },
     "execution_count": 95,
     "metadata": {},
     "output_type": "execute_result"
    }
   ],
   "source": [
    "confusion_matrix(y_test, pred2)"
   ]
  },
  {
   "cell_type": "code",
   "execution_count": 96,
   "metadata": {},
   "outputs": [
    {
     "name": "stdout",
     "output_type": "stream",
     "text": [
      "              precision    recall  f1-score   support\n",
      "\n",
      "           0       0.99      0.74      0.85     12800\n",
      "           1       0.05      0.74      0.09       220\n",
      "\n",
      "    accuracy                           0.74     13020\n",
      "   macro avg       0.52      0.74      0.47     13020\n",
      "weighted avg       0.98      0.74      0.83     13020\n",
      "\n"
     ]
    }
   ],
   "source": [
    "print(classification_report(y_test,pred2))"
   ]
  },
  {
   "cell_type": "code",
   "execution_count": 97,
   "metadata": {},
   "outputs": [
    {
     "data": {
      "text/plain": [
       "array([[9401, 3399],\n",
       "       [  65,  155]], dtype=int64)"
      ]
     },
     "execution_count": 97,
     "metadata": {},
     "output_type": "execute_result"
    }
   ],
   "source": [
    "confusion_matrix(y_test, pred3)"
   ]
  },
  {
   "cell_type": "code",
   "execution_count": 98,
   "metadata": {},
   "outputs": [
    {
     "name": "stdout",
     "output_type": "stream",
     "text": [
      "              precision    recall  f1-score   support\n",
      "\n",
      "           0       0.99      0.73      0.84     12800\n",
      "           1       0.04      0.70      0.08       220\n",
      "\n",
      "    accuracy                           0.73     13020\n",
      "   macro avg       0.52      0.72      0.46     13020\n",
      "weighted avg       0.98      0.73      0.83     13020\n",
      "\n"
     ]
    }
   ],
   "source": [
    "print(classification_report(y_test,pred3))"
   ]
  },
  {
   "cell_type": "code",
   "execution_count": 99,
   "metadata": {},
   "outputs": [
    {
     "data": {
      "text/plain": [
       "array([[9340, 3460],\n",
       "       [  65,  155]], dtype=int64)"
      ]
     },
     "execution_count": 99,
     "metadata": {},
     "output_type": "execute_result"
    }
   ],
   "source": [
    "confusion_matrix(y_test, pred4)"
   ]
  },
  {
   "cell_type": "code",
   "execution_count": 100,
   "metadata": {},
   "outputs": [
    {
     "name": "stdout",
     "output_type": "stream",
     "text": [
      "              precision    recall  f1-score   support\n",
      "\n",
      "           0       0.99      0.73      0.84     12800\n",
      "           1       0.04      0.70      0.08       220\n",
      "\n",
      "    accuracy                           0.73     13020\n",
      "   macro avg       0.52      0.72      0.46     13020\n",
      "weighted avg       0.98      0.73      0.83     13020\n",
      "\n"
     ]
    }
   ],
   "source": [
    "print(classification_report(y_test,pred4))"
   ]
  },
  {
   "cell_type": "code",
   "execution_count": 101,
   "metadata": {},
   "outputs": [
    {
     "data": {
      "text/plain": [
       "array([[9508, 3292],\n",
       "       [  55,  165]], dtype=int64)"
      ]
     },
     "execution_count": 101,
     "metadata": {},
     "output_type": "execute_result"
    }
   ],
   "source": [
    "confusion_matrix(y_test, pred5)"
   ]
  },
  {
   "cell_type": "code",
   "execution_count": 102,
   "metadata": {},
   "outputs": [
    {
     "name": "stdout",
     "output_type": "stream",
     "text": [
      "              precision    recall  f1-score   support\n",
      "\n",
      "           0       0.99      0.74      0.85     12800\n",
      "           1       0.05      0.75      0.09       220\n",
      "\n",
      "    accuracy                           0.74     13020\n",
      "   macro avg       0.52      0.75      0.47     13020\n",
      "weighted avg       0.98      0.74      0.84     13020\n",
      "\n"
     ]
    }
   ],
   "source": [
    "print(classification_report(y_test,pred5))"
   ]
  },
  {
   "cell_type": "code",
   "execution_count": 103,
   "metadata": {},
   "outputs": [
    {
     "data": {
      "text/plain": [
       "array([[9378, 3422],\n",
       "       [  65,  155]], dtype=int64)"
      ]
     },
     "execution_count": 103,
     "metadata": {},
     "output_type": "execute_result"
    }
   ],
   "source": [
    "confusion_matrix(y_test, pred6)"
   ]
  },
  {
   "cell_type": "code",
   "execution_count": 104,
   "metadata": {},
   "outputs": [
    {
     "name": "stdout",
     "output_type": "stream",
     "text": [
      "              precision    recall  f1-score   support\n",
      "\n",
      "           0       0.99      0.73      0.84     12800\n",
      "           1       0.04      0.70      0.08       220\n",
      "\n",
      "    accuracy                           0.73     13020\n",
      "   macro avg       0.52      0.72      0.46     13020\n",
      "weighted avg       0.98      0.73      0.83     13020\n",
      "\n"
     ]
    }
   ],
   "source": [
    "print(classification_report(y_test,pred6))"
   ]
  },
  {
   "cell_type": "code",
   "execution_count": 105,
   "metadata": {},
   "outputs": [],
   "source": [
    "df_Algth = pd.DataFrame({'algorithm' : ['XGBoost','XGBoost Tuneado','Catboost','RF','RF Tuneado','Arbol de Decision'],\n",
    "                    'accuracy' : [0.72, 0.74, 0.73, 0.73, 0.75, 0.73],\n",
    "                   'precision' : [0.04, 0.05, 0.40, 0.40, 0.05, 0.04],\n",
    "                   'recall' : [0.72, 0.72, 0.72, 0.71, 0.73, 0.71]})"
   ]
  },
  {
   "cell_type": "code",
   "execution_count": 106,
   "metadata": {},
   "outputs": [
    {
     "data": {
      "text/html": [
       "<div>\n",
       "<style scoped>\n",
       "    .dataframe tbody tr th:only-of-type {\n",
       "        vertical-align: middle;\n",
       "    }\n",
       "\n",
       "    .dataframe tbody tr th {\n",
       "        vertical-align: top;\n",
       "    }\n",
       "\n",
       "    .dataframe thead th {\n",
       "        text-align: right;\n",
       "    }\n",
       "</style>\n",
       "<table border=\"1\" class=\"dataframe\">\n",
       "  <thead>\n",
       "    <tr style=\"text-align: right;\">\n",
       "      <th></th>\n",
       "      <th>algorithm</th>\n",
       "      <th>accuracy</th>\n",
       "      <th>precision</th>\n",
       "      <th>recall</th>\n",
       "    </tr>\n",
       "  </thead>\n",
       "  <tbody>\n",
       "    <tr>\n",
       "      <th>0</th>\n",
       "      <td>XGBoost</td>\n",
       "      <td>0.72</td>\n",
       "      <td>0.04</td>\n",
       "      <td>0.72</td>\n",
       "    </tr>\n",
       "    <tr>\n",
       "      <th>1</th>\n",
       "      <td>XGBoost Tuneado</td>\n",
       "      <td>0.74</td>\n",
       "      <td>0.05</td>\n",
       "      <td>0.72</td>\n",
       "    </tr>\n",
       "    <tr>\n",
       "      <th>2</th>\n",
       "      <td>Catboost</td>\n",
       "      <td>0.73</td>\n",
       "      <td>0.40</td>\n",
       "      <td>0.72</td>\n",
       "    </tr>\n",
       "    <tr>\n",
       "      <th>3</th>\n",
       "      <td>RF</td>\n",
       "      <td>0.73</td>\n",
       "      <td>0.40</td>\n",
       "      <td>0.71</td>\n",
       "    </tr>\n",
       "    <tr>\n",
       "      <th>4</th>\n",
       "      <td>RF Tuneado</td>\n",
       "      <td>0.75</td>\n",
       "      <td>0.05</td>\n",
       "      <td>0.73</td>\n",
       "    </tr>\n",
       "    <tr>\n",
       "      <th>5</th>\n",
       "      <td>Arbol de Decision</td>\n",
       "      <td>0.73</td>\n",
       "      <td>0.04</td>\n",
       "      <td>0.71</td>\n",
       "    </tr>\n",
       "  </tbody>\n",
       "</table>\n",
       "</div>"
      ],
      "text/plain": [
       "           algorithm  accuracy  precision  recall\n",
       "0            XGBoost      0.72       0.04    0.72\n",
       "1    XGBoost Tuneado      0.74       0.05    0.72\n",
       "2           Catboost      0.73       0.40    0.72\n",
       "3                 RF      0.73       0.40    0.71\n",
       "4         RF Tuneado      0.75       0.05    0.73\n",
       "5  Arbol de Decision      0.73       0.04    0.71"
      ]
     },
     "execution_count": 106,
     "metadata": {},
     "output_type": "execute_result"
    }
   ],
   "source": [
    "df_Algth"
   ]
  },
  {
   "cell_type": "markdown",
   "metadata": {},
   "source": [
    "#### El modelo RF Tuneado tiene la mejor precisión y recall\n",
    "Tiene la mejor predicción"
   ]
  },
  {
   "cell_type": "code",
   "execution_count": 107,
   "metadata": {},
   "outputs": [
    {
     "name": "stdout",
     "output_type": "stream",
     "text": [
      "Matriz de Confusión MODELO GANADOR: RF Tuneado\n",
      " [[9508 3292]\n",
      " [  55  165]]\n",
      "Métricas de Matriz de Confusión - MODELO GANADOR:\n",
      "               precision    recall  f1-score   support\n",
      "\n",
      "           0       0.99      0.73      0.84     12800\n",
      "           1       0.04      0.70      0.08       220\n",
      "\n",
      "    accuracy                           0.73     13020\n",
      "   macro avg       0.52      0.72      0.46     13020\n",
      "weighted avg       0.98      0.73      0.83     13020\n",
      "\n"
     ]
    },
    {
     "name": "stderr",
     "output_type": "stream",
     "text": [
      "C:\\Users\\jacob\\AppData\\Local\\Temp\\ipykernel_3160\\839879299.py:15: UserWarning: set_ticklabels() should only be used with a fixed number of ticks, i.e. after set_ticks() or using a FixedLocator.\n",
      "  ax.set_xticklabels([''] + labels)\n",
      "C:\\Users\\jacob\\AppData\\Local\\Temp\\ipykernel_3160\\839879299.py:16: UserWarning: set_ticklabels() should only be used with a fixed number of ticks, i.e. after set_ticks() or using a FixedLocator.\n",
      "  ax.set_yticklabels([''] + labels)\n"
     ]
    },
    {
     "data": {
      "image/png": "[encoded data removed]",
      "text/plain": [
       "<Figure size 1600x900 with 2 Axes>"
      ]
     },
     "metadata": {},
     "output_type": "display_data"
    }
   ],
   "source": [
    "# EVLUANDO LA MATRIZ DE CONFUSION\n",
    "#--------------------------------------------------------------------\n",
    "conf_mat = confusion_matrix(y_true=y_test, y_pred=pred5) ##Modificar al modelo\n",
    "#--------------------------------------------------------------------\n",
    "\n",
    "print('Matriz de Confusión MODELO GANADOR: RF Tuneado\\n', conf_mat)\n",
    "\n",
    "print('Métricas de Matriz de Confusión - MODELO GANADOR:\\n',classification_report(y_test,pred4))\n",
    "\n",
    "labels = ['Class 0', 'Class 1']\n",
    "fig = plt.figure()\n",
    "ax = fig.add_subplot(111)\n",
    "cax = ax.matshow(conf_mat, cmap=plt.cm.Blues)\n",
    "fig.colorbar(cax)\n",
    "ax.set_xticklabels([''] + labels)\n",
    "ax.set_yticklabels([''] + labels)\n",
    "plt.xlabel('Predicted')\n",
    "plt.ylabel('Expected')\n",
    "plt.show()"
   ]
  },
  {
   "cell_type": "code",
   "execution_count": 108,
   "metadata": {},
   "outputs": [
    {
     "data": {
      "image/png": "[encoded data removed]",
      "text/plain": [
       "<Figure size 1600x900 with 1 Axes>"
      ]
     },
     "metadata": {},
     "output_type": "display_data"
    }
   ],
   "source": [
    "# Para los modelos con XGBoost se puede sacar un grafico de importancia\n",
    "# LA PARTICIPACIÓN DE CADA VARIABLE\n",
    "from xgboost import plot_importance\n",
    "from matplotlib import pyplot\n",
    "\n",
    "plot_importance(model1)\n",
    "pyplot.show()"
   ]
  },
  {
   "cell_type": "markdown",
   "metadata": {},
   "source": [
    "Se puede concluir que las variables que impactan más a que sea más propenso a sufrir un ataque cardiaco son: IMC, Si fuma, El nivel de glucosa en sangre y la edad"
   ]
  },
  {
   "cell_type": "markdown",
   "metadata": {},
   "source": [
    "##### Ensayamos el modelo"
   ]
  },
  {
   "cell_type": "code",
   "execution_count": 109,
   "metadata": {},
   "outputs": [
    {
     "data": {
      "text/html": [
       "<div>\n",
       "<style scoped>\n",
       "    .dataframe tbody tr th:only-of-type {\n",
       "        vertical-align: middle;\n",
       "    }\n",
       "\n",
       "    .dataframe tbody tr th {\n",
       "        vertical-align: top;\n",
       "    }\n",
       "\n",
       "    .dataframe thead th {\n",
       "        text-align: right;\n",
       "    }\n",
       "</style>\n",
       "<table border=\"1\" class=\"dataframe\">\n",
       "  <thead>\n",
       "    <tr style=\"text-align: right;\">\n",
       "      <th></th>\n",
       "      <th>Ataque_cardiaco</th>\n",
       "      <th>Edad</th>\n",
       "      <th>IMC</th>\n",
       "      <th>FFumador_Encoded</th>\n",
       "      <th>Promedio_nivel_glucosa</th>\n",
       "      <th>Flag_hipertension</th>\n",
       "      <th>Flag_problem_cardiaco</th>\n",
       "      <th>EstadoC_Encoded</th>\n",
       "    </tr>\n",
       "  </thead>\n",
       "  <tbody>\n",
       "    <tr>\n",
       "      <th>0</th>\n",
       "      <td>0</td>\n",
       "      <td>0.0</td>\n",
       "      <td>0</td>\n",
       "      <td>1</td>\n",
       "      <td>0.0</td>\n",
       "      <td>0</td>\n",
       "      <td>0</td>\n",
       "      <td>0</td>\n",
       "    </tr>\n",
       "    <tr>\n",
       "      <th>1</th>\n",
       "      <td>0</td>\n",
       "      <td>3.0</td>\n",
       "      <td>3</td>\n",
       "      <td>1</td>\n",
       "      <td>0.0</td>\n",
       "      <td>1</td>\n",
       "      <td>0</td>\n",
       "      <td>1</td>\n",
       "    </tr>\n",
       "    <tr>\n",
       "      <th>2</th>\n",
       "      <td>0</td>\n",
       "      <td>0.0</td>\n",
       "      <td>0</td>\n",
       "      <td>1</td>\n",
       "      <td>1.0</td>\n",
       "      <td>0</td>\n",
       "      <td>0</td>\n",
       "      <td>0</td>\n",
       "    </tr>\n",
       "    <tr>\n",
       "      <th>3</th>\n",
       "      <td>0</td>\n",
       "      <td>4.0</td>\n",
       "      <td>3</td>\n",
       "      <td>2</td>\n",
       "      <td>0.0</td>\n",
       "      <td>0</td>\n",
       "      <td>0</td>\n",
       "      <td>1</td>\n",
       "    </tr>\n",
       "    <tr>\n",
       "      <th>4</th>\n",
       "      <td>0</td>\n",
       "      <td>1.0</td>\n",
       "      <td>1</td>\n",
       "      <td>1</td>\n",
       "      <td>2.0</td>\n",
       "      <td>0</td>\n",
       "      <td>0</td>\n",
       "      <td>0</td>\n",
       "    </tr>\n",
       "  </tbody>\n",
       "</table>\n",
       "</div>"
      ],
      "text/plain": [
       "   Ataque_cardiaco  Edad  IMC  FFumador_Encoded  Promedio_nivel_glucosa  \\\n",
       "0                0   0.0    0                 1                     0.0   \n",
       "1                0   3.0    3                 1                     0.0   \n",
       "2                0   0.0    0                 1                     1.0   \n",
       "3                0   4.0    3                 2                     0.0   \n",
       "4                0   1.0    1                 1                     2.0   \n",
       "\n",
       "   Flag_hipertension  Flag_problem_cardiaco  EstadoC_Encoded  \n",
       "0                  0                      0                0  \n",
       "1                  1                      0                1  \n",
       "2                  0                      0                0  \n",
       "3                  0                      0                1  \n",
       "4                  0                      0                0  "
      ]
     },
     "execution_count": 109,
     "metadata": {},
     "output_type": "execute_result"
    }
   ],
   "source": [
    "infartos_encoded_Final.head()"
   ]
  },
  {
   "cell_type": "code",
   "execution_count": 120,
   "metadata": {},
   "outputs": [
    {
     "name": "stdout",
     "output_type": "stream",
     "text": [
      "No Infarto\n"
     ]
    },
    {
     "name": "stderr",
     "output_type": "stream",
     "text": [
      "c:\\Python311\\Lib\\site-packages\\sklearn\\base.py:465: UserWarning: X does not have valid feature names, but RandomForestClassifier was fitted with feature names\n",
      "  warnings.warn(\n"
     ]
    }
   ],
   "source": [
    "persona = [2, 1, 3, 0, 0, 1, 0]\n",
    "predi = model5.predict([persona])\n",
    "\n",
    "if predi[0] == 1:\n",
    "    print('Infarto')\n",
    "else:\n",
    "    print('No Infarto')"
   ]
  }
 ],
 "metadata": {
  "kernelspec": {
   "display_name": "Python 3",
   "language": "python",
   "name": "python3"
  },
  "language_info": {
   "codemirror_mode": {
    "name": "ipython",
    "version": 3
   },
   "file_extension": ".py",
   "mimetype": "text/x-python",
   "name": "python",
   "nbconvert_exporter": "python",
   "pygments_lexer": "ipython3",
   "version": "3.11.5"
  },
  "orig_nbformat": 4
 },
 "nbformat": 4,
 "nbformat_minor": 2
}
